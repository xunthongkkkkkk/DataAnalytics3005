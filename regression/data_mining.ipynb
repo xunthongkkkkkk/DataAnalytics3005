{
 "cells": [
  {
   "attachments": {},
   "cell_type": "markdown",
   "metadata": {},
   "source": [
    "__1. Set up data mining environment__\n",
    "\n",
    "Load the processed data, remove unnecessary attributes, rename attributes for ease of referencing"
   ]
  },
  {
   "cell_type": "code",
   "execution_count": 7,
   "metadata": {},
   "outputs": [
    {
     "name": "stdout",
     "output_type": "stream",
     "text": [
      "(65006, 4)\n"
     ]
    },
    {
     "data": {
      "text/html": [
       "<div>\n",
       "<style scoped>\n",
       "    .dataframe tbody tr th:only-of-type {\n",
       "        vertical-align: middle;\n",
       "    }\n",
       "\n",
       "    .dataframe tbody tr th {\n",
       "        vertical-align: top;\n",
       "    }\n",
       "\n",
       "    .dataframe thead th {\n",
       "        text-align: right;\n",
       "    }\n",
       "</style>\n",
       "<table border=\"1\" class=\"dataframe\">\n",
       "  <thead>\n",
       "    <tr style=\"text-align: right;\">\n",
       "      <th></th>\n",
       "      <th>SHOT_ID</th>\n",
       "      <th>X</th>\n",
       "      <th>Y</th>\n",
       "      <th>Z</th>\n",
       "    </tr>\n",
       "  </thead>\n",
       "  <tbody>\n",
       "    <tr>\n",
       "      <th>0</th>\n",
       "      <td>1</td>\n",
       "      <td>4.075543</td>\n",
       "      <td>1.000000</td>\n",
       "      <td>1.662912</td>\n",
       "    </tr>\n",
       "    <tr>\n",
       "      <th>1</th>\n",
       "      <td>1</td>\n",
       "      <td>4.152007</td>\n",
       "      <td>1.000000</td>\n",
       "      <td>1.724866</td>\n",
       "    </tr>\n",
       "    <tr>\n",
       "      <th>2</th>\n",
       "      <td>1</td>\n",
       "      <td>4.228906</td>\n",
       "      <td>1.000000</td>\n",
       "      <td>1.788139</td>\n",
       "    </tr>\n",
       "    <tr>\n",
       "      <th>3</th>\n",
       "      <td>1</td>\n",
       "      <td>4.302100</td>\n",
       "      <td>1.000000</td>\n",
       "      <td>1.845245</td>\n",
       "    </tr>\n",
       "    <tr>\n",
       "      <th>4</th>\n",
       "      <td>1</td>\n",
       "      <td>4.376877</td>\n",
       "      <td>1.000000</td>\n",
       "      <td>1.904128</td>\n",
       "    </tr>\n",
       "    <tr>\n",
       "      <th>...</th>\n",
       "      <td>...</td>\n",
       "      <td>...</td>\n",
       "      <td>...</td>\n",
       "      <td>...</td>\n",
       "    </tr>\n",
       "    <tr>\n",
       "      <th>65001</th>\n",
       "      <td>448</td>\n",
       "      <td>8.953783</td>\n",
       "      <td>8.783813</td>\n",
       "      <td>1.096171</td>\n",
       "    </tr>\n",
       "    <tr>\n",
       "      <th>65002</th>\n",
       "      <td>448</td>\n",
       "      <td>8.968729</td>\n",
       "      <td>8.798245</td>\n",
       "      <td>0.870647</td>\n",
       "    </tr>\n",
       "    <tr>\n",
       "      <th>65003</th>\n",
       "      <td>448</td>\n",
       "      <td>8.984867</td>\n",
       "      <td>8.813831</td>\n",
       "      <td>0.639024</td>\n",
       "    </tr>\n",
       "    <tr>\n",
       "      <th>65004</th>\n",
       "      <td>448</td>\n",
       "      <td>9.001328</td>\n",
       "      <td>8.829726</td>\n",
       "      <td>0.398100</td>\n",
       "    </tr>\n",
       "    <tr>\n",
       "      <th>65005</th>\n",
       "      <td>448</td>\n",
       "      <td>9.017476</td>\n",
       "      <td>8.845321</td>\n",
       "      <td>0.153134</td>\n",
       "    </tr>\n",
       "  </tbody>\n",
       "</table>\n",
       "<p>65006 rows × 4 columns</p>\n",
       "</div>"
      ],
      "text/plain": [
       "       SHOT_ID         X         Y         Z\n",
       "0            1  4.075543  1.000000  1.662912\n",
       "1            1  4.152007  1.000000  1.724866\n",
       "2            1  4.228906  1.000000  1.788139\n",
       "3            1  4.302100  1.000000  1.845245\n",
       "4            1  4.376877  1.000000  1.904128\n",
       "...        ...       ...       ...       ...\n",
       "65001      448  8.953783  8.783813  1.096171\n",
       "65002      448  8.968729  8.798245  0.870647\n",
       "65003      448  8.984867  8.813831  0.639024\n",
       "65004      448  9.001328  8.829726  0.398100\n",
       "65005      448  9.017476  8.845321  0.153134\n",
       "\n",
       "[65006 rows x 4 columns]"
      ]
     },
     "execution_count": 7,
     "metadata": {},
     "output_type": "execute_result"
    }
   ],
   "source": [
    "import pandas as pd\n",
    "import math, random\n",
    "import matplotlib.pyplot as plt\n",
    "from sklearn.preprocessing import MinMaxScaler\n",
    "from sklearn.model_selection import train_test_split\n",
    "import numpy as np\n",
    "\n",
    "# Specify the input CSV file and row number to split at\n",
    "input_file = 'merged_datasets.csv'\n",
    "# Function to separate CSV based on row number\n",
    "\n",
    "# Read the input CSV file\n",
    "df = pd.read_csv(input_file, header=\"infer\")\n",
    "\n",
    "# Split the DataFrame based on the row number\n",
    "df = df.drop(columns=[\"HUMAN PLAYER POSITION (X) metres\",\"HUMAN PLAYER POSITION (Y) metres\",\"INITITAL VELOCITY OF SHUTTELCOCK(m/s)\",\"INITIAL SHUTTELCOCK FIRING ANGLE (DEGREE)\",\"SHUTTELCOCK SLANT ANGLE TO SIDELINE(DEGREE)\",\"OUT_OF_COURT_SHOTS\"])\n",
    "df = df.rename(columns={\"SHUTTLECOCK POSITIION IN AIR(X ) metres\":\"X\",\"SHUTTLECOCK POSITIION IN AIR(Y) metres\":\"Y\",\"SHUTTLECOCK POSITIION IN AIR(Z) metres\":\"Z\"})\n",
    "\n",
    "print(df.shape)\n",
    "df"
   ]
  },
  {
   "attachments": {},
   "cell_type": "markdown",
   "metadata": {},
   "source": [
    "__2. Create training and testing set__\n",
    "\n",
    "70:30 split used"
   ]
  },
  {
   "cell_type": "code",
   "execution_count": 8,
   "metadata": {},
   "outputs": [
    {
     "name": "stdout",
     "output_type": "stream",
     "text": [
      "448\n",
      "224\n",
      "   SHOT_ID         X    Y         Z\n",
      "0        1  4.075543  1.0  1.662912\n",
      "1        1  4.152007  1.0  1.724866\n",
      "2        1  4.228906  1.0  1.788139\n",
      "3        1  4.302100  1.0  1.845245\n",
      "4        1  4.376877  1.0  1.904128\n",
      "       SHOT_ID         X         Y         Z\n",
      "30838      225  4.050935  4.005353  1.685103\n",
      "30839      225  4.099738  4.010483  1.771975\n",
      "30840      225  4.149233  4.015685  1.854047\n",
      "30841      225  4.198433  4.020856  1.933066\n",
      "30842      225  4.247436  4.026007  2.011628\n"
     ]
    }
   ],
   "source": [
    "numShots = df[\"SHOT_ID\"].max()\n",
    "print(numShots)\n",
    "trainsetSize = int(numShots*0.7)\n",
    "print(trainsetSize)\n",
    "testsetSize = numShots-trainsetSize\n",
    "traindata = df.loc[df[\"SHOT_ID\"]<= trainsetSize]\n",
    "testdata = df.loc[df[\"SHOT_ID\"] > trainsetSize]\n",
    "print(traindata.head())\n",
    "print(testdata.head())"
   ]
  },
  {
   "attachments": {},
   "cell_type": "markdown",
   "metadata": {},
   "source": [
    "__3. Scale data to normalise__"
   ]
  },
  {
   "cell_type": "code",
   "execution_count": 3,
   "metadata": {},
   "outputs": [
    {
     "name": "stdout",
     "output_type": "stream",
     "text": [
      "   SHOT_ID         X    Y         Z\n",
      "0        1  0.005135  0.0  0.294019\n",
      "1        1  0.019376  0.0  0.305632\n",
      "2        1  0.033698  0.0  0.317492\n",
      "3        1  0.047329  0.0  0.328197\n",
      "4        1  0.061256  0.0  0.339234\n",
      "       SHOT_ID         X         Y         Z\n",
      "30838      225  0.000801  0.376565  0.250970\n",
      "30839      225  0.010615  0.377207  0.264685\n",
      "30840      225  0.020569  0.377859  0.277643\n",
      "30841      225  0.030463  0.378507  0.290119\n",
      "30842      225  0.040318  0.379152  0.302522\n"
     ]
    },
    {
     "name": "stderr",
     "output_type": "stream",
     "text": [
      "C:\\Users\\Esther\\AppData\\Local\\Temp\\ipykernel_28652\\3751249483.py:2: SettingWithCopyWarning: \n",
      "A value is trying to be set on a copy of a slice from a DataFrame.\n",
      "Try using .loc[row_indexer,col_indexer] = value instead\n",
      "\n",
      "See the caveats in the documentation: https://pandas.pydata.org/pandas-docs/stable/user_guide/indexing.html#returning-a-view-versus-a-copy\n",
      "  traindata[[\"X\",\"Y\",\"Z\"]] = scale.fit_transform(traindata[[\"X\",\"Y\",\"Z\"]])\n",
      "C:\\Users\\Esther\\AppData\\Local\\Temp\\ipykernel_28652\\3751249483.py:3: SettingWithCopyWarning: \n",
      "A value is trying to be set on a copy of a slice from a DataFrame.\n",
      "Try using .loc[row_indexer,col_indexer] = value instead\n",
      "\n",
      "See the caveats in the documentation: https://pandas.pydata.org/pandas-docs/stable/user_guide/indexing.html#returning-a-view-versus-a-copy\n",
      "  testdata[[\"X\",\"Y\",\"Z\"]] = scale.fit_transform(testdata[[\"X\",\"Y\",\"Z\"]])\n"
     ]
    }
   ],
   "source": [
    "scale = MinMaxScaler()\n",
    "traindata[[\"X\",\"Y\",\"Z\"]] = scale.fit_transform(traindata[[\"X\",\"Y\",\"Z\"]])\n",
    "testdata[[\"X\",\"Y\",\"Z\"]] = scale.fit_transform(testdata[[\"X\",\"Y\",\"Z\"]])\n",
    "print(traindata.head())\n",
    "print(testdata.head())"
   ]
  },
  {
   "attachments": {},
   "cell_type": "markdown",
   "metadata": {},
   "source": [
    "__4. Functions to create X_train, Y_train, X_test and Y_test__\n",
    "\n",
    "prepare_data(): Create feature set (X,Y,Z) and class labels (adjacent X,Y,Z)\n",
    "\n",
    "prepare_data_deltas(): Create feature set (deltaX, deltaY, deltaZ) and class labels (adjacent deltaX, deltaY, deltaZ)"
   ]
  },
  {
   "cell_type": "code",
   "execution_count": 4,
   "metadata": {},
   "outputs": [],
   "source": [
    "# Individual data points in X, Y\n",
    "def prepare_data(data):\n",
    "    X = []\n",
    "    Y = []\n",
    "    for shot_id in data['SHOT_ID'].unique(): # for each shot id\n",
    "        shot_data = data.loc[data['SHOT_ID'] == shot_id][['X', 'Y', 'Z']].values\n",
    "        for i in range(len(shot_data)):\n",
    "            X.append(shot_data[i]) # get 1 set of datapoints\n",
    "            Y.append(shot_data[i+1]) # get set of values that the datapoints should predict\n",
    "    X = np.array(X)\n",
    "    X = X.reshape(-1, 3)\n",
    "    Y = np.array(Y)\n",
    "    Y = Y.reshape(-1, 3)\n",
    "    print(X.shape, Y.shape)\n",
    "    return X, Y\n",
    "\n",
    "# Delta between consecutive data points in X, Y\n",
    "def prepare_data_deltas(data):\n",
    "    X = []\n",
    "    Y = []\n",
    "    for shot_id in data['SHOT_ID'].unique(): # for each shot id\n",
    "        shot_data = (data.loc[data['SHOT_ID'] == shot_id][['X', 'Y', 'Z']].values) # get xyz\n",
    "        for i in range(len(shot_data)):\n",
    "            X1 = shot_data[i]\n",
    "            X2 = shot_data[i+1] \n",
    "            X.append(X2 - X1)\n",
    "            Y1 = shot_data[i+1]\n",
    "            Y2 = shot_data[i+2]\n",
    "            Y.append(Y2 - Y1)\n",
    "    X = np.array(X, dtype=object)\n",
    "    X = np.concatenate(X)\n",
    "    X = X.reshape(-1, 3)\n",
    "    Y = np.array(Y, dtype=object)\n",
    "    Y = np.concatenate(Y)\n",
    "    Y = Y.reshape(-1, 3)\n",
    "    # final shape should be n rows of 3\n",
    "    print(X.shape, Y.shape)\n",
    "    return X, Y"
   ]
  },
  {
   "attachments": {},
   "cell_type": "markdown",
   "metadata": {},
   "source": [
    "__5. Create X_train, Y_train, X_test, Y_test__\n",
    "\n",
    "Sequence length dictates how many data points to use per shot\n",
    "\n",
    "_For prepare_data():_\n",
    "\n",
    "  - Attribute set contains 0..n XYZ values for each shot, and class labels containing 1..n+1 XYZ values of each shot\n",
    "\n",
    "_For prepare_data_deltas():_\n",
    "\n",
    "  - Attribute set contains n XYZ values for each shot, referring to i+1['X'] - i['X']. i+1['Y'] - i['Y'] and so on for values i in 0 to n.\n",
    "\n",
    "  - Class labels contain n XYZ values for each shot, referring to i+2['X'] - i+1['X'], similar for Y and Z, for values i in 0 to n."
   ]
  },
  {
   "cell_type": "code",
   "execution_count": 5,
   "metadata": {},
   "outputs": [
    {
     "name": "stdout",
     "output_type": "stream",
     "text": [
      "(20484, 3) (20484, 3)\n",
      "(22770, 3) (22770, 3)\n",
      "(20484, 3) (20484, 3)\n",
      "(22770, 3) (22770, 3)\n"
     ]
    }
   ],
   "source": [
    "X_train, Y_train = prepare_data(traindata)\n",
    "\n",
    "X_test, Y_test = prepare_data(testdata)\n",
    "\n",
    "X_delta_train, Y_delta_train = prepare_data_deltas(traindata)\n",
    "\n",
    "X_delta_test, Y_delta_test = prepare_data_deltas(testdata)\n"
   ]
  },
  {
   "attachments": {},
   "cell_type": "markdown",
   "metadata": {},
   "source": [
    "__6. Gaussian Process Regressor 1 (prepare_data())__\n",
    "\n",
    "Train Gaussian Regressor on X_train and Y_train obtained through prepare_data()"
   ]
  },
  {
   "cell_type": "code",
   "execution_count": null,
   "metadata": {},
   "outputs": [],
   "source": [
    "from sklearn.gaussian_process import GaussianProcessRegressor\n",
    "from sklearn.gaussian_process.kernels import RBF\n",
    "import joblib\n",
    "\n",
    "kernel = RBF()\n",
    "gpr = GaussianProcessRegressor(kernel=kernel)\n",
    "gpr.X_train_ = X_train\n",
    "gpr.y_train_ = Y_train\n",
    "gpr.n_features_in_ = 3\n",
    "gpr.fit(X_train, Y_train)\n",
    "joblib.dump(gpr, 'gpr.pkl')\n"
   ]
  },
  {
   "attachments": {},
   "cell_type": "markdown",
   "metadata": {},
   "source": [
    "__7. Gaussian Process Regressor 1 Performance__\n",
    "\n",
    "GPR prediction, RMSE and plot"
   ]
  },
  {
   "cell_type": "code",
   "execution_count": null,
   "metadata": {},
   "outputs": [],
   "source": [
    "# Convert predictions back to original scale for plotting\n",
    "from sklearn.metrics import mean_squared_error\n",
    "\n",
    "Y_pred = gpr.predict(X_test)\n",
    "\n",
    "Y_test_inv = scale.inverse_transform(Y_test)\n",
    "Y_pred_inv = scale.inverse_transform(Y_pred)\n",
    "\n",
    "# Evaluate the model\n",
    "mse = mean_squared_error(Y_test, Y_pred)\n",
    "rmse = np.sqrt(mse)\n",
    "\n",
    "print('Mean Squared Error:', mse)\n",
    "print('Root Mean Squared Error:', rmse)\n",
    "\n",
    "# 3D Plot\n",
    "fig = plt.figure()\n",
    "ax = fig.add_subplot(111, projection='3d')\n",
    "ax.set_xlabel('X')\n",
    "ax.set_ylabel('Y')\n",
    "ax.set_zlabel('Z')\n",
    "\n",
    "ax.scatter(Y_test_inv[:,0], Y_test_inv[:,1], Y_test_inv[:,2], color='b', label='Actual')\n",
    "ax.scatter(Y_pred_inv[:,0], Y_pred_inv[:,1], Y_pred_inv[:,2], color='r',label='Predicted')\n",
    "plt.legend()\n",
    "plt.show()"
   ]
  },
  {
   "attachments": {},
   "cell_type": "markdown",
   "metadata": {},
   "source": [
    "__8. Gaussian Process Regressor 2 (predict_data_deltas())__\n",
    "\n",
    "GPR_delta model, trained on X_delta_train and Y_delta_trained"
   ]
  },
  {
   "cell_type": "code",
   "execution_count": 33,
   "metadata": {},
   "outputs": [
    {
     "name": "stderr",
     "output_type": "stream",
     "text": [
      "c:\\Users\\Esther\\anaconda3\\lib\\site-packages\\sklearn\\gaussian_process\\_gpr.py:610: ConvergenceWarning: lbfgs failed to converge (status=2):\n",
      "ABNORMAL_TERMINATION_IN_LNSRCH.\n",
      "\n",
      "Increase the number of iterations (max_iter) or scale the data as shown in:\n",
      "    https://scikit-learn.org/stable/modules/preprocessing.html\n",
      "  _check_optimize_result(\"lbfgs\", opt_res)\n"
     ]
    },
    {
     "data": {
      "text/plain": [
       "GaussianProcessRegressor(kernel=RBF(length_scale=1))"
      ]
     },
     "execution_count": 33,
     "metadata": {},
     "output_type": "execute_result"
    }
   ],
   "source": [
    "from sklearn.gaussian_process import GaussianProcessRegressor\n",
    "from sklearn.gaussian_process.kernels import RBF\n",
    "import joblib\n",
    "\n",
    "kernel = RBF()\n",
    "gpr_delta = GaussianProcessRegressor(kernel=kernel)\n",
    "gpr_delta.X_train_ = X_delta_train\n",
    "gpr_delta.y_train_ = Y_delta_train\n",
    "gpr_delta.n_features_in_ = 3\n",
    "gpr_delta.fit(X_delta_train, Y_delta_train)\n",
    "joblib.dump(gpr_delta, 'gpr_delta.pkl')"
   ]
  },
  {
   "attachments": {},
   "cell_type": "markdown",
   "metadata": {},
   "source": [
    "__9. GPR2 Performance__\n",
    "\n",
    "GPR prediction, RMSE and plot"
   ]
  },
  {
   "cell_type": "code",
   "execution_count": 38,
   "metadata": {},
   "outputs": [
    {
     "name": "stdout",
     "output_type": "stream",
     "text": [
      "Mean Squared Error: 0.12942557522113565\n",
      "Root Mean Squared Error: 0.3597576617962926\n"
     ]
    },
    {
     "data": {
      "image/png": "[encoded data removed]",
      "text/plain": [
       "<Figure size 640x480 with 1 Axes>"
      ]
     },
     "metadata": {},
     "output_type": "display_data"
    }
   ],
   "source": [
    "# Convert predictions back to original scale for plotting\n",
    "from sklearn.metrics import mean_squared_error\n",
    "\n",
    "Y_pred = gpr_delta.predict(X_delta_test)\n",
    "\n",
    "Y_test_inv = scale.inverse_transform(Y_test)\n",
    "Y_pred_inv = scale.inverse_transform(Y_pred)\n",
    "\n",
    "# Evaluate the model\n",
    "mse = mean_squared_error(Y_test, Y_pred)\n",
    "rmse = np.sqrt(mse)\n",
    "\n",
    "print('Mean Squared Error:', mse)\n",
    "print('Root Mean Squared Error:', rmse)\n",
    "\n",
    "# 3D Plot\n",
    "fig = plt.figure()\n",
    "ax = fig.add_subplot(111, projection='3d')\n",
    "ax.set_xlabel('X')\n",
    "ax.set_ylabel('Y')\n",
    "ax.set_zlabel('Z')\n",
    "\n",
    "ax.scatter(Y_test_inv[:,0], Y_test_inv[:,1], Y_test_inv[:,2], color='b', label='Actual')\n",
    "ax.scatter(Y_pred_inv[:,0], Y_pred_inv[:,1], Y_pred_inv[:,2], color='r',label='Predicted')\n",
    "plt.legend()\n",
    "plt.show()"
   ]
  },
  {
   "cell_type": "code",
   "execution_count": 22,
   "metadata": {},
   "outputs": [
    {
     "data": {
      "text/plain": [
       "0.9999999838022159"
      ]
     },
     "execution_count": 22,
     "metadata": {},
     "output_type": "execute_result"
    }
   ],
   "source": [
    "gpr.score(X_train, Y_train)\n",
    "# joblib.dump(gpr, 'gaussian_process_model.pkl') # OSError: [Errno 28] No space left on device"
   ]
  },
  {
   "attachments": {},
   "cell_type": "markdown",
   "metadata": {},
   "source": [
    "__10. Select GPR model and use for prediction__"
   ]
  },
  {
   "attachments": {},
   "cell_type": "markdown",
   "metadata": {},
   "source": [
    "GPR1: Given 1 point, predict the next."
   ]
  },
  {
   "cell_type": "code",
   "execution_count": null,
   "metadata": {},
   "outputs": [],
   "source": [
    "def predict_next_point(dataArr):\n",
    "    for data in dataArr:\n",
    "        diff = dataArr[data+1] - dataArr[data]\n",
    "        diffPredict = gpr_delta.predict(diff)\n",
    "    return diffPredict"
   ]
  }
 ],
 "metadata": {
  "kernelspec": {
   "display_name": "Python 3 (ipykernel)",
   "language": "python",
   "name": "python3"
  },
  "language_info": {
   "codemirror_mode": {
    "name": "ipython",
    "version": 3
   },
   "file_extension": ".py",
   "mimetype": "text/x-python",
   "name": "python",
   "nbconvert_exporter": "python",
   "pygments_lexer": "ipython3",
   "version": "3.9.13"
  }
 },
 "nbformat": 4,
 "nbformat_minor": 2
}
