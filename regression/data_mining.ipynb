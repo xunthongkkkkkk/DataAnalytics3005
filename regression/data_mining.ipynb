{
 "cells": [
  {
   "attachments": {},
   "cell_type": "markdown",
   "metadata": {},
   "source": [
    "### Pre-mining data processing\n",
    "\n",
    "Remove unnecessary attributes, rename attributes for ease of referencing"
   ]
  },
  {
   "cell_type": "code",
   "execution_count": 3,
   "metadata": {},
   "outputs": [
    {
     "name": "stdout",
     "output_type": "stream",
     "text": [
      "(91348, 4)\n"
     ]
    },
    {
     "data": {
      "text/html": [
       "<div>\n",
       "<style scoped>\n",
       "    .dataframe tbody tr th:only-of-type {\n",
       "        vertical-align: middle;\n",
       "    }\n",
       "\n",
       "    .dataframe tbody tr th {\n",
       "        vertical-align: top;\n",
       "    }\n",
       "\n",
       "    .dataframe thead th {\n",
       "        text-align: right;\n",
       "    }\n",
       "</style>\n",
       "<table border=\"1\" class=\"dataframe\">\n",
       "  <thead>\n",
       "    <tr style=\"text-align: right;\">\n",
       "      <th></th>\n",
       "      <th>SHOT_ID</th>\n",
       "      <th>X</th>\n",
       "      <th>Y</th>\n",
       "      <th>Z</th>\n",
       "    </tr>\n",
       "  </thead>\n",
       "  <tbody>\n",
       "    <tr>\n",
       "      <th>0</th>\n",
       "      <td>1</td>\n",
       "      <td>4.075543</td>\n",
       "      <td>1.000000</td>\n",
       "      <td>1.662912</td>\n",
       "    </tr>\n",
       "    <tr>\n",
       "      <th>1</th>\n",
       "      <td>1</td>\n",
       "      <td>4.152007</td>\n",
       "      <td>1.000000</td>\n",
       "      <td>1.724866</td>\n",
       "    </tr>\n",
       "    <tr>\n",
       "      <th>2</th>\n",
       "      <td>1</td>\n",
       "      <td>4.228906</td>\n",
       "      <td>1.000000</td>\n",
       "      <td>1.788139</td>\n",
       "    </tr>\n",
       "    <tr>\n",
       "      <th>3</th>\n",
       "      <td>1</td>\n",
       "      <td>4.302100</td>\n",
       "      <td>1.000000</td>\n",
       "      <td>1.845245</td>\n",
       "    </tr>\n",
       "    <tr>\n",
       "      <th>4</th>\n",
       "      <td>1</td>\n",
       "      <td>4.376877</td>\n",
       "      <td>1.000000</td>\n",
       "      <td>1.904128</td>\n",
       "    </tr>\n",
       "    <tr>\n",
       "      <th>...</th>\n",
       "      <td>...</td>\n",
       "      <td>...</td>\n",
       "      <td>...</td>\n",
       "      <td>...</td>\n",
       "    </tr>\n",
       "    <tr>\n",
       "      <th>91343</th>\n",
       "      <td>658</td>\n",
       "      <td>8.061748</td>\n",
       "      <td>8.840603</td>\n",
       "      <td>6.084177</td>\n",
       "    </tr>\n",
       "    <tr>\n",
       "      <th>91344</th>\n",
       "      <td>658</td>\n",
       "      <td>8.088022</td>\n",
       "      <td>8.871915</td>\n",
       "      <td>6.044289</td>\n",
       "    </tr>\n",
       "    <tr>\n",
       "      <th>91345</th>\n",
       "      <td>658</td>\n",
       "      <td>8.111243</td>\n",
       "      <td>8.899588</td>\n",
       "      <td>6.001045</td>\n",
       "    </tr>\n",
       "    <tr>\n",
       "      <th>91346</th>\n",
       "      <td>658</td>\n",
       "      <td>8.138342</td>\n",
       "      <td>8.931884</td>\n",
       "      <td>5.952024</td>\n",
       "    </tr>\n",
       "    <tr>\n",
       "      <th>91347</th>\n",
       "      <td>658</td>\n",
       "      <td>8.163184</td>\n",
       "      <td>8.961490</td>\n",
       "      <td>5.902338</td>\n",
       "    </tr>\n",
       "  </tbody>\n",
       "</table>\n",
       "<p>91348 rows × 4 columns</p>\n",
       "</div>"
      ],
      "text/plain": [
       "       SHOT_ID         X         Y         Z\n",
       "0            1  4.075543  1.000000  1.662912\n",
       "1            1  4.152007  1.000000  1.724866\n",
       "2            1  4.228906  1.000000  1.788139\n",
       "3            1  4.302100  1.000000  1.845245\n",
       "4            1  4.376877  1.000000  1.904128\n",
       "...        ...       ...       ...       ...\n",
       "91343      658  8.061748  8.840603  6.084177\n",
       "91344      658  8.088022  8.871915  6.044289\n",
       "91345      658  8.111243  8.899588  6.001045\n",
       "91346      658  8.138342  8.931884  5.952024\n",
       "91347      658  8.163184  8.961490  5.902338\n",
       "\n",
       "[91348 rows x 4 columns]"
      ]
     },
     "execution_count": 3,
     "metadata": {},
     "output_type": "execute_result"
    }
   ],
   "source": [
    "import pandas as pd\n",
    "import math, random\n",
    "import matplotlib.pyplot as plt\n",
    "from sklearn.preprocessing import MinMaxScaler\n",
    "from sklearn.model_selection import train_test_split\n",
    "import numpy as np\n",
    "\n",
    "# Specify the input CSV file and row number to split at\n",
    "input_file = 'merged_datasets.csv'\n",
    "# Function to separate CSV based on row number\n",
    "\n",
    "# Read the input CSV file\n",
    "df = pd.read_csv(input_file)\n",
    "\n",
    "# Split the DataFrame based on the row number\n",
    "df = df.drop(columns=[\"HUMAN PLAYER POSITION (X) metres\",\"HUMAN PLAYER POSITION (Y) metres\",\"INITITAL VELOCITY OF SHUTTELCOCK(m/s)\",\"INITIAL SHUTTELCOCK FIRING ANGLE (DEGREE)\",\"SHUTTELCOCK SLANT ANGLE TO SIDELINE(DEGREE)\",\"OUT_OF_COURT_SHOTS\"])\n",
    "df = df.rename(columns={\"SHUTTLECOCK POSITIION IN AIR(X ) metres\":\"X\",\"SHUTTLECOCK POSITIION IN AIR(Y) metres\":\"Y\",\"SHUTTLECOCK POSITIION IN AIR(Z) metres\":\"Z\"})\n",
    "\n",
    "print(df.shape)\n",
    "df"
   ]
  },
  {
   "attachments": {},
   "cell_type": "markdown",
   "metadata": {},
   "source": [
    "Create training and testing set"
   ]
  },
  {
   "cell_type": "code",
   "execution_count": 4,
   "metadata": {},
   "outputs": [
    {
     "name": "stdout",
     "output_type": "stream",
     "text": [
      "658\n",
      "460\n",
      "   SHOT_ID         X    Y         Z\n",
      "0        1  4.075543  1.0  1.662912\n",
      "1        1  4.152007  1.0  1.724866\n",
      "2        1  4.228906  1.0  1.788139\n",
      "3        1  4.302100  1.0  1.845245\n",
      "4        1  4.376877  1.0  1.904128\n",
      "       SHOT_ID         X         Y         Z\n",
      "61196      461  4.050120  1.005268  2.685985\n",
      "61197      461  4.099803  1.010490  2.770552\n",
      "61198      461  4.147361  1.015488  2.853052\n",
      "61199      461  4.197503  1.020758  2.934503\n",
      "61200      461  4.245438  1.025797  3.013947\n"
     ]
    }
   ],
   "source": [
    "numShots = df[\"SHOT_ID\"].max()\n",
    "print(numShots)\n",
    "trainsetSize = int(numShots*0.7)\n",
    "print(trainsetSize)\n",
    "testsetSize = numShots-trainsetSize\n",
    "traindata = df.loc[df[\"SHOT_ID\"]<= trainsetSize]\n",
    "testdata = df.loc[df[\"SHOT_ID\"] > trainsetSize]\n",
    "print(traindata.head())\n",
    "print(testdata.head())"
   ]
  },
  {
   "attachments": {},
   "cell_type": "markdown",
   "metadata": {},
   "source": [
    "Scale data to normalise"
   ]
  },
  {
   "cell_type": "code",
   "execution_count": 6,
   "metadata": {},
   "outputs": [
    {
     "name": "stdout",
     "output_type": "stream",
     "text": [
      "   SHOT_ID         X    Y         Z\n",
      "0        1  0.005270  0.0  0.247642\n",
      "1        1  0.019367  0.0  0.257424\n",
      "2        1  0.033543  0.0  0.267413\n",
      "3        1  0.047036  0.0  0.276429\n",
      "4        1  0.060821  0.0  0.285726\n",
      "       SHOT_ID         X         Y         Z\n",
      "61196      461  0.000605  0.000000  0.403795\n",
      "61197      461  0.010597  0.000654  0.417263\n",
      "61198      461  0.020161  0.001281  0.430403\n",
      "61199      461  0.030245  0.001941  0.443376\n",
      "61200      461  0.039886  0.002573  0.456029\n"
     ]
    },
    {
     "name": "stderr",
     "output_type": "stream",
     "text": [
      "C:\\Users\\Esther\\AppData\\Local\\Temp\\ipykernel_34792\\3751249483.py:2: SettingWithCopyWarning: \n",
      "A value is trying to be set on a copy of a slice from a DataFrame.\n",
      "Try using .loc[row_indexer,col_indexer] = value instead\n",
      "\n",
      "See the caveats in the documentation: https://pandas.pydata.org/pandas-docs/stable/user_guide/indexing.html#returning-a-view-versus-a-copy\n",
      "  traindata[[\"X\",\"Y\",\"Z\"]] = scale.fit_transform(traindata[[\"X\",\"Y\",\"Z\"]])\n",
      "C:\\Users\\Esther\\AppData\\Local\\Temp\\ipykernel_34792\\3751249483.py:3: SettingWithCopyWarning: \n",
      "A value is trying to be set on a copy of a slice from a DataFrame.\n",
      "Try using .loc[row_indexer,col_indexer] = value instead\n",
      "\n",
      "See the caveats in the documentation: https://pandas.pydata.org/pandas-docs/stable/user_guide/indexing.html#returning-a-view-versus-a-copy\n",
      "  testdata[[\"X\",\"Y\",\"Z\"]] = scale.fit_transform(testdata[[\"X\",\"Y\",\"Z\"]])\n"
     ]
    }
   ],
   "source": [
    "scale = MinMaxScaler()\n",
    "traindata[[\"X\",\"Y\",\"Z\"]] = scale.fit_transform(traindata[[\"X\",\"Y\",\"Z\"]])\n",
    "testdata[[\"X\",\"Y\",\"Z\"]] = scale.fit_transform(testdata[[\"X\",\"Y\",\"Z\"]])\n",
    "print(traindata.head())\n",
    "print(testdata.head())"
   ]
  },
  {
   "attachments": {},
   "cell_type": "markdown",
   "metadata": {},
   "source": [
    "prepare_data function to create attribute set (X,Y,Z) and class labels"
   ]
  },
  {
   "cell_type": "code",
   "execution_count": 7,
   "metadata": {},
   "outputs": [],
   "source": [
    "def prepare_data(data, sequence_length):\n",
    "    X = []\n",
    "    Y = []\n",
    "    for shot_id in data['SHOT_ID'].unique():\n",
    "        shot_data = data.loc[data['SHOT_ID'] == shot_id][['X', 'Y', 'Z']].values\n",
    "        for i in range(len(shot_data) - sequence_length):\n",
    "            sequence = shot_data[i:i+sequence_length]\n",
    "            X.append(sequence)\n",
    "            Y.append(shot_data[i+sequence_length])\n",
    "    X = np.array(X)\n",
    "    Y = np.array(Y)\n",
    "    print(X, Y)\n",
    "    return X, Y"
   ]
  },
  {
   "attachments": {},
   "cell_type": "markdown",
   "metadata": {},
   "source": [
    "Create training/testing set containing the 1st 15 XYZ values for each shot, and class labels containing the XYZ values of the 2nd to 16th XYZ of each shot"
   ]
  },
  {
   "cell_type": "code",
   "execution_count": 8,
   "metadata": {},
   "outputs": [
    {
     "name": "stdout",
     "output_type": "stream",
     "text": [
      "[[[0.00527041 0.         0.24764242]\n",
      "  [0.01936656 0.         0.25742385]\n",
      "  [0.03354293 0.         0.26741341]\n",
      "  ...\n",
      "  [0.16669899 0.         0.35335057]\n",
      "  [0.17962799 0.         0.36081482]\n",
      "  [0.19213953 0.         0.36884937]]\n",
      "\n",
      " [[0.01936656 0.         0.25742385]\n",
      "  [0.03354293 0.         0.26741341]\n",
      "  [0.04703615 0.         0.27642935]\n",
      "  ...\n",
      "  [0.17962799 0.         0.36081482]\n",
      "  [0.19213953 0.         0.36884937]\n",
      "  [0.20492706 0.         0.37587518]]\n",
      "\n",
      " [[0.03354293 0.         0.26741341]\n",
      "  [0.04703615 0.         0.27642935]\n",
      "  [0.06082138 0.         0.28572581]\n",
      "  ...\n",
      "  [0.19213953 0.         0.36884937]\n",
      "  [0.20492706 0.         0.37587518]\n",
      "  [0.21739055 0.         0.38343008]]\n",
      "\n",
      " ...\n",
      "\n",
      " [[0.86139328 0.05172229 0.53804523]\n",
      "  [0.86520658 0.05194899 0.51399447]\n",
      "  [0.86841365 0.05213964 0.4889511 ]\n",
      "  ...\n",
      "  [0.90135412 0.05409787 0.19317193]\n",
      "  [0.90460739 0.05429127 0.15831711]\n",
      "  [0.90727776 0.05445001 0.12277747]]\n",
      "\n",
      " [[0.86520658 0.05194899 0.51399447]\n",
      "  [0.86841365 0.05213964 0.4889511 ]\n",
      "  [0.87204908 0.05235576 0.4633439 ]\n",
      "  ...\n",
      "  [0.90460739 0.05429127 0.15831711]\n",
      "  [0.90727776 0.05445001 0.12277747]\n",
      "  [0.91042128 0.05463689 0.08569436]]\n",
      "\n",
      " [[0.86841365 0.05213964 0.4889511 ]\n",
      "  [0.87204908 0.05235576 0.4633439 ]\n",
      "  [0.8756017  0.05256695 0.43694404]\n",
      "  ...\n",
      "  [0.90727776 0.05445001 0.12277747]\n",
      "  [0.91042128 0.05463689 0.08569436]\n",
      "  [0.91277467 0.05477679 0.0479245 ]]] [[0.20492706 0.         0.37587518]\n",
      " [0.21739055 0.         0.38343008]\n",
      " [0.2299434  0.         0.3901839 ]\n",
      " ...\n",
      " [0.91042128 0.05463689 0.08569436]\n",
      " [0.91277467 0.05477679 0.0479245 ]\n",
      " [0.91592395 0.05496401 0.00901347]]\n",
      "float64 float64\n",
      "[[[6.04832863e-04 0.00000000e+00 4.03794541e-01]\n",
      "  [1.05968530e-02 6.54444535e-04 4.17263437e-01]\n",
      "  [2.01612179e-02 1.28087915e-03 4.30403144e-01]\n",
      "  ...\n",
      "  [1.17492049e-01 7.65572937e-03 5.49831576e-01]\n",
      "  [1.27321527e-01 8.29952808e-03 5.60484447e-01]\n",
      "  [1.36210177e-01 8.88170544e-03 5.70970063e-01]]\n",
      "\n",
      " [[1.05968530e-02 6.54444535e-04 4.17263437e-01]\n",
      "  [2.01612179e-02 1.28087915e-03 4.30403144e-01]\n",
      "  [3.02453732e-02 1.94135819e-03 4.43375745e-01]\n",
      "  ...\n",
      "  [1.27321527e-01 8.29952808e-03 5.60484447e-01]\n",
      "  [1.36210177e-01 8.88170544e-03 5.70970063e-01]\n",
      "  [1.46028513e-01 9.52477427e-03 5.81243477e-01]]\n",
      "\n",
      " [[2.01612179e-02 1.28087915e-03 4.30403144e-01]\n",
      "  [3.02453732e-02 1.94135819e-03 4.43375745e-01]\n",
      "  [3.98856160e-02 2.57276255e-03 4.56028825e-01]\n",
      "  ...\n",
      "  [1.36210177e-01 8.88170544e-03 5.70970063e-01]\n",
      "  [1.46028513e-01 9.52477427e-03 5.81243477e-01]\n",
      "  [1.54984556e-01 1.01113658e-02 5.91945018e-01]]\n",
      "\n",
      " ...\n",
      "\n",
      " [[7.35713669e-01 9.28729883e-01 9.95282013e-01]\n",
      "  [7.41371904e-01 9.32931987e-01 9.93531655e-01]\n",
      "  [7.47792015e-01 9.37699900e-01 9.91166080e-01]\n",
      "  ...\n",
      "  [8.02246446e-01 9.78140635e-01 9.51063409e-01]\n",
      "  [8.07389578e-01 9.81960197e-01 9.45021076e-01]\n",
      "  [8.12673556e-01 9.85884358e-01 9.38668150e-01]]\n",
      "\n",
      " [[7.41371904e-01 9.32931987e-01 9.93531655e-01]\n",
      "  [7.47792015e-01 9.37699900e-01 9.91166080e-01]\n",
      "  [7.53178763e-01 9.41700384e-01 9.89101794e-01]\n",
      "  ...\n",
      "  [8.07389578e-01 9.81960197e-01 9.45021076e-01]\n",
      "  [8.12673556e-01 9.85884358e-01 9.38668150e-01]\n",
      "  [8.17343561e-01 9.89352550e-01 9.31780778e-01]]\n",
      "\n",
      " [[7.47792015e-01 9.37699900e-01 9.91166080e-01]\n",
      "  [7.53178763e-01 9.41700384e-01 9.89101794e-01]\n",
      "  [7.58538641e-01 9.45680912e-01 9.86112756e-01]\n",
      "  ...\n",
      "  [8.12673556e-01 9.85884358e-01 9.38668150e-01]\n",
      "  [8.17343561e-01 9.89352550e-01 9.31780778e-01]\n",
      "  [8.22793526e-01 9.93399982e-01 9.23973257e-01]]] [[0.14602851 0.00952477 0.58124348]\n",
      " [0.15498456 0.01011137 0.59194502]\n",
      " [0.16399735 0.01070167 0.60201187]\n",
      " ...\n",
      " [0.81734356 0.98935255 0.93178078]\n",
      " [0.82279353 0.99339998 0.92397326]\n",
      " [0.82778956 0.9971103  0.91605989]]\n",
      "[[[6.04832863e-04 0.00000000e+00 4.03794541e-01]\n",
      "  [1.05968530e-02 6.54444535e-04 4.17263437e-01]\n",
      "  [2.01612179e-02 1.28087915e-03 4.30403144e-01]\n",
      "  ...\n",
      "  [1.17492049e-01 7.65572937e-03 5.49831576e-01]\n",
      "  [1.27321527e-01 8.29952808e-03 5.60484447e-01]\n",
      "  [1.36210177e-01 8.88170544e-03 5.70970063e-01]]\n",
      "\n",
      " [[1.05968530e-02 6.54444535e-04 4.17263437e-01]\n",
      "  [2.01612179e-02 1.28087915e-03 4.30403144e-01]\n",
      "  [3.02453732e-02 1.94135819e-03 4.43375745e-01]\n",
      "  ...\n",
      "  [1.27321527e-01 8.29952808e-03 5.60484447e-01]\n",
      "  [1.36210177e-01 8.88170544e-03 5.70970063e-01]\n",
      "  [1.46028513e-01 9.52477427e-03 5.81243477e-01]]\n",
      "\n",
      " [[2.01612179e-02 1.28087915e-03 4.30403144e-01]\n",
      "  [3.02453732e-02 1.94135819e-03 4.43375745e-01]\n",
      "  [3.98856160e-02 2.57276255e-03 4.56028825e-01]\n",
      "  ...\n",
      "  [1.36210177e-01 8.88170544e-03 5.70970063e-01]\n",
      "  [1.46028513e-01 9.52477427e-03 5.81243477e-01]\n",
      "  [1.54984556e-01 1.01113658e-02 5.91945018e-01]]\n",
      "\n",
      " ...\n",
      "\n",
      " [[7.35713669e-01 9.28729883e-01 9.95282013e-01]\n",
      "  [7.41371904e-01 9.32931987e-01 9.93531655e-01]\n",
      "  [7.47792015e-01 9.37699900e-01 9.91166080e-01]\n",
      "  ...\n",
      "  [8.02246446e-01 9.78140635e-01 9.51063409e-01]\n",
      "  [8.07389578e-01 9.81960197e-01 9.45021076e-01]\n",
      "  [8.12673556e-01 9.85884358e-01 9.38668150e-01]]\n",
      "\n",
      " [[7.41371904e-01 9.32931987e-01 9.93531655e-01]\n",
      "  [7.47792015e-01 9.37699900e-01 9.91166080e-01]\n",
      "  [7.53178763e-01 9.41700384e-01 9.89101794e-01]\n",
      "  ...\n",
      "  [8.07389578e-01 9.81960197e-01 9.45021076e-01]\n",
      "  [8.12673556e-01 9.85884358e-01 9.38668150e-01]\n",
      "  [8.17343561e-01 9.89352550e-01 9.31780778e-01]]\n",
      "\n",
      " [[7.47792015e-01 9.37699900e-01 9.91166080e-01]\n",
      "  [7.53178763e-01 9.41700384e-01 9.89101794e-01]\n",
      "  [7.58538641e-01 9.45680912e-01 9.86112756e-01]\n",
      "  ...\n",
      "  [8.12673556e-01 9.85884358e-01 9.38668150e-01]\n",
      "  [8.17343561e-01 9.89352550e-01 9.31780778e-01]\n",
      "  [8.22793526e-01 9.93399982e-01 9.23973257e-01]]]\n"
     ]
    }
   ],
   "source": [
    "sequence_length =15\n",
    "X_train, Y_train = prepare_data(traindata, sequence_length)\n",
    "print(X_train.dtype,Y_train.dtype)\n",
    "\n",
    "X_test, Y_test = prepare_data(testdata, sequence_length)\n",
    "print(X_test)\n"
   ]
  },
  {
   "attachments": {},
   "cell_type": "markdown",
   "metadata": {},
   "source": [
    "Train Gaussian Regressor"
   ]
  },
  {
   "cell_type": "code",
   "execution_count": 11,
   "metadata": {},
   "outputs": [
    {
     "ename": "ValueError",
     "evalue": "Found array with dim 3. Estimator expected <= 2.",
     "output_type": "error",
     "traceback": [
      "\u001b[1;31m---------------------------------------------------------------------------\u001b[0m",
      "\u001b[1;31mValueError\u001b[0m                                Traceback (most recent call last)",
      "\u001b[1;32m~\\AppData\\Local\\Temp\\ipykernel_34792\\3532915736.py\u001b[0m in \u001b[0;36m<module>\u001b[1;34m\u001b[0m\n\u001b[0;32m      6\u001b[0m \u001b[0mgpr\u001b[0m\u001b[1;33m.\u001b[0m\u001b[0my_train_\u001b[0m \u001b[1;33m=\u001b[0m \u001b[0mY_train\u001b[0m\u001b[1;33m\u001b[0m\u001b[1;33m\u001b[0m\u001b[0m\n\u001b[0;32m      7\u001b[0m \u001b[0mgpr\u001b[0m\u001b[1;33m.\u001b[0m\u001b[0mn_features_in_\u001b[0m \u001b[1;33m=\u001b[0m \u001b[1;36m3\u001b[0m\u001b[1;33m\u001b[0m\u001b[1;33m\u001b[0m\u001b[0m\n\u001b[1;32m----> 8\u001b[1;33m \u001b[0mgpr\u001b[0m\u001b[1;33m.\u001b[0m\u001b[0mfit\u001b[0m\u001b[1;33m(\u001b[0m\u001b[0mX_train\u001b[0m\u001b[1;33m[\u001b[0m\u001b[1;33m:\u001b[0m\u001b[1;33m,\u001b[0m\u001b[1;33m:\u001b[0m\u001b[1;33m]\u001b[0m\u001b[1;33m,\u001b[0m \u001b[0mY_train\u001b[0m\u001b[1;33m[\u001b[0m\u001b[1;33m:\u001b[0m\u001b[1;33m,\u001b[0m\u001b[1;33m:\u001b[0m\u001b[1;33m]\u001b[0m\u001b[1;33m)\u001b[0m\u001b[1;33m\u001b[0m\u001b[1;33m\u001b[0m\u001b[0m\n\u001b[0m",
      "\u001b[1;32mc:\\Users\\Esther\\anaconda3\\lib\\site-packages\\sklearn\\gaussian_process\\_gpr.py\u001b[0m in \u001b[0;36mfit\u001b[1;34m(self, X, y)\u001b[0m\n\u001b[0;32m    222\u001b[0m         \u001b[1;32melse\u001b[0m\u001b[1;33m:\u001b[0m\u001b[1;33m\u001b[0m\u001b[1;33m\u001b[0m\u001b[0m\n\u001b[0;32m    223\u001b[0m             \u001b[0mdtype\u001b[0m\u001b[1;33m,\u001b[0m \u001b[0mensure_2d\u001b[0m \u001b[1;33m=\u001b[0m \u001b[1;32mNone\u001b[0m\u001b[1;33m,\u001b[0m \u001b[1;32mFalse\u001b[0m\u001b[1;33m\u001b[0m\u001b[1;33m\u001b[0m\u001b[0m\n\u001b[1;32m--> 224\u001b[1;33m         X, y = self._validate_data(\n\u001b[0m\u001b[0;32m    225\u001b[0m             \u001b[0mX\u001b[0m\u001b[1;33m,\u001b[0m\u001b[1;33m\u001b[0m\u001b[1;33m\u001b[0m\u001b[0m\n\u001b[0;32m    226\u001b[0m             \u001b[0my\u001b[0m\u001b[1;33m,\u001b[0m\u001b[1;33m\u001b[0m\u001b[1;33m\u001b[0m\u001b[0m\n",
      "\u001b[1;32mc:\\Users\\Esther\\anaconda3\\lib\\site-packages\\sklearn\\base.py\u001b[0m in \u001b[0;36m_validate_data\u001b[1;34m(self, X, y, reset, validate_separately, **check_params)\u001b[0m\n\u001b[0;32m    579\u001b[0m                 \u001b[0my\u001b[0m \u001b[1;33m=\u001b[0m \u001b[0mcheck_array\u001b[0m\u001b[1;33m(\u001b[0m\u001b[0my\u001b[0m\u001b[1;33m,\u001b[0m \u001b[1;33m**\u001b[0m\u001b[0mcheck_y_params\u001b[0m\u001b[1;33m)\u001b[0m\u001b[1;33m\u001b[0m\u001b[1;33m\u001b[0m\u001b[0m\n\u001b[0;32m    580\u001b[0m             \u001b[1;32melse\u001b[0m\u001b[1;33m:\u001b[0m\u001b[1;33m\u001b[0m\u001b[1;33m\u001b[0m\u001b[0m\n\u001b[1;32m--> 581\u001b[1;33m                 \u001b[0mX\u001b[0m\u001b[1;33m,\u001b[0m \u001b[0my\u001b[0m \u001b[1;33m=\u001b[0m \u001b[0mcheck_X_y\u001b[0m\u001b[1;33m(\u001b[0m\u001b[0mX\u001b[0m\u001b[1;33m,\u001b[0m \u001b[0my\u001b[0m\u001b[1;33m,\u001b[0m \u001b[1;33m**\u001b[0m\u001b[0mcheck_params\u001b[0m\u001b[1;33m)\u001b[0m\u001b[1;33m\u001b[0m\u001b[1;33m\u001b[0m\u001b[0m\n\u001b[0m\u001b[0;32m    582\u001b[0m             \u001b[0mout\u001b[0m \u001b[1;33m=\u001b[0m \u001b[0mX\u001b[0m\u001b[1;33m,\u001b[0m \u001b[0my\u001b[0m\u001b[1;33m\u001b[0m\u001b[1;33m\u001b[0m\u001b[0m\n\u001b[0;32m    583\u001b[0m \u001b[1;33m\u001b[0m\u001b[0m\n",
      "\u001b[1;32mc:\\Users\\Esther\\anaconda3\\lib\\site-packages\\sklearn\\utils\\validation.py\u001b[0m in \u001b[0;36mcheck_X_y\u001b[1;34m(X, y, accept_sparse, accept_large_sparse, dtype, order, copy, force_all_finite, ensure_2d, allow_nd, multi_output, ensure_min_samples, ensure_min_features, y_numeric, estimator)\u001b[0m\n\u001b[0;32m    962\u001b[0m         \u001b[1;32mraise\u001b[0m \u001b[0mValueError\u001b[0m\u001b[1;33m(\u001b[0m\u001b[1;34m\"y cannot be None\"\u001b[0m\u001b[1;33m)\u001b[0m\u001b[1;33m\u001b[0m\u001b[1;33m\u001b[0m\u001b[0m\n\u001b[0;32m    963\u001b[0m \u001b[1;33m\u001b[0m\u001b[0m\n\u001b[1;32m--> 964\u001b[1;33m     X = check_array(\n\u001b[0m\u001b[0;32m    965\u001b[0m         \u001b[0mX\u001b[0m\u001b[1;33m,\u001b[0m\u001b[1;33m\u001b[0m\u001b[1;33m\u001b[0m\u001b[0m\n\u001b[0;32m    966\u001b[0m         \u001b[0maccept_sparse\u001b[0m\u001b[1;33m=\u001b[0m\u001b[0maccept_sparse\u001b[0m\u001b[1;33m,\u001b[0m\u001b[1;33m\u001b[0m\u001b[1;33m\u001b[0m\u001b[0m\n",
      "\u001b[1;32mc:\\Users\\Esther\\anaconda3\\lib\\site-packages\\sklearn\\utils\\validation.py\u001b[0m in \u001b[0;36mcheck_array\u001b[1;34m(array, accept_sparse, accept_large_sparse, dtype, order, copy, force_all_finite, ensure_2d, allow_nd, ensure_min_samples, ensure_min_features, estimator)\u001b[0m\n\u001b[0;32m    792\u001b[0m                 ) from e\n\u001b[0;32m    793\u001b[0m         \u001b[1;32mif\u001b[0m \u001b[1;32mnot\u001b[0m \u001b[0mallow_nd\u001b[0m \u001b[1;32mand\u001b[0m \u001b[0marray\u001b[0m\u001b[1;33m.\u001b[0m\u001b[0mndim\u001b[0m \u001b[1;33m>=\u001b[0m \u001b[1;36m3\u001b[0m\u001b[1;33m:\u001b[0m\u001b[1;33m\u001b[0m\u001b[1;33m\u001b[0m\u001b[0m\n\u001b[1;32m--> 794\u001b[1;33m             raise ValueError(\n\u001b[0m\u001b[0;32m    795\u001b[0m                 \u001b[1;34m\"Found array with dim %d. %s expected <= 2.\"\u001b[0m\u001b[1;33m\u001b[0m\u001b[1;33m\u001b[0m\u001b[0m\n\u001b[0;32m    796\u001b[0m                 \u001b[1;33m%\u001b[0m \u001b[1;33m(\u001b[0m\u001b[0marray\u001b[0m\u001b[1;33m.\u001b[0m\u001b[0mndim\u001b[0m\u001b[1;33m,\u001b[0m \u001b[0mestimator_name\u001b[0m\u001b[1;33m)\u001b[0m\u001b[1;33m\u001b[0m\u001b[1;33m\u001b[0m\u001b[0m\n",
      "\u001b[1;31mValueError\u001b[0m: Found array with dim 3. Estimator expected <= 2."
     ]
    }
   ],
   "source": [
    "from sklearn.gaussian_process import GaussianProcessRegressor\n",
    "from sklearn.gaussian_process.kernels import RBF\n",
    "kernel = RBF()\n",
    "gpr = GaussianProcessRegressor(kernel=kernel)\n",
    "gpr.X_train_ = X_train\n",
    "gpr.y_train_ = Y_train\n",
    "gpr.n_features_in_ = 3\n",
    "gpr.fit(X_train[:,:], Y_train[:,:])\n"
   ]
  },
  {
   "attachments": {},
   "cell_type": "markdown",
   "metadata": {},
   "source": [
    "Train Random Forest Model"
   ]
  },
  {
   "cell_type": "code",
   "execution_count": 13,
   "metadata": {},
   "outputs": [
    {
     "ename": "ValueError",
     "evalue": "Found array with dim 3. Estimator expected <= 2.",
     "output_type": "error",
     "traceback": [
      "\u001b[1;31m---------------------------------------------------------------------------\u001b[0m",
      "\u001b[1;31mValueError\u001b[0m                                Traceback (most recent call last)",
      "\u001b[1;32m~\\AppData\\Local\\Temp\\ipykernel_34792\\310091460.py\u001b[0m in \u001b[0;36m<module>\u001b[1;34m\u001b[0m\n\u001b[0;32m     10\u001b[0m \u001b[1;33m\u001b[0m\u001b[0m\n\u001b[0;32m     11\u001b[0m \u001b[1;31m# Fit the Random Forest model to the data\u001b[0m\u001b[1;33m\u001b[0m\u001b[1;33m\u001b[0m\u001b[0m\n\u001b[1;32m---> 12\u001b[1;33m \u001b[0mmodel\u001b[0m\u001b[1;33m.\u001b[0m\u001b[0mfit\u001b[0m\u001b[1;33m(\u001b[0m\u001b[0mX_train\u001b[0m\u001b[1;33m,\u001b[0m \u001b[0mY_train\u001b[0m\u001b[1;33m)\u001b[0m\u001b[1;33m\u001b[0m\u001b[1;33m\u001b[0m\u001b[0m\n\u001b[0m\u001b[0;32m     13\u001b[0m \u001b[1;33m\u001b[0m\u001b[0m\n\u001b[0;32m     14\u001b[0m \u001b[1;31m# Predict the trajectory using the trained Random Forest model\u001b[0m\u001b[1;33m\u001b[0m\u001b[1;33m\u001b[0m\u001b[0m\n",
      "\u001b[1;32mc:\\Users\\Esther\\anaconda3\\lib\\site-packages\\sklearn\\ensemble\\_forest.py\u001b[0m in \u001b[0;36mfit\u001b[1;34m(self, X, y, sample_weight)\u001b[0m\n\u001b[0;32m    325\u001b[0m         \u001b[1;32mif\u001b[0m \u001b[0missparse\u001b[0m\u001b[1;33m(\u001b[0m\u001b[0my\u001b[0m\u001b[1;33m)\u001b[0m\u001b[1;33m:\u001b[0m\u001b[1;33m\u001b[0m\u001b[1;33m\u001b[0m\u001b[0m\n\u001b[0;32m    326\u001b[0m             \u001b[1;32mraise\u001b[0m \u001b[0mValueError\u001b[0m\u001b[1;33m(\u001b[0m\u001b[1;34m\"sparse multilabel-indicator for y is not supported.\"\u001b[0m\u001b[1;33m)\u001b[0m\u001b[1;33m\u001b[0m\u001b[1;33m\u001b[0m\u001b[0m\n\u001b[1;32m--> 327\u001b[1;33m         X, y = self._validate_data(\n\u001b[0m\u001b[0;32m    328\u001b[0m             \u001b[0mX\u001b[0m\u001b[1;33m,\u001b[0m \u001b[0my\u001b[0m\u001b[1;33m,\u001b[0m \u001b[0mmulti_output\u001b[0m\u001b[1;33m=\u001b[0m\u001b[1;32mTrue\u001b[0m\u001b[1;33m,\u001b[0m \u001b[0maccept_sparse\u001b[0m\u001b[1;33m=\u001b[0m\u001b[1;34m\"csc\"\u001b[0m\u001b[1;33m,\u001b[0m \u001b[0mdtype\u001b[0m\u001b[1;33m=\u001b[0m\u001b[0mDTYPE\u001b[0m\u001b[1;33m\u001b[0m\u001b[1;33m\u001b[0m\u001b[0m\n\u001b[0;32m    329\u001b[0m         )\n",
      "\u001b[1;32mc:\\Users\\Esther\\anaconda3\\lib\\site-packages\\sklearn\\base.py\u001b[0m in \u001b[0;36m_validate_data\u001b[1;34m(self, X, y, reset, validate_separately, **check_params)\u001b[0m\n\u001b[0;32m    579\u001b[0m                 \u001b[0my\u001b[0m \u001b[1;33m=\u001b[0m \u001b[0mcheck_array\u001b[0m\u001b[1;33m(\u001b[0m\u001b[0my\u001b[0m\u001b[1;33m,\u001b[0m \u001b[1;33m**\u001b[0m\u001b[0mcheck_y_params\u001b[0m\u001b[1;33m)\u001b[0m\u001b[1;33m\u001b[0m\u001b[1;33m\u001b[0m\u001b[0m\n\u001b[0;32m    580\u001b[0m             \u001b[1;32melse\u001b[0m\u001b[1;33m:\u001b[0m\u001b[1;33m\u001b[0m\u001b[1;33m\u001b[0m\u001b[0m\n\u001b[1;32m--> 581\u001b[1;33m                 \u001b[0mX\u001b[0m\u001b[1;33m,\u001b[0m \u001b[0my\u001b[0m \u001b[1;33m=\u001b[0m \u001b[0mcheck_X_y\u001b[0m\u001b[1;33m(\u001b[0m\u001b[0mX\u001b[0m\u001b[1;33m,\u001b[0m \u001b[0my\u001b[0m\u001b[1;33m,\u001b[0m \u001b[1;33m**\u001b[0m\u001b[0mcheck_params\u001b[0m\u001b[1;33m)\u001b[0m\u001b[1;33m\u001b[0m\u001b[1;33m\u001b[0m\u001b[0m\n\u001b[0m\u001b[0;32m    582\u001b[0m             \u001b[0mout\u001b[0m \u001b[1;33m=\u001b[0m \u001b[0mX\u001b[0m\u001b[1;33m,\u001b[0m \u001b[0my\u001b[0m\u001b[1;33m\u001b[0m\u001b[1;33m\u001b[0m\u001b[0m\n\u001b[0;32m    583\u001b[0m \u001b[1;33m\u001b[0m\u001b[0m\n",
      "\u001b[1;32mc:\\Users\\Esther\\anaconda3\\lib\\site-packages\\sklearn\\utils\\validation.py\u001b[0m in \u001b[0;36mcheck_X_y\u001b[1;34m(X, y, accept_sparse, accept_large_sparse, dtype, order, copy, force_all_finite, ensure_2d, allow_nd, multi_output, ensure_min_samples, ensure_min_features, y_numeric, estimator)\u001b[0m\n\u001b[0;32m    962\u001b[0m         \u001b[1;32mraise\u001b[0m \u001b[0mValueError\u001b[0m\u001b[1;33m(\u001b[0m\u001b[1;34m\"y cannot be None\"\u001b[0m\u001b[1;33m)\u001b[0m\u001b[1;33m\u001b[0m\u001b[1;33m\u001b[0m\u001b[0m\n\u001b[0;32m    963\u001b[0m \u001b[1;33m\u001b[0m\u001b[0m\n\u001b[1;32m--> 964\u001b[1;33m     X = check_array(\n\u001b[0m\u001b[0;32m    965\u001b[0m         \u001b[0mX\u001b[0m\u001b[1;33m,\u001b[0m\u001b[1;33m\u001b[0m\u001b[1;33m\u001b[0m\u001b[0m\n\u001b[0;32m    966\u001b[0m         \u001b[0maccept_sparse\u001b[0m\u001b[1;33m=\u001b[0m\u001b[0maccept_sparse\u001b[0m\u001b[1;33m,\u001b[0m\u001b[1;33m\u001b[0m\u001b[1;33m\u001b[0m\u001b[0m\n",
      "\u001b[1;32mc:\\Users\\Esther\\anaconda3\\lib\\site-packages\\sklearn\\utils\\validation.py\u001b[0m in \u001b[0;36mcheck_array\u001b[1;34m(array, accept_sparse, accept_large_sparse, dtype, order, copy, force_all_finite, ensure_2d, allow_nd, ensure_min_samples, ensure_min_features, estimator)\u001b[0m\n\u001b[0;32m    792\u001b[0m                 ) from e\n\u001b[0;32m    793\u001b[0m         \u001b[1;32mif\u001b[0m \u001b[1;32mnot\u001b[0m \u001b[0mallow_nd\u001b[0m \u001b[1;32mand\u001b[0m \u001b[0marray\u001b[0m\u001b[1;33m.\u001b[0m\u001b[0mndim\u001b[0m \u001b[1;33m>=\u001b[0m \u001b[1;36m3\u001b[0m\u001b[1;33m:\u001b[0m\u001b[1;33m\u001b[0m\u001b[1;33m\u001b[0m\u001b[0m\n\u001b[1;32m--> 794\u001b[1;33m             raise ValueError(\n\u001b[0m\u001b[0;32m    795\u001b[0m                 \u001b[1;34m\"Found array with dim %d. %s expected <= 2.\"\u001b[0m\u001b[1;33m\u001b[0m\u001b[1;33m\u001b[0m\u001b[0m\n\u001b[0;32m    796\u001b[0m                 \u001b[1;33m%\u001b[0m \u001b[1;33m(\u001b[0m\u001b[0marray\u001b[0m\u001b[1;33m.\u001b[0m\u001b[0mndim\u001b[0m\u001b[1;33m,\u001b[0m \u001b[0mestimator_name\u001b[0m\u001b[1;33m)\u001b[0m\u001b[1;33m\u001b[0m\u001b[1;33m\u001b[0m\u001b[0m\n",
      "\u001b[1;31mValueError\u001b[0m: Found array with dim 3. Estimator expected <= 2."
     ]
    }
   ],
   "source": [
    "import numpy as np\n",
    "from sklearn.ensemble import RandomForestClassifier\n",
    "from keras.models import Sequential, load_model\n",
    "from keras.layers import LSTM, Dense,Dropout\n",
    "\n",
    "# Define the Random Forest regression model with an appropriate number of estimators\n",
    "n_estimators = 100  # Adjust the number of estimators based on your data and requirements\n",
    "\n",
    "model = RandomForestClassifier()\n",
    "\n",
    "# Fit the Random Forest model to the data\n",
    "model.fit(X_train, Y_train)\n",
    "\n",
    "# Predict the trajectory using the trained Random Forest model\n",
    "predicted_trajectory = model.predict(X_test)\n",
    "\n",
    "# Incorporate feedback by including the new observation in the training data\n",
    "new_observation = np.array([X_test[0, 0], X_test[0, 1], X_test[0, 2], predicted_trajectory[0]])\n",
    "X = np.vstack((X_train, X_test))\n",
    "y = np.append(Y_train, new_observation[3])\n",
    "\n",
    "# Update the Random Forest model with the new data\n",
    "model.fit(X, y)\n",
    "\n",
    "# Generate a new test sample (replace with your desired input features)\n",
    "new_sample = np.array([[2, 12, 60]])  # Example: time = 2, initial speed = 12, launch angle = 60\n",
    "\n",
    "# Predict the trajectory using the updated Random Forest model\n",
    "predicted_trajectory = model.predict(new_sample)\n",
    "\n",
    "# Print the predicted trajectory\n",
    "print(\"Predicted trajectory with feedback:\")\n",
    "print(predicted_trajectory)\n"
   ]
  },
  {
   "attachments": {},
   "cell_type": "markdown",
   "metadata": {},
   "source": [
    "Separate data into timeseries of X, Y and Z for each shot, using index as the indication of time\n",
    "\n",
    "Also create a set of expected X and Y values for when shuttlecock height is near the robot's racket height"
   ]
  },
  {
   "cell_type": "code",
   "execution_count": 61,
   "metadata": {},
   "outputs": [
    {
     "name": "stdout",
     "output_type": "stream",
     "text": [
      "(54296, 15, 3) (54296, 3)\n"
     ]
    },
    {
     "ename": "MemoryError",
     "evalue": "Unable to allocate 11.0 GiB for an array with shape (1474000660,) and data type float64",
     "output_type": "error",
     "traceback": [
      "\u001b[1;31m---------------------------------------------------------------------------\u001b[0m",
      "\u001b[1;31mMemoryError\u001b[0m                               Traceback (most recent call last)",
      "\u001b[1;32m~\\AppData\\Local\\Temp\\ipykernel_16828\\265231668.py\u001b[0m in \u001b[0;36m<module>\u001b[1;34m\u001b[0m\n\u001b[0;32m     10\u001b[0m \u001b[0mkernel\u001b[0m \u001b[1;33m=\u001b[0m \u001b[0mRBF\u001b[0m\u001b[1;33m(\u001b[0m\u001b[0mlength_scale\u001b[0m\u001b[1;33m=\u001b[0m\u001b[1;36m1.0\u001b[0m\u001b[1;33m)\u001b[0m\u001b[1;33m\u001b[0m\u001b[1;33m\u001b[0m\u001b[0m\n\u001b[0;32m     11\u001b[0m \u001b[0mgpr\u001b[0m \u001b[1;33m=\u001b[0m \u001b[0mGaussianProcessRegressor\u001b[0m\u001b[1;33m(\u001b[0m\u001b[0mkernel\u001b[0m\u001b[1;33m=\u001b[0m\u001b[0mkernel\u001b[0m\u001b[1;33m)\u001b[0m\u001b[1;33m\u001b[0m\u001b[1;33m\u001b[0m\u001b[0m\n\u001b[1;32m---> 12\u001b[1;33m \u001b[0mgpr\u001b[0m\u001b[1;33m.\u001b[0m\u001b[0mfit\u001b[0m\u001b[1;33m(\u001b[0m\u001b[0mX_train_2d\u001b[0m\u001b[1;33m,\u001b[0m \u001b[0mY_train_2d\u001b[0m\u001b[1;33m)\u001b[0m\u001b[1;33m\u001b[0m\u001b[1;33m\u001b[0m\u001b[0m\n\u001b[0m\u001b[0;32m     13\u001b[0m \u001b[0mpredictedCord\u001b[0m \u001b[1;33m=\u001b[0m \u001b[0mgpr\u001b[0m\u001b[1;33m.\u001b[0m\u001b[0mpredict\u001b[0m\u001b[1;33m(\u001b[0m\u001b[0mX_train_2d\u001b[0m\u001b[1;33m[\u001b[0m\u001b[1;33m-\u001b[0m\u001b[1;36m1\u001b[0m\u001b[1;33m]\u001b[0m\u001b[1;33m.\u001b[0m\u001b[0mreshape\u001b[0m\u001b[1;33m(\u001b[0m\u001b[1;36m1\u001b[0m\u001b[1;33m,\u001b[0m \u001b[1;33m-\u001b[0m\u001b[1;36m1\u001b[0m\u001b[1;33m)\u001b[0m\u001b[1;33m)\u001b[0m\u001b[1;33m\u001b[0m\u001b[1;33m\u001b[0m\u001b[0m\n\u001b[0;32m     14\u001b[0m \u001b[0mprint\u001b[0m\u001b[1;33m(\u001b[0m\u001b[0mpredictedCord\u001b[0m\u001b[1;33m)\u001b[0m\u001b[1;33m\u001b[0m\u001b[1;33m\u001b[0m\u001b[0m\n",
      "\u001b[1;32mc:\\Users\\Esther\\anaconda3\\lib\\site-packages\\sklearn\\gaussian_process\\_gpr.py\u001b[0m in \u001b[0;36mfit\u001b[1;34m(self, X, y)\u001b[0m\n\u001b[0;32m    270\u001b[0m             optima = [\n\u001b[0;32m    271\u001b[0m                 (\n\u001b[1;32m--> 272\u001b[1;33m                     self._constrained_optimization(\n\u001b[0m\u001b[0;32m    273\u001b[0m                         \u001b[0mobj_func\u001b[0m\u001b[1;33m,\u001b[0m \u001b[0mself\u001b[0m\u001b[1;33m.\u001b[0m\u001b[0mkernel_\u001b[0m\u001b[1;33m.\u001b[0m\u001b[0mtheta\u001b[0m\u001b[1;33m,\u001b[0m \u001b[0mself\u001b[0m\u001b[1;33m.\u001b[0m\u001b[0mkernel_\u001b[0m\u001b[1;33m.\u001b[0m\u001b[0mbounds\u001b[0m\u001b[1;33m\u001b[0m\u001b[1;33m\u001b[0m\u001b[0m\n\u001b[0;32m    274\u001b[0m                     )\n",
      "\u001b[1;32mc:\\Users\\Esther\\anaconda3\\lib\\site-packages\\sklearn\\gaussian_process\\_gpr.py\u001b[0m in \u001b[0;36m_constrained_optimization\u001b[1;34m(self, obj_func, initial_theta, bounds)\u001b[0m\n\u001b[0;32m    601\u001b[0m     \u001b[1;32mdef\u001b[0m \u001b[0m_constrained_optimization\u001b[0m\u001b[1;33m(\u001b[0m\u001b[0mself\u001b[0m\u001b[1;33m,\u001b[0m \u001b[0mobj_func\u001b[0m\u001b[1;33m,\u001b[0m \u001b[0minitial_theta\u001b[0m\u001b[1;33m,\u001b[0m \u001b[0mbounds\u001b[0m\u001b[1;33m)\u001b[0m\u001b[1;33m:\u001b[0m\u001b[1;33m\u001b[0m\u001b[1;33m\u001b[0m\u001b[0m\n\u001b[0;32m    602\u001b[0m         \u001b[1;32mif\u001b[0m \u001b[0mself\u001b[0m\u001b[1;33m.\u001b[0m\u001b[0moptimizer\u001b[0m \u001b[1;33m==\u001b[0m \u001b[1;34m\"fmin_l_bfgs_b\"\u001b[0m\u001b[1;33m:\u001b[0m\u001b[1;33m\u001b[0m\u001b[1;33m\u001b[0m\u001b[0m\n\u001b[1;32m--> 603\u001b[1;33m             opt_res = scipy.optimize.minimize(\n\u001b[0m\u001b[0;32m    604\u001b[0m                 \u001b[0mobj_func\u001b[0m\u001b[1;33m,\u001b[0m\u001b[1;33m\u001b[0m\u001b[1;33m\u001b[0m\u001b[0m\n\u001b[0;32m    605\u001b[0m                 \u001b[0minitial_theta\u001b[0m\u001b[1;33m,\u001b[0m\u001b[1;33m\u001b[0m\u001b[1;33m\u001b[0m\u001b[0m\n",
      "\u001b[1;32mc:\\Users\\Esther\\anaconda3\\lib\\site-packages\\scipy\\optimize\\_minimize.py\u001b[0m in \u001b[0;36mminimize\u001b[1;34m(fun, x0, args, method, jac, hess, hessp, bounds, constraints, tol, callback, options)\u001b[0m\n\u001b[0;32m    697\u001b[0m                                  **options)\n\u001b[0;32m    698\u001b[0m     \u001b[1;32melif\u001b[0m \u001b[0mmeth\u001b[0m \u001b[1;33m==\u001b[0m \u001b[1;34m'l-bfgs-b'\u001b[0m\u001b[1;33m:\u001b[0m\u001b[1;33m\u001b[0m\u001b[1;33m\u001b[0m\u001b[0m\n\u001b[1;32m--> 699\u001b[1;33m         res = _minimize_lbfgsb(fun, x0, args, jac, bounds,\n\u001b[0m\u001b[0;32m    700\u001b[0m                                callback=callback, **options)\n\u001b[0;32m    701\u001b[0m     \u001b[1;32melif\u001b[0m \u001b[0mmeth\u001b[0m \u001b[1;33m==\u001b[0m \u001b[1;34m'tnc'\u001b[0m\u001b[1;33m:\u001b[0m\u001b[1;33m\u001b[0m\u001b[1;33m\u001b[0m\u001b[0m\n",
      "\u001b[1;32mc:\\Users\\Esther\\anaconda3\\lib\\site-packages\\scipy\\optimize\\_lbfgsb_py.py\u001b[0m in \u001b[0;36m_minimize_lbfgsb\u001b[1;34m(fun, x0, args, jac, bounds, disp, maxcor, ftol, gtol, eps, maxfun, maxiter, iprint, callback, maxls, finite_diff_rel_step, **unknown_options)\u001b[0m\n\u001b[0;32m    306\u001b[0m             \u001b[0miprint\u001b[0m \u001b[1;33m=\u001b[0m \u001b[0mdisp\u001b[0m\u001b[1;33m\u001b[0m\u001b[1;33m\u001b[0m\u001b[0m\n\u001b[0;32m    307\u001b[0m \u001b[1;33m\u001b[0m\u001b[0m\n\u001b[1;32m--> 308\u001b[1;33m     sf = _prepare_scalar_function(fun, x0, jac=jac, args=args, epsilon=eps,\n\u001b[0m\u001b[0;32m    309\u001b[0m                                   \u001b[0mbounds\u001b[0m\u001b[1;33m=\u001b[0m\u001b[0mnew_bounds\u001b[0m\u001b[1;33m,\u001b[0m\u001b[1;33m\u001b[0m\u001b[1;33m\u001b[0m\u001b[0m\n\u001b[0;32m    310\u001b[0m                                   finite_diff_rel_step=finite_diff_rel_step)\n",
      "\u001b[1;32mc:\\Users\\Esther\\anaconda3\\lib\\site-packages\\scipy\\optimize\\_optimize.py\u001b[0m in \u001b[0;36m_prepare_scalar_function\u001b[1;34m(fun, x0, jac, args, bounds, epsilon, finite_diff_rel_step, hess)\u001b[0m\n\u001b[0;32m    261\u001b[0m     \u001b[1;31m# ScalarFunction caches. Reuse of fun(x) during grad\u001b[0m\u001b[1;33m\u001b[0m\u001b[1;33m\u001b[0m\u001b[0m\n\u001b[0;32m    262\u001b[0m     \u001b[1;31m# calculation reduces overall function evaluations.\u001b[0m\u001b[1;33m\u001b[0m\u001b[1;33m\u001b[0m\u001b[0m\n\u001b[1;32m--> 263\u001b[1;33m     sf = ScalarFunction(fun, x0, args, grad, hess,\n\u001b[0m\u001b[0;32m    264\u001b[0m                         finite_diff_rel_step, bounds, epsilon=epsilon)\n\u001b[0;32m    265\u001b[0m \u001b[1;33m\u001b[0m\u001b[0m\n",
      "\u001b[1;32mc:\\Users\\Esther\\anaconda3\\lib\\site-packages\\scipy\\optimize\\_differentiable_functions.py\u001b[0m in \u001b[0;36m__init__\u001b[1;34m(self, fun, x0, args, grad, hess, finite_diff_rel_step, finite_diff_bounds, epsilon)\u001b[0m\n\u001b[0;32m    156\u001b[0m \u001b[1;33m\u001b[0m\u001b[0m\n\u001b[0;32m    157\u001b[0m         \u001b[0mself\u001b[0m\u001b[1;33m.\u001b[0m\u001b[0m_update_fun_impl\u001b[0m \u001b[1;33m=\u001b[0m \u001b[0mupdate_fun\u001b[0m\u001b[1;33m\u001b[0m\u001b[1;33m\u001b[0m\u001b[0m\n\u001b[1;32m--> 158\u001b[1;33m         \u001b[0mself\u001b[0m\u001b[1;33m.\u001b[0m\u001b[0m_update_fun\u001b[0m\u001b[1;33m(\u001b[0m\u001b[1;33m)\u001b[0m\u001b[1;33m\u001b[0m\u001b[1;33m\u001b[0m\u001b[0m\n\u001b[0m\u001b[0;32m    159\u001b[0m \u001b[1;33m\u001b[0m\u001b[0m\n\u001b[0;32m    160\u001b[0m         \u001b[1;31m# Gradient evaluation\u001b[0m\u001b[1;33m\u001b[0m\u001b[1;33m\u001b[0m\u001b[0m\n",
      "\u001b[1;32mc:\\Users\\Esther\\anaconda3\\lib\\site-packages\\scipy\\optimize\\_differentiable_functions.py\u001b[0m in \u001b[0;36m_update_fun\u001b[1;34m(self)\u001b[0m\n\u001b[0;32m    249\u001b[0m     \u001b[1;32mdef\u001b[0m \u001b[0m_update_fun\u001b[0m\u001b[1;33m(\u001b[0m\u001b[0mself\u001b[0m\u001b[1;33m)\u001b[0m\u001b[1;33m:\u001b[0m\u001b[1;33m\u001b[0m\u001b[1;33m\u001b[0m\u001b[0m\n\u001b[0;32m    250\u001b[0m         \u001b[1;32mif\u001b[0m \u001b[1;32mnot\u001b[0m \u001b[0mself\u001b[0m\u001b[1;33m.\u001b[0m\u001b[0mf_updated\u001b[0m\u001b[1;33m:\u001b[0m\u001b[1;33m\u001b[0m\u001b[1;33m\u001b[0m\u001b[0m\n\u001b[1;32m--> 251\u001b[1;33m             \u001b[0mself\u001b[0m\u001b[1;33m.\u001b[0m\u001b[0m_update_fun_impl\u001b[0m\u001b[1;33m(\u001b[0m\u001b[1;33m)\u001b[0m\u001b[1;33m\u001b[0m\u001b[1;33m\u001b[0m\u001b[0m\n\u001b[0m\u001b[0;32m    252\u001b[0m             \u001b[0mself\u001b[0m\u001b[1;33m.\u001b[0m\u001b[0mf_updated\u001b[0m \u001b[1;33m=\u001b[0m \u001b[1;32mTrue\u001b[0m\u001b[1;33m\u001b[0m\u001b[1;33m\u001b[0m\u001b[0m\n\u001b[0;32m    253\u001b[0m \u001b[1;33m\u001b[0m\u001b[0m\n",
      "\u001b[1;32mc:\\Users\\Esther\\anaconda3\\lib\\site-packages\\scipy\\optimize\\_differentiable_functions.py\u001b[0m in \u001b[0;36mupdate_fun\u001b[1;34m()\u001b[0m\n\u001b[0;32m    153\u001b[0m \u001b[1;33m\u001b[0m\u001b[0m\n\u001b[0;32m    154\u001b[0m         \u001b[1;32mdef\u001b[0m \u001b[0mupdate_fun\u001b[0m\u001b[1;33m(\u001b[0m\u001b[1;33m)\u001b[0m\u001b[1;33m:\u001b[0m\u001b[1;33m\u001b[0m\u001b[1;33m\u001b[0m\u001b[0m\n\u001b[1;32m--> 155\u001b[1;33m             \u001b[0mself\u001b[0m\u001b[1;33m.\u001b[0m\u001b[0mf\u001b[0m \u001b[1;33m=\u001b[0m \u001b[0mfun_wrapped\u001b[0m\u001b[1;33m(\u001b[0m\u001b[0mself\u001b[0m\u001b[1;33m.\u001b[0m\u001b[0mx\u001b[0m\u001b[1;33m)\u001b[0m\u001b[1;33m\u001b[0m\u001b[1;33m\u001b[0m\u001b[0m\n\u001b[0m\u001b[0;32m    156\u001b[0m \u001b[1;33m\u001b[0m\u001b[0m\n\u001b[0;32m    157\u001b[0m         \u001b[0mself\u001b[0m\u001b[1;33m.\u001b[0m\u001b[0m_update_fun_impl\u001b[0m \u001b[1;33m=\u001b[0m \u001b[0mupdate_fun\u001b[0m\u001b[1;33m\u001b[0m\u001b[1;33m\u001b[0m\u001b[0m\n",
      "\u001b[1;32mc:\\Users\\Esther\\anaconda3\\lib\\site-packages\\scipy\\optimize\\_differentiable_functions.py\u001b[0m in \u001b[0;36mfun_wrapped\u001b[1;34m(x)\u001b[0m\n\u001b[0;32m    135\u001b[0m             \u001b[1;31m# Overwriting results in undefined behaviour because\u001b[0m\u001b[1;33m\u001b[0m\u001b[1;33m\u001b[0m\u001b[0m\n\u001b[0;32m    136\u001b[0m             \u001b[1;31m# fun(self.x) will change self.x, with the two no longer linked.\u001b[0m\u001b[1;33m\u001b[0m\u001b[1;33m\u001b[0m\u001b[0m\n\u001b[1;32m--> 137\u001b[1;33m             \u001b[0mfx\u001b[0m \u001b[1;33m=\u001b[0m \u001b[0mfun\u001b[0m\u001b[1;33m(\u001b[0m\u001b[0mnp\u001b[0m\u001b[1;33m.\u001b[0m\u001b[0mcopy\u001b[0m\u001b[1;33m(\u001b[0m\u001b[0mx\u001b[0m\u001b[1;33m)\u001b[0m\u001b[1;33m,\u001b[0m \u001b[1;33m*\u001b[0m\u001b[0margs\u001b[0m\u001b[1;33m)\u001b[0m\u001b[1;33m\u001b[0m\u001b[1;33m\u001b[0m\u001b[0m\n\u001b[0m\u001b[0;32m    138\u001b[0m             \u001b[1;31m# Make sure the function returns a true scalar\u001b[0m\u001b[1;33m\u001b[0m\u001b[1;33m\u001b[0m\u001b[0m\n\u001b[0;32m    139\u001b[0m             \u001b[1;32mif\u001b[0m \u001b[1;32mnot\u001b[0m \u001b[0mnp\u001b[0m\u001b[1;33m.\u001b[0m\u001b[0misscalar\u001b[0m\u001b[1;33m(\u001b[0m\u001b[0mfx\u001b[0m\u001b[1;33m)\u001b[0m\u001b[1;33m:\u001b[0m\u001b[1;33m\u001b[0m\u001b[1;33m\u001b[0m\u001b[0m\n",
      "\u001b[1;32mc:\\Users\\Esther\\anaconda3\\lib\\site-packages\\scipy\\optimize\\_optimize.py\u001b[0m in \u001b[0;36m__call__\u001b[1;34m(self, x, *args)\u001b[0m\n\u001b[0;32m     74\u001b[0m     \u001b[1;32mdef\u001b[0m \u001b[0m__call__\u001b[0m\u001b[1;33m(\u001b[0m\u001b[0mself\u001b[0m\u001b[1;33m,\u001b[0m \u001b[0mx\u001b[0m\u001b[1;33m,\u001b[0m \u001b[1;33m*\u001b[0m\u001b[0margs\u001b[0m\u001b[1;33m)\u001b[0m\u001b[1;33m:\u001b[0m\u001b[1;33m\u001b[0m\u001b[1;33m\u001b[0m\u001b[0m\n\u001b[0;32m     75\u001b[0m         \u001b[1;34m\"\"\" returns the the function value \"\"\"\u001b[0m\u001b[1;33m\u001b[0m\u001b[1;33m\u001b[0m\u001b[0m\n\u001b[1;32m---> 76\u001b[1;33m         \u001b[0mself\u001b[0m\u001b[1;33m.\u001b[0m\u001b[0m_compute_if_needed\u001b[0m\u001b[1;33m(\u001b[0m\u001b[0mx\u001b[0m\u001b[1;33m,\u001b[0m \u001b[1;33m*\u001b[0m\u001b[0margs\u001b[0m\u001b[1;33m)\u001b[0m\u001b[1;33m\u001b[0m\u001b[1;33m\u001b[0m\u001b[0m\n\u001b[0m\u001b[0;32m     77\u001b[0m         \u001b[1;32mreturn\u001b[0m \u001b[0mself\u001b[0m\u001b[1;33m.\u001b[0m\u001b[0m_value\u001b[0m\u001b[1;33m\u001b[0m\u001b[1;33m\u001b[0m\u001b[0m\n\u001b[0;32m     78\u001b[0m \u001b[1;33m\u001b[0m\u001b[0m\n",
      "\u001b[1;32mc:\\Users\\Esther\\anaconda3\\lib\\site-packages\\scipy\\optimize\\_optimize.py\u001b[0m in \u001b[0;36m_compute_if_needed\u001b[1;34m(self, x, *args)\u001b[0m\n\u001b[0;32m     68\u001b[0m         \u001b[1;32mif\u001b[0m \u001b[1;32mnot\u001b[0m \u001b[0mnp\u001b[0m\u001b[1;33m.\u001b[0m\u001b[0mall\u001b[0m\u001b[1;33m(\u001b[0m\u001b[0mx\u001b[0m \u001b[1;33m==\u001b[0m \u001b[0mself\u001b[0m\u001b[1;33m.\u001b[0m\u001b[0mx\u001b[0m\u001b[1;33m)\u001b[0m \u001b[1;32mor\u001b[0m \u001b[0mself\u001b[0m\u001b[1;33m.\u001b[0m\u001b[0m_value\u001b[0m \u001b[1;32mis\u001b[0m \u001b[1;32mNone\u001b[0m \u001b[1;32mor\u001b[0m \u001b[0mself\u001b[0m\u001b[1;33m.\u001b[0m\u001b[0mjac\u001b[0m \u001b[1;32mis\u001b[0m \u001b[1;32mNone\u001b[0m\u001b[1;33m:\u001b[0m\u001b[1;33m\u001b[0m\u001b[1;33m\u001b[0m\u001b[0m\n\u001b[0;32m     69\u001b[0m             \u001b[0mself\u001b[0m\u001b[1;33m.\u001b[0m\u001b[0mx\u001b[0m \u001b[1;33m=\u001b[0m \u001b[0mnp\u001b[0m\u001b[1;33m.\u001b[0m\u001b[0masarray\u001b[0m\u001b[1;33m(\u001b[0m\u001b[0mx\u001b[0m\u001b[1;33m)\u001b[0m\u001b[1;33m.\u001b[0m\u001b[0mcopy\u001b[0m\u001b[1;33m(\u001b[0m\u001b[1;33m)\u001b[0m\u001b[1;33m\u001b[0m\u001b[1;33m\u001b[0m\u001b[0m\n\u001b[1;32m---> 70\u001b[1;33m             \u001b[0mfg\u001b[0m \u001b[1;33m=\u001b[0m \u001b[0mself\u001b[0m\u001b[1;33m.\u001b[0m\u001b[0mfun\u001b[0m\u001b[1;33m(\u001b[0m\u001b[0mx\u001b[0m\u001b[1;33m,\u001b[0m \u001b[1;33m*\u001b[0m\u001b[0margs\u001b[0m\u001b[1;33m)\u001b[0m\u001b[1;33m\u001b[0m\u001b[1;33m\u001b[0m\u001b[0m\n\u001b[0m\u001b[0;32m     71\u001b[0m             \u001b[0mself\u001b[0m\u001b[1;33m.\u001b[0m\u001b[0mjac\u001b[0m \u001b[1;33m=\u001b[0m \u001b[0mfg\u001b[0m\u001b[1;33m[\u001b[0m\u001b[1;36m1\u001b[0m\u001b[1;33m]\u001b[0m\u001b[1;33m\u001b[0m\u001b[1;33m\u001b[0m\u001b[0m\n\u001b[0;32m     72\u001b[0m             \u001b[0mself\u001b[0m\u001b[1;33m.\u001b[0m\u001b[0m_value\u001b[0m \u001b[1;33m=\u001b[0m \u001b[0mfg\u001b[0m\u001b[1;33m[\u001b[0m\u001b[1;36m0\u001b[0m\u001b[1;33m]\u001b[0m\u001b[1;33m\u001b[0m\u001b[1;33m\u001b[0m\u001b[0m\n",
      "\u001b[1;32mc:\\Users\\Esther\\anaconda3\\lib\\site-packages\\sklearn\\gaussian_process\\_gpr.py\u001b[0m in \u001b[0;36mobj_func\u001b[1;34m(theta, eval_gradient)\u001b[0m\n\u001b[0;32m    260\u001b[0m             \u001b[1;32mdef\u001b[0m \u001b[0mobj_func\u001b[0m\u001b[1;33m(\u001b[0m\u001b[0mtheta\u001b[0m\u001b[1;33m,\u001b[0m \u001b[0meval_gradient\u001b[0m\u001b[1;33m=\u001b[0m\u001b[1;32mTrue\u001b[0m\u001b[1;33m)\u001b[0m\u001b[1;33m:\u001b[0m\u001b[1;33m\u001b[0m\u001b[1;33m\u001b[0m\u001b[0m\n\u001b[0;32m    261\u001b[0m                 \u001b[1;32mif\u001b[0m \u001b[0meval_gradient\u001b[0m\u001b[1;33m:\u001b[0m\u001b[1;33m\u001b[0m\u001b[1;33m\u001b[0m\u001b[0m\n\u001b[1;32m--> 262\u001b[1;33m                     lml, grad = self.log_marginal_likelihood(\n\u001b[0m\u001b[0;32m    263\u001b[0m                         \u001b[0mtheta\u001b[0m\u001b[1;33m,\u001b[0m \u001b[0meval_gradient\u001b[0m\u001b[1;33m=\u001b[0m\u001b[1;32mTrue\u001b[0m\u001b[1;33m,\u001b[0m \u001b[0mclone_kernel\u001b[0m\u001b[1;33m=\u001b[0m\u001b[1;32mFalse\u001b[0m\u001b[1;33m\u001b[0m\u001b[1;33m\u001b[0m\u001b[0m\n\u001b[0;32m    264\u001b[0m                     )\n",
      "\u001b[1;32mc:\\Users\\Esther\\anaconda3\\lib\\site-packages\\sklearn\\gaussian_process\\_gpr.py\u001b[0m in \u001b[0;36mlog_marginal_likelihood\u001b[1;34m(self, theta, eval_gradient, clone_kernel)\u001b[0m\n\u001b[0;32m    525\u001b[0m \u001b[1;33m\u001b[0m\u001b[0m\n\u001b[0;32m    526\u001b[0m         \u001b[1;32mif\u001b[0m \u001b[0meval_gradient\u001b[0m\u001b[1;33m:\u001b[0m\u001b[1;33m\u001b[0m\u001b[1;33m\u001b[0m\u001b[0m\n\u001b[1;32m--> 527\u001b[1;33m             \u001b[0mK\u001b[0m\u001b[1;33m,\u001b[0m \u001b[0mK_gradient\u001b[0m \u001b[1;33m=\u001b[0m \u001b[0mkernel\u001b[0m\u001b[1;33m(\u001b[0m\u001b[0mself\u001b[0m\u001b[1;33m.\u001b[0m\u001b[0mX_train_\u001b[0m\u001b[1;33m,\u001b[0m \u001b[0meval_gradient\u001b[0m\u001b[1;33m=\u001b[0m\u001b[1;32mTrue\u001b[0m\u001b[1;33m)\u001b[0m\u001b[1;33m\u001b[0m\u001b[1;33m\u001b[0m\u001b[0m\n\u001b[0m\u001b[0;32m    528\u001b[0m         \u001b[1;32melse\u001b[0m\u001b[1;33m:\u001b[0m\u001b[1;33m\u001b[0m\u001b[1;33m\u001b[0m\u001b[0m\n\u001b[0;32m    529\u001b[0m             \u001b[0mK\u001b[0m \u001b[1;33m=\u001b[0m \u001b[0mkernel\u001b[0m\u001b[1;33m(\u001b[0m\u001b[0mself\u001b[0m\u001b[1;33m.\u001b[0m\u001b[0mX_train_\u001b[0m\u001b[1;33m)\u001b[0m\u001b[1;33m\u001b[0m\u001b[1;33m\u001b[0m\u001b[0m\n",
      "\u001b[1;32mc:\\Users\\Esther\\anaconda3\\lib\\site-packages\\sklearn\\gaussian_process\\kernels.py\u001b[0m in \u001b[0;36m__call__\u001b[1;34m(self, X, Y, eval_gradient)\u001b[0m\n\u001b[0;32m   1534\u001b[0m         \u001b[0mlength_scale\u001b[0m \u001b[1;33m=\u001b[0m \u001b[0m_check_length_scale\u001b[0m\u001b[1;33m(\u001b[0m\u001b[0mX\u001b[0m\u001b[1;33m,\u001b[0m \u001b[0mself\u001b[0m\u001b[1;33m.\u001b[0m\u001b[0mlength_scale\u001b[0m\u001b[1;33m)\u001b[0m\u001b[1;33m\u001b[0m\u001b[1;33m\u001b[0m\u001b[0m\n\u001b[0;32m   1535\u001b[0m         \u001b[1;32mif\u001b[0m \u001b[0mY\u001b[0m \u001b[1;32mis\u001b[0m \u001b[1;32mNone\u001b[0m\u001b[1;33m:\u001b[0m\u001b[1;33m\u001b[0m\u001b[1;33m\u001b[0m\u001b[0m\n\u001b[1;32m-> 1536\u001b[1;33m             \u001b[0mdists\u001b[0m \u001b[1;33m=\u001b[0m \u001b[0mpdist\u001b[0m\u001b[1;33m(\u001b[0m\u001b[0mX\u001b[0m \u001b[1;33m/\u001b[0m \u001b[0mlength_scale\u001b[0m\u001b[1;33m,\u001b[0m \u001b[0mmetric\u001b[0m\u001b[1;33m=\u001b[0m\u001b[1;34m\"sqeuclidean\"\u001b[0m\u001b[1;33m)\u001b[0m\u001b[1;33m\u001b[0m\u001b[1;33m\u001b[0m\u001b[0m\n\u001b[0m\u001b[0;32m   1537\u001b[0m             \u001b[0mK\u001b[0m \u001b[1;33m=\u001b[0m \u001b[0mnp\u001b[0m\u001b[1;33m.\u001b[0m\u001b[0mexp\u001b[0m\u001b[1;33m(\u001b[0m\u001b[1;33m-\u001b[0m\u001b[1;36m0.5\u001b[0m \u001b[1;33m*\u001b[0m \u001b[0mdists\u001b[0m\u001b[1;33m)\u001b[0m\u001b[1;33m\u001b[0m\u001b[1;33m\u001b[0m\u001b[0m\n\u001b[0;32m   1538\u001b[0m             \u001b[1;31m# convert from upper-triangular matrix to square matrix\u001b[0m\u001b[1;33m\u001b[0m\u001b[1;33m\u001b[0m\u001b[0m\n",
      "\u001b[1;32mc:\\Users\\Esther\\anaconda3\\lib\\site-packages\\scipy\\spatial\\distance.py\u001b[0m in \u001b[0;36mpdist\u001b[1;34m(X, metric, out, **kwargs)\u001b[0m\n\u001b[0;32m   2231\u001b[0m         \u001b[1;32mif\u001b[0m \u001b[0mmetric_info\u001b[0m \u001b[1;32mis\u001b[0m \u001b[1;32mnot\u001b[0m \u001b[1;32mNone\u001b[0m\u001b[1;33m:\u001b[0m\u001b[1;33m\u001b[0m\u001b[1;33m\u001b[0m\u001b[0m\n\u001b[0;32m   2232\u001b[0m             \u001b[0mpdist_fn\u001b[0m \u001b[1;33m=\u001b[0m \u001b[0mmetric_info\u001b[0m\u001b[1;33m.\u001b[0m\u001b[0mpdist_func\u001b[0m\u001b[1;33m\u001b[0m\u001b[1;33m\u001b[0m\u001b[0m\n\u001b[1;32m-> 2233\u001b[1;33m             \u001b[1;32mreturn\u001b[0m \u001b[0mpdist_fn\u001b[0m\u001b[1;33m(\u001b[0m\u001b[0mX\u001b[0m\u001b[1;33m,\u001b[0m \u001b[0mout\u001b[0m\u001b[1;33m=\u001b[0m\u001b[0mout\u001b[0m\u001b[1;33m,\u001b[0m \u001b[1;33m**\u001b[0m\u001b[0mkwargs\u001b[0m\u001b[1;33m)\u001b[0m\u001b[1;33m\u001b[0m\u001b[1;33m\u001b[0m\u001b[0m\n\u001b[0m\u001b[0;32m   2234\u001b[0m         \u001b[1;32melif\u001b[0m \u001b[0mmstr\u001b[0m\u001b[1;33m.\u001b[0m\u001b[0mstartswith\u001b[0m\u001b[1;33m(\u001b[0m\u001b[1;34m\"test_\"\u001b[0m\u001b[1;33m)\u001b[0m\u001b[1;33m:\u001b[0m\u001b[1;33m\u001b[0m\u001b[1;33m\u001b[0m\u001b[0m\n\u001b[0;32m   2235\u001b[0m             \u001b[0mmetric_info\u001b[0m \u001b[1;33m=\u001b[0m \u001b[0m_TEST_METRICS\u001b[0m\u001b[1;33m.\u001b[0m\u001b[0mget\u001b[0m\u001b[1;33m(\u001b[0m\u001b[0mmstr\u001b[0m\u001b[1;33m,\u001b[0m \u001b[1;32mNone\u001b[0m\u001b[1;33m)\u001b[0m\u001b[1;33m\u001b[0m\u001b[1;33m\u001b[0m\u001b[0m\n",
      "\u001b[1;31mMemoryError\u001b[0m: Unable to allocate 11.0 GiB for an array with shape (1474000660,) and data type float64"
     ]
    }
   ],
   "source": [
    "from sklearn.gaussian_process import GaussianProcessRegressor\n",
    "from sklearn.gaussian_process.kernels import RBF\n",
    "print(X_train.shape, Y_train.shape)\n",
    "# X_train = X_train.reshape((X_train.shape[0], -1))\n",
    "# Y_train = Y_train.reshape((Y_train.shape[0], -1))\n",
    "n_samples, sequence_length, n_features = X_train.shape\n",
    "X_train_2d = X_train.reshape(n_samples, sequence_length * n_features)\n",
    "Y_train_2d = Y_train.reshape(n_samples, n_features)\n",
    "\n",
    "kernel = RBF(length_scale=1.0)\n",
    "gpr = GaussianProcessRegressor(kernel=kernel)\n",
    "gpr.fit(X_train_2d, Y_train_2d)\n",
    "predictedCord = gpr.predict(X_train_2d[-1].reshape(1, -1))\n",
    "print(predictedCord)"
   ]
  },
  {
   "cell_type": "code",
   "execution_count": 26,
   "metadata": {},
   "outputs": [
    {
     "name": "stdout",
     "output_type": "stream",
     "text": [
      "658\n",
      "{'time': array([  0,   1,   2,   3,   4,   5,   6,   7,   8,   9,  10,  11,  12,\n",
      "        13,  14,  15,  16,  17,  18,  19,  20,  21,  22,  23,  24,  25,\n",
      "        26,  27,  28,  29,  30,  31,  32,  33,  34,  35,  36,  37,  38,\n",
      "        39,  40,  41,  42,  43,  44,  45,  46,  47,  48,  49,  50,  51,\n",
      "        52,  53,  54,  55,  56,  57,  58,  59,  60,  61,  62,  63,  64,\n",
      "        65,  66,  67,  68,  69,  70,  71,  72,  73,  74,  75,  76,  77,\n",
      "        78,  79,  80,  81,  82,  83,  84,  85,  86,  87,  88,  89,  90,\n",
      "        91,  92,  93,  94,  95,  96,  97,  98,  99, 100, 101, 102, 103,\n",
      "       104, 105, 106, 107, 108, 109, 110, 111, 112, 113, 114, 115, 116,\n",
      "       117, 118, 119, 120, 121]), 'X': [4.075542591, 4.152006773, 4.228906143, 4.302099746, 4.376877391, 4.449410593, 4.522097914, 4.595428732, 4.668033747, 4.739584146, 4.809587653, 4.881531438, 4.95120765, 5.021340663, 5.089209194, 5.158574787, 5.226182675, 5.294275267, 5.359640471, 5.425936189, 5.491976752, 5.555443927, 5.619701891, 5.686355961, 5.750565811, 5.813225022, 5.87702102, 5.93744245, 5.998026029, 6.06018676, 6.119851235, 6.179717661, 6.239443316, 6.298751278, 6.35754129, 6.415799555, 6.474238157, 6.530246569, 6.584370532, 6.641468727, 6.697290025, 6.751135684, 6.803924231, 6.858154359, 6.911022954, 6.965863746, 7.017793031, 7.06912573, 7.118604365, 7.16998568, 7.220082278, 7.268251588, 7.318120937, 7.367571356, 7.414373328, 7.462860659, 7.508528734, 7.55456399, 7.600386555, 7.645639739, 7.689013866, 7.733527074, 7.776838472, 7.82095767, 7.862064263, 7.90495593, 7.948415574, 7.989210706, 8.027907904, 8.068160272, 8.108056286, 8.145491556, 8.186071358, 8.221897737, 8.260950794, 8.295601754, 8.331946347, 8.367542323, 8.404273343, 8.436991584, 8.4720889, 8.505955756, 8.539353943, 8.571276167, 8.602693953, 8.63362869, 8.665871474, 8.697440707, 8.724024636, 8.755232066, 8.783775129, 8.812823083, 8.840093369, 8.865446701, 8.894078014, 8.919205854, 8.94467636, 8.969663553, 8.996493141, 9.01911059, 9.042850708, 9.063412573, 9.087269256, 9.111646565, 9.130065087, 9.151216502, 9.172547435, 9.192758983, 9.212595511, 9.231391816, 9.248971251, 9.266753953, 9.283041086, 9.299895889, 9.317616992, 9.331766877, 9.349169737, 9.361719508, 9.374152763, 9.388833198, 9.402812843, 9.414891269], 'Y': [1.0, 1.0, 1.0, 1.0, 1.0, 1.0, 1.0, 1.0, 1.0, 1.0, 1.0, 1.0, 1.0, 1.0, 1.0, 1.0, 1.0, 1.0, 1.0, 1.0, 1.0, 1.0, 1.0, 1.0, 1.0, 1.0, 1.0, 1.0, 1.0, 1.0, 1.0, 1.0, 1.0, 1.0, 1.0, 1.0, 1.0, 1.0, 1.0, 1.0, 1.0, 1.0, 1.0, 1.0, 1.0, 1.0, 1.0, 1.0, 1.0, 1.0, 1.0, 1.0, 1.0, 1.0, 1.0, 1.0, 1.0, 1.0, 1.0, 1.0, 1.0, 1.0, 1.0, 1.0, 1.0, 1.0, 1.0, 1.0, 1.0, 1.0, 1.0, 1.0, 1.0, 1.0, 1.0, 1.0, 1.0, 1.0, 1.0, 1.0, 1.0, 1.0, 1.0, 1.0, 1.0, 1.0, 1.0, 1.0, 1.0, 1.0, 1.0, 1.0, 1.0, 1.0, 1.0, 1.0, 1.0, 1.0, 1.0, 1.0, 1.0, 1.0, 1.0, 1.0, 1.0, 1.0, 1.0, 1.0, 1.0, 1.0, 1.0, 1.0, 1.0, 1.0, 1.0, 1.0, 1.0, 1.0, 1.0, 1.0, 1.0, 1.0], 'Z': [1.662911962, 1.72486637, 1.788139098, 1.845244983, 1.904127726, 1.962541187, 2.018857335, 2.071654009, 2.127861644, 2.178635753, 2.233492954, 2.28340222, 2.332455057, 2.379732739, 2.430622608, 2.475123289, 2.522975118, 2.565753026, 2.608968419, 2.653999671, 2.694693412, 2.736440902, 2.777969097, 2.816387675, 2.856549264, 2.894873788, 2.931634222, 2.967813503, 3.00229617, 3.037646513, 3.071123013, 3.104296564, 3.136480762, 3.170356064, 3.200093494, 3.228748951, 3.258815171, 3.288896296, 3.315348236, 3.342570654, 3.369862986, 3.392916604, 3.418027204, 3.442182052, 3.462081522, 3.486002737, 3.504532151, 3.524526313, 3.543596794, 3.564259625, 3.580330713, 3.596466385, 3.612633423, 3.624884021, 3.637442719, 3.651028645, 3.66281677, 3.670795919, 3.680116652, 3.689246186, 3.695125529, 3.698971408, 3.704279934, 3.707068057, 3.706719248, 3.707658036, 3.707038158, 3.702223142, 3.698333963, 3.694929485, 3.688289504, 3.680275265, 3.667968785, 3.656012629, 3.641974691, 3.628153622, 3.61024854, 3.592537345, 3.572104075, 3.548603319, 3.524529156, 3.499870309, 3.471248749, 3.437988327, 3.406129789, 3.369860429, 3.332979494, 3.294912272, 3.251069601, 3.20817377, 3.160771758, 3.111522615, 3.058904711, 3.004043432, 2.946953725, 2.887511875, 2.823063725, 2.756004379, 2.689069049, 2.614577764, 2.540293492, 2.462955883, 2.37971461, 2.293961644, 2.206752702, 2.11495041, 2.019553461, 1.921425482, 1.818544826, 1.70945414, 1.599919223, 1.483548777, 1.366982803, 1.243505148, 1.117034801, 0.9846614, 0.848773839, 0.707631589, 0.565578692, 0.414231458, 0.260140693, 0.103232756]}\n",
      "{'X': 9.299895889, 'Y': 1.0}\n"
     ]
    }
   ],
   "source": [
    "# Separate each shot\n",
    "# For each shot, add to the x y z array, using index starting from 0 as time attribute\n",
    "\n",
    "# Group the DataFrame by shotID and create arrays of time, x, y and z for each group\n",
    "df_listed = df.groupby('SHOT_ID').apply(lambda g: [np.arange(len(g)), g['X'].values.tolist(), g['Y'].values.tolist(), g['Z'].values.tolist()])\n",
    "\n",
    "# Convert the grouped data into array of objects\n",
    "shot_data_array = np.array([{'time': data[0], 'X': data[1], 'Y': data[2], 'Z': data[3]} for data in df_listed])\n",
    "\n",
    "# Get the x and y value corresponding to the point where Z is closest to the height of the racket's top quarter (>=1.13m)\n",
    "threshold = 1.13\n",
    "min_starting_z = 1.6 # assuming all shots, even testing ones, start at a minimum height of 1.6m\n",
    "x_values = []\n",
    "y_values = []\n",
    "for data in shot_data_array:\n",
    "    z_values = np.array(data['Z'])\n",
    "    indices = np.where((z_values > threshold) & (z_values < min_starting_z))[0]\n",
    "    if len(indices) > 0:\n",
    "        closest_set = indices[np.abs(z_values[indices] - threshold).argmin()]\n",
    "        x_values.append(data['X'][closest_set])\n",
    "        y_values.append(data['Y'][closest_set])\n",
    "        \n",
    "    else: # TODO remove this, data should have values between 1.13 and 1.6\n",
    "        # middle of the court, no need to receive shuttlecock\n",
    "        x_values.append(2.59) \n",
    "        y_values.append(10.86) \n",
    "final_xy_array = np.array([{'X': x_values[i], 'Y': y_values[i]} for i in range(len(x_values))])\n",
    "print(len(shot_data_array)) # should match max SHOT_ID, 658\n",
    "print(shot_data_array[0])\n",
    "print(final_xy_array[0])"
   ]
  },
  {
   "attachments": {},
   "cell_type": "markdown",
   "metadata": {},
   "source": [
    "Split data into training and testing sets"
   ]
  },
  {
   "cell_type": "code",
   "execution_count": 7,
   "metadata": {},
   "outputs": [
    {
     "ename": "NameError",
     "evalue": "name 'X_pca_2' is not defined",
     "output_type": "error",
     "traceback": [
      "\u001b[1;31m---------------------------------------------------------------------------\u001b[0m",
      "\u001b[1;31mNameError\u001b[0m                                 Traceback (most recent call last)",
      "\u001b[1;32m~\\AppData\\Local\\Temp\\ipykernel_16828\\1039663041.py\u001b[0m in \u001b[0;36m<module>\u001b[1;34m\u001b[0m\n\u001b[1;32m----> 1\u001b[1;33m \u001b[0mX_train\u001b[0m\u001b[1;33m,\u001b[0m \u001b[0mX_test\u001b[0m\u001b[1;33m,\u001b[0m \u001b[0mY_train\u001b[0m\u001b[1;33m,\u001b[0m \u001b[0mY_test\u001b[0m \u001b[1;33m=\u001b[0m \u001b[0mtrain_test_split\u001b[0m\u001b[1;33m(\u001b[0m\u001b[0mX_pca_2\u001b[0m\u001b[1;33m,\u001b[0m \u001b[0mY\u001b[0m\u001b[1;33m,\u001b[0m \u001b[0mtest_size\u001b[0m\u001b[1;33m=\u001b[0m\u001b[1;36m0.3\u001b[0m\u001b[1;33m,\u001b[0m \u001b[0mrandom_state\u001b[0m\u001b[1;33m=\u001b[0m\u001b[1;36m12\u001b[0m\u001b[1;33m)\u001b[0m\u001b[1;33m\u001b[0m\u001b[1;33m\u001b[0m\u001b[0m\n\u001b[0m\u001b[0;32m      2\u001b[0m \u001b[0mtrainingRatio\u001b[0m \u001b[1;33m=\u001b[0m \u001b[1;36m0.7\u001b[0m\u001b[1;33m\u001b[0m\u001b[1;33m\u001b[0m\u001b[0m\n\u001b[0;32m      3\u001b[0m \u001b[0mnumShots\u001b[0m \u001b[1;33m=\u001b[0m \u001b[0mbadminton1\u001b[0m\u001b[1;33m[\u001b[0m\u001b[1;34m\"SHOT_ID\"\u001b[0m\u001b[1;33m]\u001b[0m\u001b[1;33m.\u001b[0m\u001b[0mmax\u001b[0m\u001b[1;33m(\u001b[0m\u001b[1;33m)\u001b[0m \u001b[1;33m+\u001b[0m \u001b[0mbadminton2\u001b[0m\u001b[1;33m[\u001b[0m\u001b[1;34m\"SHOT_ID\"\u001b[0m\u001b[1;33m]\u001b[0m\u001b[1;33m.\u001b[0m\u001b[0mmax\u001b[0m\u001b[1;33m(\u001b[0m\u001b[1;33m)\u001b[0m\u001b[1;33m\u001b[0m\u001b[1;33m\u001b[0m\u001b[0m\n\u001b[0;32m      4\u001b[0m \u001b[0mprint\u001b[0m\u001b[1;33m(\u001b[0m\u001b[1;34m\"Total number of shots: \"\u001b[0m \u001b[1;33m+\u001b[0m \u001b[0mstr\u001b[0m\u001b[1;33m(\u001b[0m\u001b[0mnumShots\u001b[0m\u001b[1;33m)\u001b[0m\u001b[1;33m)\u001b[0m\u001b[1;33m\u001b[0m\u001b[1;33m\u001b[0m\u001b[0m\n\u001b[0;32m      5\u001b[0m \u001b[0mtrainsetSize\u001b[0m \u001b[1;33m=\u001b[0m \u001b[0mint\u001b[0m\u001b[1;33m(\u001b[0m\u001b[0mnumShots\u001b[0m\u001b[1;33m*\u001b[0m\u001b[0mtrainingRatio\u001b[0m\u001b[1;33m)\u001b[0m\u001b[1;33m\u001b[0m\u001b[1;33m\u001b[0m\u001b[0m\n",
      "\u001b[1;31mNameError\u001b[0m: name 'X_pca_2' is not defined"
     ]
    }
   ],
   "source": [
    "X_train, X_test, Y_train, Y_test = train_test_split(X_pca_2, Y, test_size=0.3, random_state=12)\n",
    "trainingRatio = 0.7\n",
    "numShots = badminton1[\"SHOT_ID\"].max() + badminton2[\"SHOT_ID\"].max()\n",
    "print(\"Total number of shots: \" + str(numShots))\n",
    "trainsetSize = int(numShots*trainingRatio)\n",
    "trainsetSize_bdm1 = int(badminton1[\"SHOT_ID\"].max()*trainingRatio)\n",
    "trainsetSize_bdm2 = int(badminton2[\"SHOT_ID\"].max()*trainingRatio)\n",
    "print(\"Total training set size (# shots): \" + str(trainsetSize))\n",
    "print(\"Split between 1.6m and 2.6m shots: \" + str(trainsetSize_bdm1) +\" of \" + str(badminton1[\"SHOT_ID\"].max()) + \", \" +str(trainsetSize_bdm2) + \" of \" + str(badminton2[\"SHOT_ID\"].max()))\n",
    "testsetSize = numShots-trainsetSize\n",
    "traindata = badminton1.loc[badminton1[\"SHOT_ID\"]<= trainsetSize_bdm1]\n",
    "badminton2.loc[badminton2['SHOT_ID'] > 0, 'SHOT_ID'] += trainsetSize_bdm1 # to make the SHOT_IDs continuous from badminton1's\n",
    "traindata = traindata.append(badminton2.loc[badminton2[\"SHOT_ID\"]<= (trainsetSize_bdm1+trainsetSize_bdm2)])\n",
    "\n",
    "\n",
    "testdata = badminton1.loc[badminton1[\"SHOT_ID\"] > trainsetSize_bdm1]\n",
    "testdata.loc[testdata['SHOT_ID'] > trainsetSize_bdm1, 'SHOT_ID'] -= trainsetSize_bdm1 # to make the SHOT_IDs start from 1\n",
    "badminton2.loc[badminton2['SHOT_ID'] > 0, 'SHOT_ID'] += (-trainsetSize_bdm1 + badminton1['SHOT_ID'].max()) # to make the SHOT_IDs start from the final SHOT_ID of badminton1\n",
    "testdata = testdata.append(badminton2.loc[badminton2[\"SHOT_ID\"] > (trainsetSize_bdm2+badminton1['SHOT_ID'].max())])\n",
    "testdata.loc[testdata['SHOT_ID'] > badminton1['SHOT_ID'].max(), 'SHOT_ID'] -= trainsetSize\n",
    "\n",
    "print(traindata)\n",
    "print(testdata)"
   ]
  },
  {
   "attachments": {},
   "cell_type": "markdown",
   "metadata": {},
   "source": [
    "### Data Mining\n",
    "#### Step 1. Decide between individual prediction of x, y and z values, or predict x, y and z together\n",
    "##### 1.1. Are x, y and z related? (Raw values)"
   ]
  },
  {
   "cell_type": "code",
   "execution_count": null,
   "metadata": {},
   "outputs": [
    {
     "name": "stdout",
     "output_type": "stream",
     "text": [
      "Shot 31940 Cosine Similarity\n",
      "X and Y: 0.0\n",
      "X and Z: 0.0\n",
      "Y and Z: 0.0\n",
      "Shot 8818 Cosine Similarity\n",
      "X and Y: 0.0\n",
      "X and Z: 0.0\n",
      "Y and Z: 0.0\n",
      "Shot 2690 Cosine Similarity\n",
      "X and Y: 0.0\n",
      "X and Z: 0.0\n",
      "Y and Z: 0.0\n",
      "Shot 20506 Cosine Similarity\n",
      "X and Y: 0.0\n",
      "X and Z: 0.0\n",
      "Y and Z: 0.0\n",
      "Shot 28212 Cosine Similarity\n",
      "X and Y: 0.0\n",
      "X and Z: 0.0\n",
      "Y and Z: 0.0\n"
     ]
    }
   ],
   "source": [
    "# Analyse the correlation between x and y values for shot 1\n",
    "%matplotlib inline\n",
    "\n",
    "#get cosine similarity between x and y values\n",
    "def dotproduct(v1, v2):\n",
    "    return sum((a*b) for a, b in zip(v1, v2))\n",
    "def length(v):\n",
    "    length = math.sqrt(dotproduct(v, v))\n",
    "    if(length==0):\n",
    "        return 0.0000000000000001\n",
    "    return length\n",
    "\n",
    "def angle(v1, v2):\n",
    "    return dotproduct(v1, v2) / (length(v1) * length(v2))\n",
    "\n",
    "shots = []\n",
    "i=0\n",
    "while i <5:\n",
    "    #generate random value within a range\n",
    "    shots.append(random.randint(1, len(badminton1.index)))\n",
    "    i+=1\n",
    "\n",
    "for i in shots:\n",
    "    shot = badminton1[badminton1['SHOT_ID']== i]\n",
    "    print('Shot %d Cosine Similarity' % i)\n",
    "    print('X and Y: ' + str(angle(shot['X'], shot['Y'])))\n",
    "    print('X and Z: ' + str(angle(shot['X'], shot['Z'])))\n",
    "    print('Y and Z: ' + str(angle(shot['Y'], shot['Z'])))\n",
    "    # print('Shot angle: ' + str(statistics.mean(shot['SHUTTELCOCK SLANT ANGLE TO SIDELINE(DEGREE)'])))\n",
    "    # print\n",
    "\n",
    "#Observation: Low cosine similarities between raw X, Y and Z values\n",
    "# This suggests that with the raw values of X, Y and Z, "
   ]
  },
  {
   "cell_type": "code",
   "execution_count": null,
   "metadata": {},
   "outputs": [
    {
     "data": {
      "image/png": "[encoded data removed]",
      "text/plain": [
       "<Figure size 640x480 with 4 Axes>"
      ]
     },
     "metadata": {},
     "output_type": "display_data"
    },
    {
     "data": {
      "image/png": "[encoded data removed]",
      "text/plain": [
       "<Figure size 640x480 with 4 Axes>"
      ]
     },
     "metadata": {},
     "output_type": "display_data"
    }
   ],
   "source": [
    "# Visualise the lack of correlation or non-linear relationship between X, Y and Z values\n",
    "fig, axs = plt.subplots(2,2)\n",
    "i = random.randint(1, max(badminton1['SHOT_ID']))\n",
    "shot = badminton1[badminton1['SHOT_ID'] == i]\n",
    "shotx = shot['X']\n",
    "shoty = shot['Y']\n",
    "shotz = shot['Z']\n",
    "axs[0][0].scatter(shot.index, shotx, label='X')\n",
    "axs[0][1].scatter(shot.index, shoty, label='Y')\n",
    "axs[1][0].scatter(shot.index, shotz, label='Z')\n",
    "\n",
    "# Set legends and titles for each plot\n",
    "axs[0][0].legend()\n",
    "axs[0][0].set_title('Shot %d - X' % i)\n",
    "\n",
    "axs[0][1].legend()\n",
    "axs[0][1].set_title('Shot %d - Y'% i)\n",
    "\n",
    "axs[1][0].legend()\n",
    "axs[1][0].set_title('Shot - %d Z'% i)\n",
    "\n",
    "plt.scatter(shot.index,shotx, label='X')\n",
    "plt.scatter(shot.index,shoty, label='Y')\n",
    "plt.scatter(shot.index,shotz, label='Z')\n",
    "plt.legend()\n",
    "plt.title('Scatterplot of X, Y and Z for shot %d' %i)\n",
    "plt.show()\n",
    "\n",
    "# Similarly for badminton2\n",
    "fig, axs = plt.subplots(2,2)\n",
    "i = random.randint(1, max(badminton2['SHOT_ID']))\n",
    "shot = badminton2[badminton2['SHOT_ID'] == i]\n",
    "shotx = shot['X']\n",
    "shoty = shot['Y']\n",
    "shotz = shot['Z']\n",
    "axs[0][0].scatter(shot.index, shotx, label='X')\n",
    "axs[0][1].scatter(shot.index, shoty, label='Y')\n",
    "axs[1][0].scatter(shot.index, shotz, label='Z')\n",
    "\n",
    "# Set legends and titles for each plot\n",
    "axs[0][0].legend()\n",
    "axs[0][0].set_title('Shot %d - X' % i)\n",
    "\n",
    "axs[0][1].legend()\n",
    "axs[0][1].set_title('Shot %d - Y'% i)\n",
    "\n",
    "axs[1][0].legend()\n",
    "axs[1][0].set_title('Shot - %d Z'% i)\n",
    "\n",
    "plt.scatter(shot.index,shotx, label='X')\n",
    "plt.scatter(shot.index,shoty, label='Y')\n",
    "plt.scatter(shot.index,shotz, label='Z')\n",
    "plt.legend()\n",
    "plt.title('Scatterplot of X, Y and Z for shot %d' %i)\n",
    "plt.show()\n"
   ]
  },
  {
   "attachments": {},
   "cell_type": "markdown",
   "metadata": {},
   "source": [
    "### 1.2. Are x, y and z related? (delta)\n",
    "Feature creation to explore correlation - generate the changes in x, y and z between the first n data points of each shot"
   ]
  },
  {
   "cell_type": "code",
   "execution_count": null,
   "metadata": {},
   "outputs": [
    {
     "name": "stdout",
     "output_type": "stream",
     "text": [
      "badminton1 data (1.6m shots)\n",
      "Peak Index: [65, 185, 309, 432, 553, 675, 796, 919, 1040, 1163, 1284, 1406, 1529, 1651, 1773, 1893, 2016, 2139, 2261, 2382, 2504, 2626, 2749, 2870, 2993, 3115, 3236, 3359, 3480, 3604, 3724, 3847, 3967, 4091, 4213, 4335, 4456, 4577, 4701, 4823, 4945, 5066, 5189, 5310, 5433, 5555, 5675, 5798, 5920, 6042, 6164, 6288, 6410, 6530, 6653, 6776, 6896, 7019, 7140, 7264, 7386, 7507, 7628, 7751, 7872, 7994, 8116, 8240, 8362, 8483, 8605, 8727, 8849, 8970, 9093, 9215, 9337, 9458, 9580, 9702, 9824, 9947, 10069, 10191, 10313, 10435, 10556, 10678, 10801, 10923, 11045, 11166, 11288, 11411, 11555, 11704, 11853, 12002, 12151, 12301, 12449, 12598, 12748, 12897, 13046, 13195, 13344, 13492, 13640, 13790, 13938, 14089, 14237, 14385, 14536, 14685, 14834, 14983, 15131, 15280, 15430, 15579, 15727, 15876, 16026, 16174, 16323, 16472, 16621, 16770, 16919, 17068, 17217, 17367, 17515, 17664, 17814, 17962, 18112, 18260, 18409, 18559, 18707, 18856, 19004, 19154, 19303, 19452, 19601, 19751, 19899, 20049, 20198, 20346, 20495, 20644, 20793, 20942, 21091, 21240, 21388, 21538, 21688, 21837, 21985, 22135, 22283, 22433, 22582, 22731, 22880, 23029, 23177, 23327, 23475, 23625, 23774, 23923, 24072, 24220, 24370, 24518, 24668, 24816, 24966, 25115, 25263, 25412, 25561, 25710, 25861, 26009, 26157, 26305, 26455, 26605, 26754, 26902, 27052, 27200, 27349, 27499, 27648, 27797, 27944, 28094, 28244, 28392, 28542, 28690, 28839, 28989, 29136, 29286, 29435, 29583, 29734, 29882, 30030, 30179, 30330, 30478, 30627, 30777, 30926, 31075, 31223, 31371, 31520, 31669, 31819, 31968, 32118, 32266, 32414, 32564, 32714, 32862, 33011, 33160, 33308, 33460, 33607, 33756, 33906, 34054, 34203, 34352, 34501, 34651]\n",
      "Points to Peak: [65, 63, 65, 66, 65, 65, 64, 65, 64, 65, 64, 64, 65, 65, 65, 63, 64, 65, 65, 64, 64, 64, 65, 64, 65, 65, 64, 65, 64, 66, 64, 65, 63, 65, 65, 65, 64, 63, 65, 65, 65, 64, 65, 64, 65, 65, 63, 64, 64, 64, 64, 66, 66, 64, 65, 66, 64, 65, 64, 66, 66, 65, 64, 65, 64, 64, 64, 66, 66, 65, 65, 65, 65, 64, 65, 65, 65, 64, 64, 64, 64, 65, 65, 65, 65, 65, 64, 64, 65, 65, 65, 64, 64, 65, 87, 87, 87, 87, 87, 88, 87, 87, 88, 88, 88, 88, 88, 87, 86, 87, 86, 88, 87, 86, 88, 88, 88, 88, 87, 87, 88, 88, 87, 87, 88, 87, 87, 87, 87, 87, 87, 87, 87, 88, 87, 87, 88, 87, 88, 87, 87, 88, 87, 87, 86, 87, 87, 87, 87, 88, 87, 88, 88, 87, 87, 87, 87, 87, 87, 87, 86, 87, 88, 88, 87, 88, 87, 88, 88, 88, 88, 88, 87, 88, 87, 88, 88, 88, 88, 87, 88, 87, 88, 87, 88, 88, 87, 87, 87, 87, 89, 88, 87, 86, 87, 88, 88, 87, 88, 87, 87, 88, 88, 88, 86, 87, 88, 87, 88, 87, 87, 88, 86, 87, 87, 86, 88, 87, 86, 86, 88, 87, 87, 88, 88, 88, 87, 86, 86, 86, 87, 87, 88, 87, 86, 87, 88, 87, 87, 87, 86, 89, 87, 87, 88, 87, 87, 87, 87, 88]\n",
      "Min points to peak: 63\n",
      "\n",
      "badminton2 data (2.6m shots)\n",
      "Peak Index: [65, 192, 318, 445, 572, 700, 827, 954, 1081, 1208, 1335, 1461, 1589, 1716, 1843, 1969, 2096, 2223, 2351, 2478, 2605, 2733, 2859, 2985, 3113, 3240, 3367, 3493, 3622, 3748, 3876, 4002, 4127, 4255, 4382, 4509, 4635, 4765, 4891, 5017, 5145, 5272, 5399, 5526, 5652, 5779, 5907, 6033, 6161, 6288, 6416, 6542, 6668, 6795, 6923, 7049, 7177, 7305, 7430, 7558, 7685, 7812, 7940, 8065, 8193, 8319, 8446, 8573, 8702, 8828, 8954, 9081, 9208, 9337, 9462, 9589, 9716, 9844, 9971, 10098, 10225, 10351, 10478, 10606, 10732, 10859, 10987, 11114, 11240, 11368, 11494, 11622, 11748, 11877, 12002, 12130, 12258, 12383, 12510, 12637, 12766, 12892, 13019, 13146, 13273, 13400, 13526, 13654, 13780, 13907, 14035, 14161, 14289, 14416, 14542, 14669, 14797, 14924, 15051, 15177, 15304, 15430, 15560, 15684, 15812, 15939, 16067, 16193, 16321, 16447, 16575, 16702, 16828, 16956, 17082, 17209, 17336, 17463, 17590, 17718, 17846, 17972, 18098, 18226, 18352, 18480, 18606, 18733, 18860, 18988, 19116, 19233, 19343, 19442, 19567, 19696, 19822, 19950, 20076, 20203, 20330, 20457, 20584, 20712, 20839, 20967, 21094, 21220, 21347, 21474, 21601, 21728, 21854, 21983, 22109, 22235, 22362, 22489, 22616, 22744, 22871, 22997, 23124, 23252, 23379, 23505, 23632, 23760, 23885, 24014, 24141, 24268, 24394, 24522, 24647, 24776, 24903, 25017, 25125, 25222, 25314, 25400, 25483, 25560, 25653, 25806, 25959, 26113, 26265, 26419, 26572, 26723, 26877, 27030, 27183, 27335, 27489, 27643, 27794, 27948, 28101, 28254, 28407, 28561, 28714, 28866, 29020, 29173, 29325, 29479, 29631, 29784, 29937, 30090, 30243, 30396, 30550, 30702, 30857, 31009, 31161, 31315, 31468, 31621, 31774, 31926, 32080, 32233, 32385, 32538, 32692, 32844, 32997, 33150, 33303, 33456, 33609, 33762, 33914, 34069, 34221, 34374, 34527, 34680, 34833, 34985, 35138, 35292, 35446, 35598, 35752, 35904, 36058, 36210, 36364, 36516, 36669, 36823, 36976, 37128, 37283, 37434, 37588, 37740, 37892, 38046, 38200, 38353, 38506, 38658, 38811, 38964, 39117, 39270, 39423, 39576, 39729, 39881, 40036, 40187, 40341, 40494, 40647, 40800, 40954, 41107, 41260, 41412, 41566, 41718, 41871, 42024, 42177, 42330, 42483, 42636, 42788, 42943, 43095, 43248, 43401, 43554, 43707, 43860, 44013, 44166, 44319, 44472, 44626, 44779, 44932, 45085, 45237, 45390, 45544, 45696, 45849, 46003, 46155, 46308, 46461, 46615, 46768, 46920, 47073, 47226, 47379, 47534, 47685, 47838, 47992, 48144, 48298, 48450, 48604, 48757, 48909, 49063, 49215, 49368, 49522, 49674, 49828, 49981, 50134, 50286, 50439, 50592, 50745, 50899, 51051, 51205, 51358, 51511, 51663, 51815, 51969, 52123, 52275, 52429, 52581, 52735, 52887, 53041, 53194, 53348, 53500, 53652, 53806, 53959, 54111, 54264, 54417, 54570, 54724, 54876, 55030, 55182, 55335, 55487, 55642, 55795, 55946, 56098, 56239, 56372, 56495, 56613]\n",
      "Points to Peak: [65, 65, 64, 64, 64, 65, 65, 65, 65, 65, 65, 64, 65, 65, 65, 64, 64, 64, 65, 65, 65, 66, 65, 64, 65, 65, 65, 64, 66, 65, 66, 65, 63, 64, 64, 64, 63, 66, 65, 64, 65, 65, 65, 65, 64, 64, 65, 64, 65, 65, 66, 65, 64, 64, 65, 64, 65, 66, 64, 65, 65, 65, 66, 64, 65, 64, 64, 64, 66, 65, 64, 64, 64, 66, 64, 64, 64, 65, 65, 65, 65, 64, 64, 65, 64, 64, 65, 65, 64, 65, 64, 65, 64, 66, 64, 65, 66, 64, 64, 64, 66, 65, 65, 65, 65, 65, 64, 65, 64, 64, 65, 64, 65, 65, 64, 64, 65, 65, 65, 64, 64, 63, 66, 63, 64, 64, 65, 64, 65, 64, 65, 65, 64, 65, 64, 64, 64, 64, 64, 65, 66, 65, 64, 65, 64, 65, 64, 64, 64, 65, 66, 64, 66, 65, 63, 65, 64, 65, 64, 64, 64, 64, 64, 65, 65, 66, 66, 65, 65, 65, 65, 65, 64, 66, 65, 64, 64, 64, 64, 65, 65, 64, 64, 65, 65, 64, 64, 65, 63, 65, 65, 65, 64, 65, 63, 65, 65, 63, 65, 64, 64, 64, 66, 66, 87, 87, 87, 88, 87, 88, 88, 86, 87, 87, 87, 86, 87, 88, 86, 87, 87, 87, 87, 88, 88, 87, 88, 88, 87, 88, 87, 87, 87, 87, 87, 87, 88, 87, 89, 88, 87, 88, 88, 88, 88, 87, 88, 88, 87, 87, 88, 87, 87, 87, 87, 87, 87, 87, 86, 88, 87, 87, 87, 87, 87, 86, 86, 87, 88, 87, 88, 87, 88, 87, 88, 87, 87, 88, 88, 87, 89, 87, 88, 87, 86, 87, 88, 88, 88, 87, 87, 87, 87, 87, 87, 87, 87, 86, 88, 86, 87, 87, 87, 87, 88, 88, 88, 87, 88, 87, 87, 87, 87, 87, 87, 87, 86, 88, 87, 87, 87, 87, 87, 87, 87, 87, 87, 87, 88, 88, 88, 88, 87, 87, 88, 87, 87, 88, 87, 87, 87, 88, 88, 87, 87, 87, 87, 89, 87, 87, 88, 87, 88, 87, 88, 88, 87, 88, 87, 87, 88, 87, 88, 88, 88, 87, 87, 87, 87, 88, 87, 88, 88, 88, 87, 86, 87, 88, 87, 88, 87, 88, 87, 88, 88, 89, 88, 87, 88, 88, 87, 87, 87, 87, 88, 87, 88, 87, 87, 86, 88, 88, 86, 87, 87, 88, 87, 88]\n",
      "Min points to peak: 63\n"
     ]
    }
   ],
   "source": [
    "# Find the lowest number of points taken for the shuttlecock to reach the shot's peak\n",
    "# This is to find the maximum number of points that can be used to predict the peak of the shuttlecock\n",
    "\n",
    "grouped = traindata.groupby('SHOT_ID')\n",
    "peaks = grouped['Z'].max()\n",
    "\n",
    "peak_index = []\n",
    "first_shot_index = []\n",
    "points_to_peak = []\n",
    "min_points_to_peak = 0\n",
    "for i in range(1, len(grouped)+1): # iterate through each peak\n",
    "    peak_value = peaks[i]\n",
    "    peak_records = badminton1[(badminton1['SHOT_ID'] == i) & (badminton1['Z'] == peak_value)]\n",
    "    peak_index.extend(peak_records.index.tolist())\n",
    "    first_shot_index.extend(grouped.head(1).index.tolist())\n",
    "    points_to_peak.append(peak_index[i-1] - first_shot_index[i-1])\n",
    "    if i == 1:\n",
    "        min_points_to_peak = points_to_peak[i-1]\n",
    "    else:\n",
    "        if points_to_peak[i-1] < min_points_to_peak:\n",
    "            min_points_to_peak = points_to_peak[i-1]\n",
    "print(\"Index of peak:\", peak_index)\n",
    "print(\"Points to peak:\", points_to_peak)\n",
    "print(\"Min points to peak:\", min_points_to_peak)\n"
   ]
  },
  {
   "attachments": {},
   "cell_type": "markdown",
   "metadata": {},
   "source": [
    "Since both badminton1 and badminton2 data have shots that reach their peak after a maximum of 63 data points, we will use n <= 63 for the subsequent calculations and predictions.\n",
    "\n",
    "Feature creation: \n",
    "Take the changes in x, y and z between each shot's first 63 data points and identify any relationship between the individual axes' changes. Correlate this with the Euclidean Distance between each point too.\n",
    "\n",
    "Hypotheses: \n",
    "1. For each shot, Z influences the magnitude of the change in X and Y.\n",
    "2. The rate of change of X and Y are inversely related to the rate of change of Z\n",
    "3. The rate of change of X and Y are related (rate of change when normalised against its final X and Y)"
   ]
  },
  {
   "cell_type": "code",
   "execution_count": null,
   "metadata": {},
   "outputs": [
    {
     "name": "stdout",
     "output_type": "stream",
     "text": [
      "15500\n",
      "0.9524296910892851\n"
     ]
    },
    {
     "data": {
      "image/png": "[encoded data removed]",
      "text/plain": [
       "<Figure size 640x480 with 4 Axes>"
      ]
     },
     "metadata": {},
     "output_type": "display_data"
    }
   ],
   "source": [
    "# For badminton1\n",
    "bdm1_delta_x, bdm1_delta_y, bdm1_delta_z, bdm2_delta_x, bdm2_delta_y, bdm2_delta_z = [], [], [], [], [], []\n",
    "# Perform for shot 1\n",
    "for i in range(1, badminton1.groupby('SHOT_ID').ngroups+1):\n",
    "    bdm1_x_length = badminton1['X'][62] - badminton1['X'][0]\n",
    "    bdm1_y_length = badminton1['Y'][62] - badminton1['Y'][0]\n",
    "    bdm1_z_length = badminton1['Z'][62] - badminton1['Z'][0]\n",
    "    bdm2_x_length = badminton2['X'][62] - badminton2['X'][0]\n",
    "    bdm2_y_length = badminton2['Y'][62] - badminton2['Y'][0]\n",
    "    bdm2_z_length = badminton2['Z'][62] - badminton2['Z'][0]\n",
    "    for i in range(1, 63):\n",
    "        bdm1_delta_x.append(badminton1['X'][i+1] - badminton1['X'][i])\n",
    "        bdm1_delta_y.append(badminton1['Y'][i+1] - badminton1['Y'][i])\n",
    "        bdm1_delta_z.append(badminton1['Z'][i+1] - badminton1['Z'][i])\n",
    "        bdm2_delta_x.append(badminton2['X'][i+1] - badminton2['X'][i])\n",
    "        bdm2_delta_y.append(badminton2['Y'][i+1] - badminton2['Y'][i])\n",
    "        bdm2_delta_z.append(badminton2['Z'][i+1] - badminton2['Z'][i])\n",
    "print(len(bdm1_delta_x))\n",
    "fig, axs = plt.subplots(2,2)\n",
    "axs[0][0].scatter(range(1, 15501), bdm1_delta_x, label='X')\n",
    "axs[0][1].scatter(range(1, 15501), bdm1_delta_y, label='Y')\n",
    "axs[1][0].scatter(range(1, 15501), bdm1_delta_z, label='Z')\n",
    "# Set legends and titles for each plot\n",
    "axs[0][0].legend()\n",
    "axs[0][0].set_title('Shot - X')\n",
    "\n",
    "axs[0][1].legend()\n",
    "axs[0][1].set_title('Shot - Y')\n",
    "\n",
    "axs[1][0].legend()\n",
    "axs[1][0].set_title('Shot - Z')\n",
    "print(angle(bdm1_delta_x, bdm1_delta_z))"
   ]
  },
  {
   "cell_type": "code",
   "execution_count": null,
   "metadata": {},
   "outputs": [],
   "source": []
  }
 ],
 "metadata": {
  "kernelspec": {
   "display_name": "base",
   "language": "python",
   "name": "python3"
  },
  "language_info": {
   "codemirror_mode": {
    "name": "ipython",
    "version": 3
   },
   "file_extension": ".py",
   "mimetype": "text/x-python",
   "name": "python",
   "nbconvert_exporter": "python",
   "pygments_lexer": "ipython3",
   "version": "3.9.13"
  },
  "orig_nbformat": 4
 },
 "nbformat": 4,
 "nbformat_minor": 2
}
