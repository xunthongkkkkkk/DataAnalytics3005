{
 "cells": [
  {
   "attachments": {},
   "cell_type": "markdown",
   "metadata": {},
   "source": [
    "__1. Set up data mining environment__\n",
    "\n",
    "Load the processed data, remove unnecessary attributes, rename attributes for ease of referencing"
   ]
  },
  {
   "cell_type": "code",
   "execution_count": 1,
   "metadata": {},
   "outputs": [
    {
     "name": "stdout",
     "output_type": "stream",
     "text": [
      "(65006, 4)\n"
     ]
    },
    {
     "data": {
      "text/html": [
       "<div>\n",
       "<style scoped>\n",
       "    .dataframe tbody tr th:only-of-type {\n",
       "        vertical-align: middle;\n",
       "    }\n",
       "\n",
       "    .dataframe tbody tr th {\n",
       "        vertical-align: top;\n",
       "    }\n",
       "\n",
       "    .dataframe thead th {\n",
       "        text-align: right;\n",
       "    }\n",
       "</style>\n",
       "<table border=\"1\" class=\"dataframe\">\n",
       "  <thead>\n",
       "    <tr style=\"text-align: right;\">\n",
       "      <th></th>\n",
       "      <th>SHOT_ID</th>\n",
       "      <th>X</th>\n",
       "      <th>Y</th>\n",
       "      <th>Z</th>\n",
       "    </tr>\n",
       "  </thead>\n",
       "  <tbody>\n",
       "    <tr>\n",
       "      <th>0</th>\n",
       "      <td>1</td>\n",
       "      <td>4.075543</td>\n",
       "      <td>1.000000</td>\n",
       "      <td>1.662912</td>\n",
       "    </tr>\n",
       "    <tr>\n",
       "      <th>1</th>\n",
       "      <td>1</td>\n",
       "      <td>4.152007</td>\n",
       "      <td>1.000000</td>\n",
       "      <td>1.724866</td>\n",
       "    </tr>\n",
       "    <tr>\n",
       "      <th>2</th>\n",
       "      <td>1</td>\n",
       "      <td>4.228906</td>\n",
       "      <td>1.000000</td>\n",
       "      <td>1.788139</td>\n",
       "    </tr>\n",
       "    <tr>\n",
       "      <th>3</th>\n",
       "      <td>1</td>\n",
       "      <td>4.302100</td>\n",
       "      <td>1.000000</td>\n",
       "      <td>1.845245</td>\n",
       "    </tr>\n",
       "    <tr>\n",
       "      <th>4</th>\n",
       "      <td>1</td>\n",
       "      <td>4.376877</td>\n",
       "      <td>1.000000</td>\n",
       "      <td>1.904128</td>\n",
       "    </tr>\n",
       "    <tr>\n",
       "      <th>...</th>\n",
       "      <td>...</td>\n",
       "      <td>...</td>\n",
       "      <td>...</td>\n",
       "      <td>...</td>\n",
       "    </tr>\n",
       "    <tr>\n",
       "      <th>65001</th>\n",
       "      <td>448</td>\n",
       "      <td>8.953783</td>\n",
       "      <td>8.783813</td>\n",
       "      <td>1.096171</td>\n",
       "    </tr>\n",
       "    <tr>\n",
       "      <th>65002</th>\n",
       "      <td>448</td>\n",
       "      <td>8.968729</td>\n",
       "      <td>8.798245</td>\n",
       "      <td>0.870647</td>\n",
       "    </tr>\n",
       "    <tr>\n",
       "      <th>65003</th>\n",
       "      <td>448</td>\n",
       "      <td>8.984867</td>\n",
       "      <td>8.813831</td>\n",
       "      <td>0.639024</td>\n",
       "    </tr>\n",
       "    <tr>\n",
       "      <th>65004</th>\n",
       "      <td>448</td>\n",
       "      <td>9.001328</td>\n",
       "      <td>8.829726</td>\n",
       "      <td>0.398100</td>\n",
       "    </tr>\n",
       "    <tr>\n",
       "      <th>65005</th>\n",
       "      <td>448</td>\n",
       "      <td>9.017476</td>\n",
       "      <td>8.845321</td>\n",
       "      <td>0.153134</td>\n",
       "    </tr>\n",
       "  </tbody>\n",
       "</table>\n",
       "<p>65006 rows × 4 columns</p>\n",
       "</div>"
      ],
      "text/plain": [
       "       SHOT_ID         X         Y         Z\n",
       "0            1  4.075543  1.000000  1.662912\n",
       "1            1  4.152007  1.000000  1.724866\n",
       "2            1  4.228906  1.000000  1.788139\n",
       "3            1  4.302100  1.000000  1.845245\n",
       "4            1  4.376877  1.000000  1.904128\n",
       "...        ...       ...       ...       ...\n",
       "65001      448  8.953783  8.783813  1.096171\n",
       "65002      448  8.968729  8.798245  0.870647\n",
       "65003      448  8.984867  8.813831  0.639024\n",
       "65004      448  9.001328  8.829726  0.398100\n",
       "65005      448  9.017476  8.845321  0.153134\n",
       "\n",
       "[65006 rows x 4 columns]"
      ]
     },
     "execution_count": 1,
     "metadata": {},
     "output_type": "execute_result"
    }
   ],
   "source": [
    "import pandas as pd\n",
    "import math, random\n",
    "import matplotlib.pyplot as plt\n",
    "from sklearn.model_selection import train_test_split\n",
    "import numpy as np\n",
    "\n",
    "# Specify the input CSV file and row number to split at\n",
    "input_file = 'merged_datasets.csv'\n",
    "# Function to separate CSV based on row number\n",
    "\n",
    "# Read the input CSV file\n",
    "df = pd.read_csv(input_file, header=\"infer\")\n",
    "\n",
    "# Split the DataFrame based on the row number\n",
    "df = df.drop(columns=[\"HUMAN PLAYER POSITION (X) metres\",\"HUMAN PLAYER POSITION (Y) metres\",\"INITITAL VELOCITY OF SHUTTELCOCK(m/s)\",\"INITIAL SHUTTELCOCK FIRING ANGLE (DEGREE)\",\"SHUTTELCOCK SLANT ANGLE TO SIDELINE(DEGREE)\",\"OUT_OF_COURT_SHOTS\"])\n",
    "df = df.rename(columns={\"SHUTTLECOCK POSITIION IN AIR(X ) metres\":\"X\",\"SHUTTLECOCK POSITIION IN AIR(Y) metres\":\"Y\",\"SHUTTLECOCK POSITIION IN AIR(Z) metres\":\"Z\"})\n",
    "\n",
    "print(df.shape)\n",
    "df"
   ]
  },
  {
   "attachments": {},
   "cell_type": "markdown",
   "metadata": {},
   "source": [
    "__2. Create training and testing set__\n",
    "\n",
    "70:30 split used"
   ]
  },
  {
   "cell_type": "code",
   "execution_count": 2,
   "metadata": {},
   "outputs": [
    {
     "name": "stdout",
     "output_type": "stream",
     "text": [
      "448\n",
      "313\n",
      "   SHOT_ID         X    Y         Z\n",
      "0        1  4.075543  1.0  1.662912\n",
      "1        1  4.152007  1.0  1.724866\n",
      "2        1  4.228906  1.0  1.788139\n",
      "3        1  4.302100  1.0  1.845245\n",
      "4        1  4.376877  1.0  1.904128\n",
      "       SHOT_ID         X         Y         Z\n",
      "44351      314  4.051489  2.010944  2.685567\n",
      "44352      314  4.098172  2.020867  2.768408\n",
      "44353      314  4.148763  2.031621  2.852487\n",
      "44354      314  4.199231  2.042348  2.933508\n",
      "44355      314  4.247574  2.052623  3.014149\n"
     ]
    }
   ],
   "source": [
    "trainingRatio = 0.7\n",
    "numShots = df[\"SHOT_ID\"].max()\n",
    "print(numShots)\n",
    "trainsetSize = int(numShots*trainingRatio)\n",
    "print(trainsetSize)\n",
    "testsetSize = numShots-trainsetSize\n",
    "traindata = df.loc[df[\"SHOT_ID\"]<= trainsetSize]\n",
    "testdata = df.loc[df[\"SHOT_ID\"] > trainsetSize]\n",
    "print(traindata.head())\n",
    "print(testdata.head())"
   ]
  },
  {
   "attachments": {},
   "cell_type": "markdown",
   "metadata": {},
   "source": [
    "__4. Functions to create X_train, Y_train, X_test and Y_test__\n",
    "\n",
    "prepare_data(): Create feature set (X,Y,Z) and class labels (adjacent X,Y,Z)\n",
    "\n",
    "prepare_data_deltas(): Create feature set (deltaX, deltaY, deltaZ) and class labels (adjacent deltaX, deltaY, deltaZ)"
   ]
  },
  {
   "cell_type": "code",
   "execution_count": 33,
   "metadata": {},
   "outputs": [],
   "source": [
    "# Individual data points in X, Y\n",
    "def prepare_data(data, sequence_length):\n",
    "    X = []\n",
    "    Y = []\n",
    "    for shot_id in data['SHOT_ID'].unique(): # for each shot id\n",
    "        shot_data = data.loc[data['SHOT_ID'] == shot_id][['X', 'Y', 'Z']].values\n",
    "        for i in range(len(shot_data)-sequence_length):\n",
    "            X.append(shot_data[i:i+sequence_length]) # get 1 set of datapoints\n",
    "            Y.append(shot_data[i+sequence_length]) # get set of values that the datapoints should predict\n",
    "    X = np.array(X)\n",
    "    X = X.reshape(X.shape[0], X.shape[1]*X.shape[2])\n",
    "    Y = np.array(Y)\n",
    "    Y = Y.reshape(-1, 3)\n",
    "    print(X.shape, Y.shape)\n",
    "    return X, Y\n",
    "\n",
    "# Delta between consecutive data points in X, Y\n",
    "def prepare_data_deltas(data, sequence_length):\n",
    "    X = []\n",
    "    Y = []\n",
    "    # if seq len = 5,\n",
    "    # 0  1  2  3  4 -> 4 diffs\n",
    "    for shot_id in data['SHOT_ID'].unique(): # for each shot id\n",
    "        shot_data = (data.loc[data['SHOT_ID'] == shot_id][['X', 'Y', 'Z']].values) # get xyz\n",
    "        for i in range(len(shot_data)-sequence_length):\n",
    "            for j in range(sequence_length-1):\n",
    "                X1 = shot_data[j]\n",
    "                X2 = shot_data[j+1] \n",
    "                X.append(X2 - X1)\n",
    "            Y1 = shot_data[sequence_length+i-1]\n",
    "            Y2 = shot_data[sequence_length+i]\n",
    "            Y.append(Y2 - Y1)\n",
    "    X = np.array(X)\n",
    "    print(\"X pre-reshape: \", X.shape)\n",
    "    X = X.reshape(-1, (sequence_length-1)*3)\n",
    "    Y = np.array(Y)\n",
    "    Y = Y.reshape(-1, 3)\n",
    "    # final shape should be n rows of 3\n",
    "    print(X.shape, Y.shape)\n",
    "    return X, Y"
   ]
  },
  {
   "attachments": {},
   "cell_type": "markdown",
   "metadata": {},
   "source": [
    "__5. Create X_train, Y_train, X_test, Y_test__\n",
    "\n",
    "Sequence length dictates how many data points to use per shot\n",
    "\n",
    "_For prepare_data():_\n",
    "\n",
    "  - Attribute set contains 0..n XYZ values for each shot, and class labels containing 1..n+1 XYZ values of each shot\n",
    "\n",
    "_For prepare_data_deltas():_\n",
    "\n",
    "  - Attribute set contains n XYZ values for each shot, referring to i+1['X'] - i['X']. i+1['Y'] - i['Y'] and so on for values i in 0 to n.\n",
    "\n",
    "  - Class labels contain n XYZ values for each shot, referring to i+2['X'] - i+1['X'], similar for Y and Z, for values i in 0 to n."
   ]
  },
  {
   "cell_type": "code",
   "execution_count": 34,
   "metadata": {},
   "outputs": [
    {
     "name": "stdout",
     "output_type": "stream",
     "text": [
      "(39656, 45) (39656, 3)\n",
      "(18630, 45) (18630, 3)\n",
      "X pre-reshape:  (555184, 3)\n",
      "(39656, 42) (39656, 3)\n",
      "X pre-reshape:  (260820, 3)\n",
      "(18630, 42) (18630, 3)\n"
     ]
    }
   ],
   "source": [
    "sequence_length = 15\n",
    "X_train, Y_train = prepare_data(traindata, sequence_length)\n",
    "\n",
    "X_test, Y_test = prepare_data(testdata, sequence_length)\n",
    "\n",
    "X_delta_train, Y_delta_train = prepare_data_deltas(traindata, sequence_length)\n",
    "\n",
    "X_delta_test, Y_delta_test = prepare_data_deltas(testdata, sequence_length)"
   ]
  },
  {
   "attachments": {},
   "cell_type": "markdown",
   "metadata": {},
   "source": [
    "__6. Gaussian Process Regressor 1 (prepare_data())__\n",
    "\n",
    "Train Gaussian Regressor on X_train and Y_train obtained through prepare_data()"
   ]
  },
  {
   "cell_type": "code",
   "execution_count": null,
   "metadata": {},
   "outputs": [],
   "source": [
    "from sklearn.gaussian_process import GaussianProcessRegressor\n",
    "from sklearn.gaussian_process.kernels import RBF\n",
    "import joblib\n",
    "\n",
    "kernel = RBF()\n",
    "gpr = GaussianProcessRegressor(kernel=kernel)\n",
    "gpr.n_features_in_ = 3\n",
    "gpr.fit(X_train, Y_train)\n",
    "joblib.dump(gpr, 'gpr.pkl')\n"
   ]
  },
  {
   "attachments": {},
   "cell_type": "markdown",
   "metadata": {},
   "source": [
    "__7. Gaussian Process Regressor 1 Performance__\n",
    "\n",
    "GPR prediction, RMSE and plot"
   ]
  },
  {
   "cell_type": "code",
   "execution_count": null,
   "metadata": {},
   "outputs": [],
   "source": [
    "# Convert predictions back to original scale for plotting\n",
    "from sklearn.metrics import mean_squared_error\n",
    "\n",
    "Y_pred = gpr.predict(X_test)\n",
    "\n",
    "# Evaluate the model\n",
    "mse = mean_squared_error(Y_test, Y_pred)\n",
    "rmse = np.sqrt(mse)\n",
    "\n",
    "print('Mean Squared Error:', mse)\n",
    "print('Root Mean Squared Error:', rmse)\n",
    "\n",
    "# 3D Plot\n",
    "fig = plt.figure()\n",
    "ax = fig.add_subplot(111, projection='3d')\n",
    "ax.set_xlabel('X')\n",
    "ax.set_ylabel('Y')\n",
    "ax.set_zlabel('Z')\n",
    "\n",
    "ax.scatter(Y_test[:,0], Y_test[:,1], Y_test[:,2], color='b', label='Actual')\n",
    "ax.scatter(Y_pred[:,0], Y_pred[:,1], Y_pred[:,2], color='r',label='Predicted')\n",
    "plt.legend()\n",
    "plt.show()"
   ]
  },
  {
   "attachments": {},
   "cell_type": "markdown",
   "metadata": {},
   "source": [
    "__8. Gaussian Process Regressor 2 (predict_data_deltas())__\n",
    "\n",
    "GPR_delta model, trained on X_delta_train and Y_delta_trained"
   ]
  },
  {
   "cell_type": "code",
   "execution_count": 33,
   "metadata": {},
   "outputs": [
    {
     "name": "stderr",
     "output_type": "stream",
     "text": [
      "c:\\Users\\Esther\\anaconda3\\lib\\site-packages\\sklearn\\gaussian_process\\_gpr.py:610: ConvergenceWarning: lbfgs failed to converge (status=2):\n",
      "ABNORMAL_TERMINATION_IN_LNSRCH.\n",
      "\n",
      "Increase the number of iterations (max_iter) or scale the data as shown in:\n",
      "    https://scikit-learn.org/stable/modules/preprocessing.html\n",
      "  _check_optimize_result(\"lbfgs\", opt_res)\n"
     ]
    },
    {
     "data": {
      "text/plain": [
       "GaussianProcessRegressor(kernel=RBF(length_scale=1))"
      ]
     },
     "execution_count": 33,
     "metadata": {},
     "output_type": "execute_result"
    }
   ],
   "source": [
    "from sklearn.gaussian_process import GaussianProcessRegressor\n",
    "from sklearn.gaussian_process.kernels import RBF\n",
    "import joblib\n",
    "\n",
    "kernel = RBF()\n",
    "gpr_delta = GaussianProcessRegressor(kernel=kernel)\n",
    "gpr_delta.n_features_in_ = 3\n",
    "gpr_delta.fit(X_delta_train, Y_delta_train)\n",
    "joblib.dump(gpr_delta, 'gpr_delta.pkl')"
   ]
  },
  {
   "attachments": {},
   "cell_type": "markdown",
   "metadata": {},
   "source": [
    "__9. GPR2 Performance__\n",
    "\n",
    "GPR prediction, RMSE and plot"
   ]
  },
  {
   "cell_type": "code",
   "execution_count": 38,
   "metadata": {},
   "outputs": [
    {
     "ename": "NameError",
     "evalue": "name 'Y_pred' is not defined",
     "output_type": "error",
     "traceback": [
      "\u001b[1;31m---------------------------------------------------------------------------\u001b[0m",
      "\u001b[1;31mNameError\u001b[0m                                 Traceback (most recent call last)",
      "\u001b[1;32m~\\AppData\\Local\\Temp\\ipykernel_41028\\577123362.py\u001b[0m in \u001b[0;36m<module>\u001b[1;34m\u001b[0m\n\u001b[0;32m     11\u001b[0m \u001b[1;31m# print('Root Mean Squared Error:', rmse)\u001b[0m\u001b[1;33m\u001b[0m\u001b[1;33m\u001b[0m\u001b[0m\n\u001b[0;32m     12\u001b[0m \u001b[1;33m\u001b[0m\u001b[0m\n\u001b[1;32m---> 13\u001b[1;33m \u001b[0mY_test_coord\u001b[0m \u001b[1;33m=\u001b[0m \u001b[0mnp\u001b[0m\u001b[1;33m.\u001b[0m\u001b[0mzeros_like\u001b[0m\u001b[1;33m(\u001b[0m\u001b[0mY_pred\u001b[0m\u001b[1;33m)\u001b[0m\u001b[1;33m\u001b[0m\u001b[1;33m\u001b[0m\u001b[0m\n\u001b[0m\u001b[0;32m     14\u001b[0m \u001b[1;33m\u001b[0m\u001b[0m\n\u001b[0;32m     15\u001b[0m \u001b[1;31m# Edit points to plot (Y_pred and Y_test are the deltas)\u001b[0m\u001b[1;33m\u001b[0m\u001b[1;33m\u001b[0m\u001b[0m\n",
      "\u001b[1;31mNameError\u001b[0m: name 'Y_pred' is not defined"
     ]
    }
   ],
   "source": [
    "# Convert predictions back to original scale for plotting\n",
    "from sklearn.metrics import mean_squared_error\n",
    "\n",
    "Y_pred = gpr_delta.predict(X_delta_test)\n",
    "\n",
    "# Evaluate the model\n",
    "mse = mean_squared_error(Y_delta_test, Y_pred)\n",
    "rmse = np.sqrt(mse)\n",
    "\n",
    "print('Mean Squared Error:', mse)\n",
    "print('Root Mean Squared Error:', rmse)\n",
    "\n",
    "Y_test_coord = np.zeros_like(Y_pred)\n",
    "\n",
    "# Edit points to plot (Y_pred and Y_test are the deltas)\n",
    "for i in range(len(Y_pred)):\n",
    "    Y_pred[i] = Y_pred[i] + X_test[i] # X_test contains actual coordinates from which the deltas were derived\n",
    "    Y_test_coord[i] = Y_delta_test[i] + X_test[i]\n",
    "\n",
    "# 3D Plot\n",
    "fig = plt.figure()\n",
    "ax = fig.add_subplot(111, projection='3d')\n",
    "ax.set_xlabel('X')\n",
    "ax.set_ylabel('Y')\n",
    "ax.set_zlabel('Z')\n",
    "\n",
    "ax.scatter(Y_test_coord[:,0], Y_test_coord[:,1], Y_test_coord[:,2], color='b', label='Actual')\n",
    "ax.scatter(Y_pred[:,0], Y_pred[:,1], Y_pred[:,2], color='r',label='Predicted')\n",
    "plt.legend()\n",
    "plt.show()"
   ]
  }
 ],
 "metadata": {
  "kernelspec": {
   "display_name": "Python 3 (ipykernel)",
   "language": "python",
   "name": "python3"
  },
  "language_info": {
   "codemirror_mode": {
    "name": "ipython",
    "version": 3
   },
   "file_extension": ".py",
   "mimetype": "text/x-python",
   "name": "python",
   "nbconvert_exporter": "python",
   "pygments_lexer": "ipython3",
   "version": "3.9.13"
  }
 },
 "nbformat": 4,
 "nbformat_minor": 2
}
