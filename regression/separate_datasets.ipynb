{
 "cells": [
  {
   "cell_type": "code",
   "execution_count": 1,
   "metadata": {},
   "outputs": [],
   "source": [
    "import pandas as pd\n",
    "\n",
    "# Function to separate CSV based on row number\n",
    "def separate_csv(input_file, row_number):\n",
    "    # Read the input CSV file\n",
    "    df = pd.read_csv(input_file)\n",
    "\n",
    "    # Split the DataFrame based on the row number\n",
    "    df1 = df[:row_number]\n",
    "    df2 = df[row_number:]\n",
    "\n",
    "    # Save the separated DataFrames to new CSV files\n",
    "    df1.to_csv('processed_badminton1.csv', index=False)\n",
    "    df2.to_csv('processed_badminton2.csv', index=False)\n",
    "\n",
    "# Specify the input CSV file and row number to split at\n",
    "input_file = 'merged_datasets_renamed.csv'\n",
    "split_row = 34712  # Example: Split at row number 100\n",
    "\n",
    "# Call the function to separate the CSV\n",
    "separate_csv(input_file, split_row)\n"
   ]
  }
 ],
 "metadata": {
  "kernelspec": {
   "display_name": "base",
   "language": "python",
   "name": "python3"
  },
  "language_info": {
   "codemirror_mode": {
    "name": "ipython",
    "version": 3
   },
   "file_extension": ".py",
   "mimetype": "text/x-python",
   "name": "python",
   "nbconvert_exporter": "python",
   "pygments_lexer": "ipython3",
   "version": "3.9.13"
  },
  "orig_nbformat": 4
 },
 "nbformat": 4,
 "nbformat_minor": 2
}
