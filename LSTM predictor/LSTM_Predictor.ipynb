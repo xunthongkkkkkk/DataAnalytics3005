{
  "cells": [
    {
      "attachments": {},
      "cell_type": "markdown",
      "metadata": {
        "collapsed": false,
        "id": "3umFj3ETE4F2"
      },
      "source": [
        "Import All Packages"
      ]
    },
    {
      "cell_type": "code",
      "execution_count": 1,
      "metadata": {
        "collapsed": true,
        "id": "KzqzHRS5E4F4"
      },
      "outputs": [],
      "source": [
        "import pandas as pd\n",
        "import numpy as np\n",
        "from sklearn.preprocessing import MinMaxScaler\n",
        "from keras.models import Sequential, load_model\n",
        "from keras.layers import LSTM, Dense,Dropout\n",
        "import matplotlib.pyplot as plt\n",
        "import tensorflow as tf\n",
        "import pandas as pd\n",
        "import numpy as np\n",
        "from sklearn.preprocessing import MinMaxScaler\n",
        "from keras.models import Sequential, load_model\n",
        "from keras.layers import LSTM, Dense,Dropout\n",
        "import matplotlib.pyplot as plt\n",
        "from mpl_toolkits.mplot3d import Axes3D\n",
        "import time"
      ]
    },
    {
      "attachments": {},
      "cell_type": "markdown",
      "metadata": {
        "collapsed": false,
        "id": "wexZ5cpEE4F6"
      },
      "source": [
        "Prepare Data from CSV"
      ]
    },
    {
      "attachments": {},
      "cell_type": "markdown",
      "metadata": {
        "id": "YyHfw0W4WL7P"
      },
      "source": []
    },
    {
      "cell_type": "code",
      "execution_count": 2,
      "metadata": {
        "id": "2l4cr9ryE4F8"
      },
      "outputs": [],
      "source": [
        "data = pd.read_csv(\"merged_datasets.csv\",header=\"infer\")\n",
        "data = data.drop(columns=[\"HUMAN PLAYER POSITION (X) metres\",\"HUMAN PLAYER POSITION (Y) metres\",\"INITITAL VELOCITY OF SHUTTELCOCK(m/s)\",\"INITIAL SHUTTELCOCK FIRING ANGLE (DEGREE)\",\"SHUTTELCOCK SLANT ANGLE TO SIDELINE(DEGREE)\",\"OUT_OF_COURT_SHOTS\"])\n",
        "data = data.rename(columns={\"SHUTTLECOCK POSITIION IN AIR(X ) metres\":\"X\",\"SHUTTLECOCK POSITIION IN AIR(Y) metres\":\"Y\",\"SHUTTLECOCK POSITIION IN AIR(Z) metres\":\"Z\"})"
      ]
    },
    {
      "attachments": {},
      "cell_type": "markdown",
      "metadata": {
        "collapsed": false,
        "id": "jIKAmpqRE4F-"
      },
      "source": [
        "Split Dataset"
      ]
    },
    {
      "cell_type": "code",
      "execution_count": null,
      "metadata": {
        "id": "pB3obS17E4F_"
      },
      "outputs": [],
      "source": [
        "numShots = data[\"SHOT_ID\"].max()\n",
        "print(numShots)\n",
        "trainsetSize = int(numShots*0.7)\n",
        "print(trainsetSize)\n",
        "testsetSize = numShots-trainsetSize\n",
        "traindata = data.loc[data[\"SHOT_ID\"]<= trainsetSize]\n",
        "testdata = data.loc[data[\"SHOT_ID\"] > trainsetSize]\n",
        "print(traindata.head())\n",
        "print(testdata.head())\n",
        "\n"
      ]
    },
    {
      "attachments": {},
      "cell_type": "markdown",
      "metadata": {
        "collapsed": false,
        "id": "LabDQjrVE4F9"
      },
      "source": [
        "Normalize Data"
      ]
    },
    {
      "cell_type": "code",
      "execution_count": null,
      "metadata": {
        "id": "zgyTM7P3E4F-"
      },
      "outputs": [],
      "source": [
        "scale = MinMaxScaler()\n",
        "traindata[[\"X\",\"Y\",\"Z\"]] = scale.fit_transform(traindata[[\"X\",\"Y\",\"Z\"]])\n",
        "testdata[[\"X\",\"Y\",\"Z\"]] = scale.fit_transform(testdata[[\"X\",\"Y\",\"Z\"]])\n",
        "print(traindata.head())\n",
        "print(testdata.head())"
      ]
    },
    {
      "attachments": {},
      "cell_type": "markdown",
      "metadata": {
        "collapsed": false,
        "id": "8yG2MTEWE4GA"
      },
      "source": [
        "Sequence Function"
      ]
    },
    {
      "cell_type": "code",
      "execution_count": 4,
      "metadata": {
        "id": "e2yFAHxkE4GC"
      },
      "outputs": [],
      "source": [
        "def prepare_data(data, sequence_length):\n",
        "    X = []\n",
        "    Y = []\n",
        "    for shot_id in data['SHOT_ID'].unique():\n",
        "        shot_data = data.loc[data['SHOT_ID'] == shot_id][['X', 'Y', 'Z']].values\n",
        "        for i in range(len(shot_data) - sequence_length):\n",
        "            sequence = shot_data[i:i+sequence_length]\n",
        "            X.append(sequence)\n",
        "            Y.append(shot_data[i+sequence_length])\n",
        "    X = np.array(X)\n",
        "    Y = np.array(Y)\n",
        "    return X, Y"
      ]
    },
    {
      "attachments": {},
      "cell_type": "markdown",
      "metadata": {
        "collapsed": false,
        "id": "ufc5fxKcE4GE"
      },
      "source": [
        "Create Sequence for test and train"
      ]
    },
    {
      "cell_type": "code",
      "execution_count": null,
      "metadata": {
        "id": "rx1bw4zYE4GF"
      },
      "outputs": [],
      "source": [
        "sequence_length =15\n",
        "X_train, Y_train = prepare_data(traindata, sequence_length)\n",
        "print(X_train.dtype,Y_train.dtype)\n",
        "\n",
        "\n",
        "\n",
        "X_test, Y_test = prepare_data(testdata, sequence_length)\n",
        "print(X_test)\n"
      ]
    },
    {
      "attachments": {},
      "cell_type": "markdown",
      "metadata": {
        "collapsed": false,
        "id": "ni0z7-6nE4GF"
      },
      "source": [
        "Load Model If Exist Else Skip"
      ]
    },
    {
      "cell_type": "code",
      "execution_count": 6,
      "metadata": {
        "id": "r2Rgm_67E4GG"
      },
      "outputs": [],
      "source": [
        "lstmModel = load_model('Run3.h5')"
      ]
    },
    {
      "attachments": {},
      "cell_type": "markdown",
      "metadata": {
        "collapsed": false,
        "id": "LTA6-JdfE4GG"
      },
      "source": [
        "Configure LSTM Model"
      ]
    },
    {
      "cell_type": "code",
      "execution_count": null,
      "metadata": {
        "id": "F9l3iklHE4GG"
      },
      "outputs": [],
      "source": [
        "lstmModel = Sequential()\n",
        "lstmModel.add(LSTM(32,activation='relu',input_shape=(sequence_length,3), return_sequences=True))\n",
        "lstmModel.add(LSTM(192, activation='relu',return_sequences=True))\n",
        "lstmModel.add(LSTM(64, activation='tanh'))\n",
        "lstmModel.add(Dense(3))\n",
        "optimizer = tf.keras.optimizers.Adam(learning_rate=0.001)\n",
        "lstmModel.compile(loss='mean_squared_error',optimizer=optimizer)"
      ]
    },
    {
      "cell_type": "code",
      "execution_count": null,
      "metadata": {
        "id": "oFwd0MXTSbdU"
      },
      "outputs": [],
      "source": [
        "lstmModel = Sequential()\n",
        "lstmModel.add(LSTM(100,activation='relu',input_shape=(sequence_length,3), return_sequences=True))\n",
        "lstmModel.add(LSTM(100, activation='relu',return_sequences=True))\n",
        "lstmModel.add(LSTM(100, activation='relu'))\n",
        "lstmModel.add(Dense(3))\n",
        "optimizer = tf.keras.optimizers.Adam(learning_rate=0.001)\n",
        "lstmModel.compile(loss='mean_squared_error',optimizer=optimizer)"
      ]
    },
    {
      "cell_type": "code",
      "execution_count": null,
      "metadata": {
        "id": "juFleYqdRYPC"
      },
      "outputs": [],
      "source": [
        "lstmModel = Sequential()\n",
        "lstmModel.add(LSTM(192,activation='relu',input_shape=(sequence_length,3), return_sequences=True))\n",
        "lstmModel.add(LSTM(160, activation='relu',return_sequences=True))\n",
        "lstmModel.add(LSTM(96, activation='tanh'))\n",
        "lstmModel.add(Dense(3))\n",
        "optimizer = tf.keras.optimizers.Adam(learning_rate=0.0001)\n",
        "lstmModel.compile(loss='mean_squared_error',optimizer=optimizer)"
      ]
    },
    {
      "cell_type": "code",
      "execution_count": null,
      "metadata": {
        "id": "NbYsFNOPcAAO"
      },
      "outputs": [],
      "source": [
        "lstmModel = Sequential()\n",
        "lstmModel.add(LSTM(224,activation='relu',input_shape=(sequence_length,3), return_sequences=True))\n",
        "lstmModel.add(LSTM(160, activation='relu',return_sequences=True))\n",
        "lstmModel.add(LSTM(160, activation='relu',return_sequences=True))\n",
        "lstmModel.add(LSTM(96, activation='tanh',return_sequences=True))\n",
        "lstmModel.add(LSTM(160, activation='tanh'))\n",
        "lstmModel.add(Dense(3))\n",
        "optimizer = tf.keras.optimizers.Adam(learning_rate=0.01)\n",
        "lstmModel.compile(loss='mean_squared_error',optimizer=optimizer)\n",
        "lstmModel.fit(X_train, Y_train, epochs=10, validation_data=(X_test,Y_test))"
      ]
    },
    {
      "attachments": {},
      "cell_type": "markdown",
      "metadata": {
        "collapsed": false,
        "id": "XP8zn3OgE4GH"
      },
      "source": [
        "Train model with training dataset sequence"
      ]
    },
    {
      "cell_type": "code",
      "execution_count": null,
      "metadata": {
        "id": "U0ASBNYOE4GH"
      },
      "outputs": [],
      "source": [
        "lstmModel.fit(X_train, Y_train, epochs=20, validation_data=(X_test,Y_test))"
      ]
    },
    {
      "attachments": {},
      "cell_type": "markdown",
      "metadata": {
        "collapsed": false,
        "id": "BvXuLQGME4GI"
      },
      "source": [
        "Test Model with test dataset sequence"
      ]
    },
    {
      "cell_type": "code",
      "execution_count": null,
      "metadata": {
        "colab": {
          "base_uri": "https://localhost:8080/"
        },
        "id": "KGnt-6LpE4GI",
        "outputId": "1baaa6b9-7837-45e3-daf0-5b3f6df41783"
      },
      "outputs": [
        {
          "name": "stdout",
          "output_type": "stream",
          "text": [
            "850/850 [==============================] - 13s 15ms/step\n"
          ]
        }
      ],
      "source": [
        "Y_pred = lstmModel.predict(X_test)\n",
        "#Y_pred = scale.inverse_transform(Y_pred)\n"
      ]
    },
    {
      "attachments": {},
      "cell_type": "markdown",
      "metadata": {
        "collapsed": false,
        "id": "FUs9Q-rYE4GK"
      },
      "source": [
        "Get Mean Squared Error"
      ]
    },
    {
      "cell_type": "code",
      "execution_count": null,
      "metadata": {
        "id": "LsBrrCdsE4GK"
      },
      "outputs": [],
      "source": [
        "mse_values = []\n",
        "rmse_values = []\n",
        "\n",
        "mse = lstmModel.evaluate(X_test, Y_test)\n",
        "rmse = np.sqrt(mse)\n",
        "\n",
        "print('Mean Squared Error:', mse)\n",
        "print('Root Mean Squared Error:', rmse)\n",
        "\n",
        "mse_values.append(mse)\n",
        "rmse_values.append(rmse)\n",
        "\n",
        "# Save MSE and RMSE values to a file\n",
        "with open('mse_rmse_values.txt', 'a') as file:\n",
        "    for mse, rmse in zip(mse_values, rmse_values):\n",
        "        file.write(f'{mse},{rmse}\\n')\n",
        "\n",
        "# Read the saved MSE and RMSE values from the file\n",
        "mse_values = []\n",
        "rmse_values = []\n",
        "\n",
        "with open('mse_rmse_values.txt', 'r') as file:\n",
        "    for line in file:\n",
        "        mse, rmse = line.strip().split(',')\n",
        "        mse_values.append(float(mse))\n",
        "        rmse_values.append(float(rmse))\n",
        "\n",
        "print(mse_values)\n",
        "# Plotting the MSE and RMSE values\n",
        "iterations = range(1, len(mse_values) + 1)\n",
        "\n",
        "plt.plot(iterations, mse_values, label='MSE')\n",
        "plt.plot(iterations, rmse_values, label='RMSE')\n",
        "plt.xlabel('Iteration')\n",
        "plt.ylabel('Error')\n",
        "plt.legend()\n",
        "plt.show()"
      ]
    },
    {
      "attachments": {},
      "cell_type": "markdown",
      "metadata": {
        "collapsed": false,
        "id": "zUB9vZLOE4GK"
      },
      "source": [
        "Save Model"
      ]
    },
    {
      "cell_type": "code",
      "execution_count": null,
      "metadata": {
        "id": "1Rw5dj5DE4GK"
      },
      "outputs": [],
      "source": [
        "print(\"Saving Model\")\n",
        "lstmModel.save('100-100-100.h5')\n",
        "print(\"Model Saved\")"
      ]
    },
    {
      "attachments": {},
      "cell_type": "markdown",
      "metadata": {
        "id": "y0qRjpqc9Hid"
      },
      "source": [
        "Plotting"
      ]
    },
    {
      "cell_type": "code",
      "execution_count": null,
      "metadata": {
        "id": "itK872hsOHIN"
      },
      "outputs": [],
      "source": [
        "Y_test = scale.inverse_transform(Y_test)"
      ]
    },
    {
      "cell_type": "code",
      "execution_count": null,
      "metadata": {
        "id": "YgfL8TGH9HR6"
      },
      "outputs": [],
      "source": [
        "print(Y_test)\n",
        "\n",
        "fig = plt.figure()\n",
        "ax = fig.add_subplot(111, projection='3d')\n",
        "ax.set_xlabel('X')\n",
        "ax.set_ylabel('Y')\n",
        "ax.set_zlabel('Z')\n",
        "\n",
        "ax.scatter(Y_test[:,0], Y_test[:,1], Y_test[:,2], color='b', label='Actual')\n",
        "ax.scatter(Y_pred[:,0], Y_pred[:,1], Y_pred[:,2], color='r',label='Predicted')\n",
        "plt.show()"
      ]
    },
    {
      "attachments": {},
      "cell_type": "markdown",
      "metadata": {
        "id": "XF7BSc0EBoGY"
      },
      "source": [
        "Recursive Prediction"
      ]
    },
    {
      "cell_type": "code",
      "execution_count": 7,
      "metadata": {
        "id": "grQI_GZzBp3I"
      },
      "outputs": [],
      "source": [
        "def recurcivePredict(dataArr,predictedTrajectory):\n",
        "  predictedCord = lstmModel.predict(dataArr)\n",
        "  #print(predictedCord[0][2])\n",
        "  if predictedCord[0][2] > 0 and predictedCord[0][0] > dataArr[0][14][0]:\n",
        "    dataArr = np.delete(dataArr,0,1)\n",
        "    dataArr = np.append(dataArr,[predictedCord],axis=1)\n",
        "    predictedTrajectory = np.append(predictedTrajectory,[predictedCord],axis=1)\n",
        "    return recurcivePredict(dataArr,predictedTrajectory)\n",
        "  else:\n",
        "    return predictedTrajectory\n",
        "\n",
        "# def recurcivePredict(dataArr):\n",
        "#   predictedCord = lstmModel.predict(dataArr)\n",
        "#   print(predictedCord[0][2])\n",
        "#   if predictedCord[0][2] > 0 and predictedCord[0][0] > dataArr[0][-1][0]:\n",
        "#     dataArr = np.append(dataArr,[predictedCord],axis=1)\n",
        "#     return recurcivePredict(dataArr)\n",
        "#   else:\n",
        "#     return dataArr\n",
        "\n",
        "# initialInput = []\n",
        "# initialInput.append(testdata.iloc[40:55][['X', 'Y', 'Z']].values)\n",
        "# initialInput = np.array(initialInput)\n",
        "\n",
        "\n",
        "# trajectory = recurcivePredict(initialInput,initialInput)\n",
        "# print(trajectory)\n",
        "\n"
      ]
    },
    {
      "cell_type": "code",
      "execution_count": null,
      "metadata": {
        "id": "jXjDQAyyBFhO"
      },
      "outputs": [],
      "source": [
        "def predictTrajectory(startIndex, shotid):\n",
        "  testinput = []\n",
        "\n",
        "  testinput.append(data.loc[data['SHOT_ID'] == shotid][['X', 'Y', 'Z']].values)\n",
        "  count = len(testinput[0])\n",
        "  print(count)\n",
        "  for i in range(startIndex,count):\n",
        "    testinput = np.array(testinput)\n",
        "    testdata = [testinput[0,:][i-15:i]]\n",
        "    testdata = np.array(testdata)\n",
        "    trajectory = recurcivePredict(testdata,testdata)\n",
        "    fig = plt.figure()\n",
        "    ax = fig.add_subplot(111, projection='3d')\n",
        "    ax.set_xlabel('X')\n",
        "    ax.set_ylabel('Y')\n",
        "    ax.set_zlabel('Z')\n",
        "    ax.set_title(f\"Predicted Trajectory at {i}\")\n",
        "    ax.scatter(testinput[0,:,0], testinput[0,:,1], testinput[0,:,2], color='b', label='Actual')\n",
        "    ax.scatter(trajectory[0,:,0], trajectory[0,:,1], trajectory[0,:,2], color='r',label='Predicted')\n",
        "    plt.show()\n",
        "    time.sleep(5)\n",
        "\n",
        "predictTrajectory(65,417)"
      ]
    },
    {
      "attachments": {},
      "cell_type": "markdown",
      "metadata": {
        "id": "Lyro5yDul5qo"
      },
      "source": [
        "Comparing Recursive prediction"
      ]
    },
    {
      "cell_type": "code",
      "execution_count": null,
      "metadata": {
        "id": "05DxyddQmPI8"
      },
      "outputs": [],
      "source": [
        "testinput = []\n",
        "testinput.append(data.loc[data['SHOT_ID'] == 461][['X', 'Y', 'Z']].values)\n",
        "testinput = np.array(testinput)\n",
        "print(testinput)"
      ]
    },
    {
      "cell_type": "code",
      "execution_count": null,
      "metadata": {
        "colab": {
          "base_uri": "https://localhost:8080/",
          "height": 415
        },
        "id": "_vrtmziKmEnf",
        "outputId": "f9705606-4afe-4f5a-f0d5-221ae2d5adc1"
      },
      "outputs": [
        {
          "data": {
            "image/png": "[encoded data removed]",
            "text/plain": [
              "<Figure size 640x480 with 1 Axes>"
            ]
          },
          "metadata": {},
          "output_type": "display_data"
        }
      ],
      "source": [
        "fig = plt.figure()\n",
        "ax = fig.add_subplot(111, projection='3d')\n",
        "ax.set_xlabel('X')\n",
        "ax.set_ylabel('Y')\n",
        "ax.set_zlabel('Z')\n",
        "\n",
        "ax.scatter(testinput[0,:,0], testinput[0,:,1], testinput[0,:,2], color='b', label='Actual')\n",
        "ax.scatter(trajectory[0,:,0], trajectory[0,:,1], trajectory[0,:,2], color='r',label='Predicted')\n",
        "plt.show()"
      ]
    }
  ],
  "metadata": {
    "colab": {
      "provenance": []
    },
    "kernelspec": {
      "display_name": "Python 3",
      "language": "python",
      "name": "python3"
    },
    "language_info": {
      "codemirror_mode": {
        "name": "ipython",
        "version": 2
      },
      "file_extension": ".py",
      "mimetype": "text/x-python",
      "name": "python",
      "nbconvert_exporter": "python",
      "pygments_lexer": "ipython2",
      "version": "2.7.6"
    }
  },
  "nbformat": 4,
  "nbformat_minor": 0
}
