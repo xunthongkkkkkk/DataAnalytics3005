{
 "cells": [
  {
   "cell_type": "code",
   "execution_count": 2,
   "metadata": {},
   "outputs": [],
   "source": [
    "import pandas as pd\n",
    "\n",
    "files = ['./badmintondata1_cleaned_data.csv', \n",
    "         './badmintondata2_cleaned_data.csv']\n",
    "\n",
    "df = pd.DataFrame()\n",
    "last_shot_id = 0\n",
    "\n",
    "for file in files:\n",
    "    data = pd.read_csv(file)\n",
    "    # Add the last SHOT_ID to the SHOT_ID column of the current dataframe\n",
    "    data['SHOT_ID'] = data['SHOT_ID'] + last_shot_id\n",
    "    # Update last_shot_id to be the maximum SHOT_ID in the current dataframe\n",
    "    last_shot_id = data['SHOT_ID'].max()\n",
    "    df = pd.concat([df, data], axis=0, ignore_index=True)\n",
    "\n",
    "df.to_csv('merged_datasets.csv', index=False)\n"
   ]
  }
 ],
 "metadata": {
  "kernelspec": {
   "display_name": "Python 3",
   "language": "python",
   "name": "python3"
  },
  "language_info": {
   "codemirror_mode": {
    "name": "ipython",
    "version": 3
   },
   "file_extension": ".py",
   "mimetype": "text/x-python",
   "name": "python",
   "nbconvert_exporter": "python",
   "pygments_lexer": "ipython3",
   "version": "3.9.13"
  },
  "orig_nbformat": 4
 },
 "nbformat": 4,
 "nbformat_minor": 2
}
