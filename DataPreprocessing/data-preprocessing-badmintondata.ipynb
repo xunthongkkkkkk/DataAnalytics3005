{
 "cells": [
  {
   "attachments": {},
   "cell_type": "markdown",
   "id": "f6cff0d4",
   "metadata": {},
   "source": [
    "1. Dimension reduction using Principle Component Analysis(PCA):"
   ]
  },
  {
   "cell_type": "code",
   "execution_count": 1,
   "id": "01b3bb11",
   "metadata": {},
   "outputs": [
    {
     "name": "stdout",
     "output_type": "stream",
     "text": [
      "\n",
      "Cleaned Data:\n",
      "Initial shape: (65006, 10)\n"
     ]
    },
    {
     "data": {
      "text/html": [
       "<div>\n",
       "<style scoped>\n",
       "    .dataframe tbody tr th:only-of-type {\n",
       "        vertical-align: middle;\n",
       "    }\n",
       "\n",
       "    .dataframe tbody tr th {\n",
       "        vertical-align: top;\n",
       "    }\n",
       "\n",
       "    .dataframe thead th {\n",
       "        text-align: right;\n",
       "    }\n",
       "</style>\n",
       "<table border=\"1\" class=\"dataframe\">\n",
       "  <thead>\n",
       "    <tr style=\"text-align: right;\">\n",
       "      <th></th>\n",
       "      <th>SHOT_ID</th>\n",
       "      <th>HUMAN PLAYER POSITION (X) metres</th>\n",
       "      <th>HUMAN PLAYER POSITION (Y) metres</th>\n",
       "      <th>INITITAL VELOCITY OF SHUTTELCOCK(m/s)</th>\n",
       "      <th>INITIAL SHUTTELCOCK FIRING ANGLE (DEGREE)</th>\n",
       "      <th>SHUTTELCOCK SLANT ANGLE TO SIDELINE(DEGREE)</th>\n",
       "      <th>SHUTTLECOCK POSITIION IN AIR(X ) metres</th>\n",
       "      <th>SHUTTLECOCK POSITIION IN AIR(Y) metres</th>\n",
       "      <th>SHUTTLECOCK POSITIION IN AIR(Z) metres</th>\n",
       "      <th>OUT_OF_COURT_SHOTS</th>\n",
       "    </tr>\n",
       "  </thead>\n",
       "  <tbody>\n",
       "    <tr>\n",
       "      <th>0</th>\n",
       "      <td>1</td>\n",
       "      <td>4</td>\n",
       "      <td>1</td>\n",
       "      <td>10</td>\n",
       "      <td>40</td>\n",
       "      <td>0</td>\n",
       "      <td>4.075543</td>\n",
       "      <td>1.000000</td>\n",
       "      <td>1.662912</td>\n",
       "      <td>1</td>\n",
       "    </tr>\n",
       "    <tr>\n",
       "      <th>1</th>\n",
       "      <td>1</td>\n",
       "      <td>4</td>\n",
       "      <td>1</td>\n",
       "      <td>10</td>\n",
       "      <td>40</td>\n",
       "      <td>0</td>\n",
       "      <td>4.152007</td>\n",
       "      <td>1.000000</td>\n",
       "      <td>1.724866</td>\n",
       "      <td>1</td>\n",
       "    </tr>\n",
       "    <tr>\n",
       "      <th>2</th>\n",
       "      <td>1</td>\n",
       "      <td>4</td>\n",
       "      <td>1</td>\n",
       "      <td>10</td>\n",
       "      <td>40</td>\n",
       "      <td>0</td>\n",
       "      <td>4.228906</td>\n",
       "      <td>1.000000</td>\n",
       "      <td>1.788139</td>\n",
       "      <td>1</td>\n",
       "    </tr>\n",
       "    <tr>\n",
       "      <th>3</th>\n",
       "      <td>1</td>\n",
       "      <td>4</td>\n",
       "      <td>1</td>\n",
       "      <td>10</td>\n",
       "      <td>40</td>\n",
       "      <td>0</td>\n",
       "      <td>4.302100</td>\n",
       "      <td>1.000000</td>\n",
       "      <td>1.845245</td>\n",
       "      <td>1</td>\n",
       "    </tr>\n",
       "    <tr>\n",
       "      <th>4</th>\n",
       "      <td>1</td>\n",
       "      <td>4</td>\n",
       "      <td>1</td>\n",
       "      <td>10</td>\n",
       "      <td>40</td>\n",
       "      <td>0</td>\n",
       "      <td>4.376877</td>\n",
       "      <td>1.000000</td>\n",
       "      <td>1.904128</td>\n",
       "      <td>1</td>\n",
       "    </tr>\n",
       "    <tr>\n",
       "      <th>...</th>\n",
       "      <td>...</td>\n",
       "      <td>...</td>\n",
       "      <td>...</td>\n",
       "      <td>...</td>\n",
       "      <td>...</td>\n",
       "      <td>...</td>\n",
       "      <td>...</td>\n",
       "      <td>...</td>\n",
       "      <td>...</td>\n",
       "      <td>...</td>\n",
       "    </tr>\n",
       "    <tr>\n",
       "      <th>65001</th>\n",
       "      <td>448</td>\n",
       "      <td>4</td>\n",
       "      <td>4</td>\n",
       "      <td>10</td>\n",
       "      <td>60</td>\n",
       "      <td>44</td>\n",
       "      <td>8.953783</td>\n",
       "      <td>8.783813</td>\n",
       "      <td>1.096171</td>\n",
       "      <td>0</td>\n",
       "    </tr>\n",
       "    <tr>\n",
       "      <th>65002</th>\n",
       "      <td>448</td>\n",
       "      <td>4</td>\n",
       "      <td>4</td>\n",
       "      <td>10</td>\n",
       "      <td>60</td>\n",
       "      <td>44</td>\n",
       "      <td>8.968729</td>\n",
       "      <td>8.798245</td>\n",
       "      <td>0.870647</td>\n",
       "      <td>0</td>\n",
       "    </tr>\n",
       "    <tr>\n",
       "      <th>65003</th>\n",
       "      <td>448</td>\n",
       "      <td>4</td>\n",
       "      <td>4</td>\n",
       "      <td>10</td>\n",
       "      <td>60</td>\n",
       "      <td>44</td>\n",
       "      <td>8.984867</td>\n",
       "      <td>8.813831</td>\n",
       "      <td>0.639024</td>\n",
       "      <td>0</td>\n",
       "    </tr>\n",
       "    <tr>\n",
       "      <th>65004</th>\n",
       "      <td>448</td>\n",
       "      <td>4</td>\n",
       "      <td>4</td>\n",
       "      <td>10</td>\n",
       "      <td>60</td>\n",
       "      <td>44</td>\n",
       "      <td>9.001328</td>\n",
       "      <td>8.829726</td>\n",
       "      <td>0.398100</td>\n",
       "      <td>0</td>\n",
       "    </tr>\n",
       "    <tr>\n",
       "      <th>65005</th>\n",
       "      <td>448</td>\n",
       "      <td>4</td>\n",
       "      <td>4</td>\n",
       "      <td>10</td>\n",
       "      <td>60</td>\n",
       "      <td>44</td>\n",
       "      <td>9.017476</td>\n",
       "      <td>8.845321</td>\n",
       "      <td>0.153134</td>\n",
       "      <td>0</td>\n",
       "    </tr>\n",
       "  </tbody>\n",
       "</table>\n",
       "<p>65006 rows × 10 columns</p>\n",
       "</div>"
      ],
      "text/plain": [
       "       SHOT_ID  HUMAN PLAYER POSITION (X) metres  \\\n",
       "0            1                                 4   \n",
       "1            1                                 4   \n",
       "2            1                                 4   \n",
       "3            1                                 4   \n",
       "4            1                                 4   \n",
       "...        ...                               ...   \n",
       "65001      448                                 4   \n",
       "65002      448                                 4   \n",
       "65003      448                                 4   \n",
       "65004      448                                 4   \n",
       "65005      448                                 4   \n",
       "\n",
       "       HUMAN PLAYER POSITION (Y) metres  \\\n",
       "0                                     1   \n",
       "1                                     1   \n",
       "2                                     1   \n",
       "3                                     1   \n",
       "4                                     1   \n",
       "...                                 ...   \n",
       "65001                                 4   \n",
       "65002                                 4   \n",
       "65003                                 4   \n",
       "65004                                 4   \n",
       "65005                                 4   \n",
       "\n",
       "       INITITAL VELOCITY OF SHUTTELCOCK(m/s)  \\\n",
       "0                                         10   \n",
       "1                                         10   \n",
       "2                                         10   \n",
       "3                                         10   \n",
       "4                                         10   \n",
       "...                                      ...   \n",
       "65001                                     10   \n",
       "65002                                     10   \n",
       "65003                                     10   \n",
       "65004                                     10   \n",
       "65005                                     10   \n",
       "\n",
       "       INITIAL SHUTTELCOCK FIRING ANGLE (DEGREE)  \\\n",
       "0                                             40   \n",
       "1                                             40   \n",
       "2                                             40   \n",
       "3                                             40   \n",
       "4                                             40   \n",
       "...                                          ...   \n",
       "65001                                         60   \n",
       "65002                                         60   \n",
       "65003                                         60   \n",
       "65004                                         60   \n",
       "65005                                         60   \n",
       "\n",
       "       SHUTTELCOCK SLANT ANGLE TO SIDELINE(DEGREE)  \\\n",
       "0                                                0   \n",
       "1                                                0   \n",
       "2                                                0   \n",
       "3                                                0   \n",
       "4                                                0   \n",
       "...                                            ...   \n",
       "65001                                           44   \n",
       "65002                                           44   \n",
       "65003                                           44   \n",
       "65004                                           44   \n",
       "65005                                           44   \n",
       "\n",
       "       SHUTTLECOCK POSITIION IN AIR(X ) metres  \\\n",
       "0                                     4.075543   \n",
       "1                                     4.152007   \n",
       "2                                     4.228906   \n",
       "3                                     4.302100   \n",
       "4                                     4.376877   \n",
       "...                                        ...   \n",
       "65001                                 8.953783   \n",
       "65002                                 8.968729   \n",
       "65003                                 8.984867   \n",
       "65004                                 9.001328   \n",
       "65005                                 9.017476   \n",
       "\n",
       "       SHUTTLECOCK POSITIION IN AIR(Y) metres  \\\n",
       "0                                    1.000000   \n",
       "1                                    1.000000   \n",
       "2                                    1.000000   \n",
       "3                                    1.000000   \n",
       "4                                    1.000000   \n",
       "...                                       ...   \n",
       "65001                                8.783813   \n",
       "65002                                8.798245   \n",
       "65003                                8.813831   \n",
       "65004                                8.829726   \n",
       "65005                                8.845321   \n",
       "\n",
       "       SHUTTLECOCK POSITIION IN AIR(Z) metres  OUT_OF_COURT_SHOTS  \n",
       "0                                    1.662912                   1  \n",
       "1                                    1.724866                   1  \n",
       "2                                    1.788139                   1  \n",
       "3                                    1.845245                   1  \n",
       "4                                    1.904128                   1  \n",
       "...                                       ...                 ...  \n",
       "65001                                1.096171                   0  \n",
       "65002                                0.870647                   0  \n",
       "65003                                0.639024                   0  \n",
       "65004                                0.398100                   0  \n",
       "65005                                0.153134                   0  \n",
       "\n",
       "[65006 rows x 10 columns]"
      ]
     },
     "execution_count": 1,
     "metadata": {},
     "output_type": "execute_result"
    }
   ],
   "source": [
    "import numpy as np\n",
    "import pandas as pd\n",
    "\n",
    "# Load the data\n",
    "df = pd.read_csv('merged_datasets.csv')\n",
    "print(\"\\nCleaned Data:\")\n",
    "print(f\"Initial shape: {df.shape}\")\n",
    "df"
   ]
  },
  {
   "attachments": {},
   "cell_type": "markdown",
   "id": "b0368951",
   "metadata": {},
   "source": [
    "1a. Splitting the Data into Training and Test Sets"
   ]
  },
  {
   "cell_type": "code",
   "execution_count": 2,
   "id": "5fbc8d90",
   "metadata": {},
   "outputs": [
    {
     "name": "stdout",
     "output_type": "stream",
     "text": [
      "Training set shape: (45504, 5), (45504, 3)\n",
      "Test set shape: (19502, 5), (19502, 3)\n"
     ]
    }
   ],
   "source": [
    "import pandas as pd\n",
    "from sklearn.model_selection import train_test_split\n",
    "from sklearn.preprocessing import StandardScaler\n",
    "from sklearn.decomposition import PCA\n",
    "\n",
    "# Separate predictors (X) and target (y)\n",
    "X = df[['HUMAN PLAYER POSITION (X) metres',\n",
    "               'HUMAN PLAYER POSITION (Y) metres',\n",
    "               'INITITAL VELOCITY OF SHUTTELCOCK(m/s)',\n",
    "               'INITIAL SHUTTELCOCK FIRING ANGLE (DEGREE)',\n",
    "               'SHUTTELCOCK SLANT ANGLE TO SIDELINE(DEGREE)']]\n",
    "\n",
    "y = df[['SHUTTLECOCK POSITIION IN AIR(X ) metres', \n",
    "          'SHUTTLECOCK POSITIION IN AIR(Y) metres', \n",
    "          'SHUTTLECOCK POSITIION IN AIR(Z) metres']]\n",
    "\n",
    "shot_id = df[['SHOT_ID']]\n",
    "out_of_court_shots = df[['OUT_OF_COURT_SHOTS']]\n",
    "\n",
    "# Split into training and testing sets\n",
    "X_train, X_test, y_train, y_test = train_test_split(X, y, test_size=0.3, random_state=42)\n",
    "print(f\"Training set shape: {X_train.shape}, {y_train.shape}\")\n",
    "print(f\"Test set shape: {X_test.shape}, {y_test.shape}\")\n",
    "\n",
    "# Also split the shot_id and out_of_court_shots using the same random_state for correct mapping\n",
    "shot_id_train, shot_id_test = train_test_split(shot_id, test_size=0.3, random_state=42)\n",
    "out_of_court_shots_train, out_of_court_shots_test = train_test_split(out_of_court_shots, test_size=0.3, random_state=42)"
   ]
  },
  {
   "attachments": {},
   "cell_type": "markdown",
   "id": "48b1298a",
   "metadata": {},
   "source": [
    "1b. Standardizing the Training Set Data"
   ]
  },
  {
   "cell_type": "code",
   "execution_count": 3,
   "id": "ac50e8ec",
   "metadata": {},
   "outputs": [],
   "source": [
    "from sklearn.preprocessing import StandardScaler\n",
    "\n",
    "# Standardize the features\n",
    "scaler = StandardScaler()\n",
    "X_train_scaled = scaler.fit_transform(X_train)\n",
    "X_test_scaled = scaler.transform(X_test) \n"
   ]
  },
  {
   "attachments": {},
   "cell_type": "markdown",
   "id": "5e9451c2",
   "metadata": {},
   "source": [
    "1c. Apply PCA to the standardized training set"
   ]
  },
  {
   "cell_type": "code",
   "execution_count": 4,
   "id": "5a3a8e16",
   "metadata": {},
   "outputs": [
    {
     "name": "stdout",
     "output_type": "stream",
     "text": [
      "Variance explained by all the principal components = 100.0\n"
     ]
    }
   ],
   "source": [
    "from sklearn.decomposition import PCA\n",
    "import matplotlib.pyplot as plt\n",
    "\n",
    "# Create a PCA object\n",
    "components = None\n",
    "pca = PCA(n_components = components)\n",
    "\n",
    "# Fit PCA to the training set\n",
    "pca.fit(X_train_scaled)\n",
    "\n",
    "print(\"Variance explained by all the principal components =\", sum(pca.explained_variance_ratio_ * 100))"
   ]
  },
  {
   "cell_type": "code",
   "execution_count": 5,
   "id": "1edd5f86",
   "metadata": {},
   "outputs": [
    {
     "name": "stdout",
     "output_type": "stream",
     "text": [
      "Variances (Percentage):\n",
      "[4.06675236e+01 3.69327805e+01 2.23996959e+01 4.13363032e-33\n",
      " 0.00000000e+00]\n"
     ]
    }
   ],
   "source": [
    "# print the explained variances\n",
    "print(\"Variances (Percentage):\")\n",
    "print(pca.explained_variance_ratio_ * 100)"
   ]
  },
  {
   "cell_type": "code",
   "execution_count": 6,
   "id": "432e64ae",
   "metadata": {},
   "outputs": [
    {
     "name": "stdout",
     "output_type": "stream",
     "text": [
      "Cumulative Variances (Percentage):\n",
      "[ 40.66752357  77.60030408 100.         100.         100.        ]\n"
     ]
    }
   ],
   "source": [
    "print(\"Cumulative Variances (Percentage):\")\n",
    "print(pca.explained_variance_ratio_.cumsum() * 100)"
   ]
  },
  {
   "cell_type": "code",
   "execution_count": 7,
   "id": "f05ef33e",
   "metadata": {},
   "outputs": [
    {
     "data": {
      "text/plain": [
       "Text(0, 0.5, 'Explained variance (%)')"
      ]
     },
     "execution_count": 7,
     "metadata": {},
     "output_type": "execute_result"
    },
    {
     "data": {
      "image/png": "[encoded data removed]",
      "text/plain": [
       "<Figure size 640x480 with 1 Axes>"
      ]
     },
     "metadata": {},
     "output_type": "display_data"
    }
   ],
   "source": [
    "# plot a scree plot\n",
    "components = len(pca.explained_variance_ratio_) \\\n",
    "    if components is None else components\n",
    "plt.plot(range(1,components+1), \n",
    "         np.cumsum(pca.explained_variance_ratio_ * 100))\n",
    "plt.xlabel(\"Number of components\")\n",
    "plt.ylabel(\"Explained variance (%)\")"
   ]
  },
  {
   "cell_type": "code",
   "execution_count": 8,
   "id": "7ad4a43a",
   "metadata": {},
   "outputs": [
    {
     "name": "stdout",
     "output_type": "stream",
     "text": [
      "Cumulative explained variance (%):\n",
      "[ 40.66752357  77.60030408 100.        ]\n",
      "The PCA algorithm found 3 principal components to preserve 95% of the variability in the data.\n"
     ]
    },
    {
     "data": {
      "text/plain": [
       "Text(0, 0.5, 'Explained variance (%)')"
      ]
     },
     "execution_count": 8,
     "metadata": {},
     "output_type": "execute_result"
    },
    {
     "data": {
      "image/png": "[encoded data removed]",
      "text/plain": [
       "<Figure size 640x480 with 1 Axes>"
      ]
     },
     "metadata": {},
     "output_type": "display_data"
    }
   ],
   "source": [
    "from sklearn.decomposition import PCA\n",
    "\n",
    "# Create a PCA object\n",
    "pca = PCA(n_components=3)\n",
    "\n",
    "# Fit PCA to the training set\n",
    "pca.fit(X_train_scaled)\n",
    "\n",
    "print(\"Cumulative explained variance (%):\")\n",
    "print(np.cumsum(pca.explained_variance_ratio_ * 100))\n",
    "\n",
    "components = len(pca.explained_variance_ratio_)\n",
    "print(f\"The PCA algorithm found {components} principal components to preserve 95% of the variability in the data.\")\n",
    "\n",
    "# Make the scree plot\n",
    "plt.plot(range(1, components + 1), np.cumsum(pca.explained_variance_ratio_ * 100))\n",
    "plt.xlabel(\"Number of components\")\n",
    "plt.ylabel(\"Explained variance (%)\")\n",
    "           "
   ]
  },
  {
   "cell_type": "code",
   "execution_count": 9,
   "id": "b7d81f24",
   "metadata": {},
   "outputs": [
    {
     "name": "stdout",
     "output_type": "stream",
     "text": [
      "Top 5 most important features in each component\n",
      "===============================================\n",
      "Component 0: ['INITIAL SHUTTELCOCK FIRING ANGLE (DEGREE)', 'INITITAL VELOCITY OF SHUTTELCOCK(m/s)', 'HUMAN PLAYER POSITION (X) metres', 'HUMAN PLAYER POSITION (Y) metres']\n",
      "Component 1: ['HUMAN PLAYER POSITION (X) metres', 'INITITAL VELOCITY OF SHUTTELCOCK(m/s)', 'INITIAL SHUTTELCOCK FIRING ANGLE (DEGREE)', 'HUMAN PLAYER POSITION (Y) metres']\n",
      "Component 2: ['INITIAL SHUTTELCOCK FIRING ANGLE (DEGREE)', 'INITITAL VELOCITY OF SHUTTELCOCK(m/s)', 'HUMAN PLAYER POSITION (X) metres', 'HUMAN PLAYER POSITION (Y) metres']\n",
      "======================================================================================================================\n",
      "Importance values of all features in each component\n",
      "==================================================\n",
      "Component 0:\n",
      "HUMAN PLAYER POSITION (X) metres: 0.23199805610841304\n",
      "HUMAN PLAYER POSITION (Y) metres: 0.0\n",
      "INITITAL VELOCITY OF SHUTTELCOCK(m/s): 0.6101859019820264\n",
      "INITIAL SHUTTELCOCK FIRING ANGLE (DEGREE): 0.7575289215497311\n",
      "Component 1:\n",
      "HUMAN PLAYER POSITION (X) metres: 0.827449517995961\n",
      "HUMAN PLAYER POSITION (Y) metres: 1.1102230246251565e-16\n",
      "INITITAL VELOCITY OF SHUTTELCOCK(m/s): 0.5332159023316856\n",
      "INITIAL SHUTTELCOCK FIRING ANGLE (DEGREE): 0.1760911601099255\n",
      "Component 2:\n",
      "HUMAN PLAYER POSITION (X) metres: 0.5113748108092245\n",
      "HUMAN PLAYER POSITION (Y) metres: 1.1102230246251565e-16\n",
      "INITITAL VELOCITY OF SHUTTELCOCK(m/s): 0.5859641341609464\n",
      "INITIAL SHUTTELCOCK FIRING ANGLE (DEGREE): 0.6286030833100026\n"
     ]
    }
   ],
   "source": [
    "# Exclude 'SHOT_ID' column from PCA analysis\n",
    "pca_components = abs(pca.components_)[:, 1:]\n",
    "\n",
    "# Print top 5 most important features in each component\n",
    "print('Top 5 most important features in each component')\n",
    "print('===============================================')\n",
    "for row in range(pca_components.shape[0]):\n",
    "    # Get the indices of the top 5 values in each row\n",
    "    indices = np.argsort(-pca_components[row])[:5]\n",
    "    \n",
    "    # Print the top 5 feature names\n",
    "    print(f'Component {row}: {df.columns[indices + 1].to_list()}')\n",
    "\n",
    "print('======================================================================================================================')\n",
    "# Exclude 'SHOT_ID' column from PCA analysis\n",
    "pca_components = abs(pca.components_)[:, 1:]\n",
    "\n",
    "# Print importance values of all features in each component\n",
    "print('Importance values of all features in each component')\n",
    "print('==================================================')\n",
    "for row in range(pca_components.shape[0]):\n",
    "    # Get the importance values of all features in each row\n",
    "    importance_values = pca_components[row]\n",
    "    \n",
    "    # Create a dictionary mapping feature names to importance values\n",
    "    feature_importance = {feature: importance for feature, importance in zip(df.columns[1:], importance_values)}\n",
    "    \n",
    "    # Print all feature names and their importance values in the component\n",
    "    print(f'Component {row}:')\n",
    "    for feature, importance in feature_importance.items():\n",
    "        print(f'{feature}: {importance}')\n"
   ]
  },
  {
   "cell_type": "code",
   "execution_count": 10,
   "id": "1ab09d1e",
   "metadata": {},
   "outputs": [
    {
     "name": "stdout",
     "output_type": "stream",
     "text": [
      "Training set shape: (45504, 3)\n",
      "[[ 0.55455072 -1.57197306 -0.06210476]\n",
      " [ 0.22624186 -0.78511505  0.31204062]\n",
      " [ 1.90058248  1.30570957 -0.51519454]\n",
      " ...\n",
      " [ 1.68747351  2.06578883 -0.04545544]\n",
      " [-1.17917512  0.9626629   0.43897223]\n",
      " [-1.32895662 -0.42360184 -0.97847455]]\n",
      "Test set shape: (19502, 3)\n",
      "[[-0.94877534  0.90910539  0.63015966]\n",
      " [-0.8911754   0.89571601  0.67795652]\n",
      " [-1.67455629 -0.34326558 -1.2652557 ]\n",
      " ...\n",
      " [-0.19424855 -1.39791115 -0.68346391]\n",
      " [ 0.55455072 -1.57197306 -0.06210476]\n",
      " [ 0.47393245 -0.13215081  1.16415458]]\n"
     ]
    }
   ],
   "source": [
    "# Transform both the training set and the test set using the trained PCA object\n",
    "X_train_pca = pca.transform(X_train_scaled)\n",
    "X_test_pca = pca.transform(X_test_scaled)\n",
    "\n",
    "print(f\"Training set shape: {X_train_pca.shape}\")\n",
    "print(X_train_pca)\n",
    "print(f\"Test set shape: {X_test_pca.shape}\")\n",
    "print(X_test_pca)"
   ]
  },
  {
   "cell_type": "code",
   "execution_count": 11,
   "id": "760e90f6",
   "metadata": {},
   "outputs": [
    {
     "name": "stdout",
     "output_type": "stream",
     "text": [
      "The size of the df_pca_train including the label column is: (45504, 8)\n",
      "The size of the df_pca_test including the label column is: (19502, 8)\n"
     ]
    }
   ],
   "source": [
    "# Create a DataFrame from the PCA result\n",
    "df_pca_train = pd.DataFrame(data = X_train_pca, columns = [f\"PC{i+1}\" for i in range(X_train_pca.shape[1])])\n",
    "df_pca_train = pd.concat([df_pca_train, y_train.reset_index(drop=True), shot_id_train.reset_index(drop=True), out_of_court_shots_train.reset_index(drop=True)], axis=1)\n",
    "\n",
    "df_pca_test = pd.DataFrame(data = X_test_pca, columns = [f\"PC{i+1}\" for i in range(X_test_pca.shape[1])])\n",
    "df_pca_test = pd.concat([df_pca_test, y_test.reset_index(drop=True), shot_id_test.reset_index(drop=True), out_of_court_shots_test.reset_index(drop=True)], axis=1)\n",
    "\n",
    "# Reorder the columns to move SHOT_ID to the left-most column\n",
    "cols = df_pca_train.columns.tolist()\n",
    "cols = cols[-2:-1] + cols[:-2] + cols[-1:]\n",
    "df_pca_train = df_pca_train[cols]\n",
    "df_pca_test = df_pca_test[cols]\n",
    "\n",
    "print(f\"The size of the df_pca_train including the label column is: {df_pca_train.shape}\")\n",
    "print(f\"The size of the df_pca_test including the label column is: {df_pca_test.shape}\")"
   ]
  },
  {
   "cell_type": "code",
   "execution_count": 12,
   "id": "2d01cfc1",
   "metadata": {},
   "outputs": [
    {
     "name": "stdout",
     "output_type": "stream",
     "text": [
      "PCA results saved to 'pca_95_badmintondata_train.csv' and 'pca_95_badmintondata_test.csv'\n"
     ]
    }
   ],
   "source": [
    "# Save the PCA result to a CSV file\n",
    "df_pca_train.to_csv(\"pca_95_badmintondata_train.csv\", index=False)\n",
    "df_pca_test.to_csv(\"pca_95_badmintondata_test.csv\", index=False)\n",
    "\n",
    "print(\"PCA results saved to 'pca_95_badmintondata_train.csv' and 'pca_95_badmintondata_test.csv'\")"
   ]
  }
 ],
 "metadata": {
  "kernelspec": {
   "display_name": "Python 3 (ipykernel)",
   "language": "python",
   "name": "python3"
  },
  "language_info": {
   "codemirror_mode": {
    "name": "ipython",
    "version": 3
   },
   "file_extension": ".py",
   "mimetype": "text/x-python",
   "name": "python",
   "nbconvert_exporter": "python",
   "pygments_lexer": "ipython3",
   "version": "3.9.13"
  }
 },
 "nbformat": 4,
 "nbformat_minor": 5
}
